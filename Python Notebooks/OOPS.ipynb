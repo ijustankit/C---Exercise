{
 "cells": [
  {
   "cell_type": "code",
   "execution_count": 4,
   "id": "8e6c74d2",
   "metadata": {},
   "outputs": [],
   "source": [
    "class Student:\n",
    "    pass"
   ]
  },
  {
   "cell_type": "code",
   "execution_count": 5,
   "id": "1527c71f",
   "metadata": {},
   "outputs": [],
   "source": [
    "s1 = Student()\n",
    "s2 = Student()\n",
    "s3 = Student()"
   ]
  },
  {
   "cell_type": "code",
   "execution_count": 8,
   "id": "3a7d2cb7",
   "metadata": {},
   "outputs": [
    {
     "data": {
      "text/plain": [
       "{}"
      ]
     },
     "execution_count": 8,
     "metadata": {},
     "output_type": "execute_result"
    }
   ],
   "source": [
    "s1.__dict__"
   ]
  },
  {
   "cell_type": "markdown",
   "id": "5e4b8994",
   "metadata": {},
   "source": [
    "### We need to understand here that there are two types of attributes:\n",
    "1. class attribute - no_of_students, class_teacher, school_name\n",
    "2. object attribute - name, address, gender"
   ]
  },
  {
   "cell_type": "markdown",
   "id": "e25028f0",
   "metadata": {},
   "source": [
    "## Object attribute "
   ]
  },
  {
   "cell_type": "code",
   "execution_count": 9,
   "id": "0d2561c7",
   "metadata": {},
   "outputs": [],
   "source": [
    "s1.age = 10\n",
    "s1.name = \"ankit\""
   ]
  },
  {
   "cell_type": "code",
   "execution_count": 10,
   "id": "97b345f2",
   "metadata": {},
   "outputs": [],
   "source": [
    "s2.add = \"95/00\""
   ]
  },
  {
   "cell_type": "code",
   "execution_count": 13,
   "id": "636cf49c",
   "metadata": {},
   "outputs": [
    {
     "data": {
      "text/plain": [
       "{'add': '95/00'}"
      ]
     },
     "execution_count": 13,
     "metadata": {},
     "output_type": "execute_result"
    }
   ],
   "source": [
    "s2.__dict__"
   ]
  },
  {
   "cell_type": "code",
   "execution_count": 14,
   "id": "6bcc94c5",
   "metadata": {},
   "outputs": [
    {
     "ename": "AttributeError",
     "evalue": "'Student' object has no attribute 'name'",
     "output_type": "error",
     "traceback": [
      "\u001b[1;31m---------------------------------------------------------------------------\u001b[0m",
      "\u001b[1;31mAttributeError\u001b[0m                            Traceback (most recent call last)",
      "\u001b[1;32m~\\AppData\\Local\\Temp\\ipykernel_14936\\1547413451.py\u001b[0m in \u001b[0;36m<module>\u001b[1;34m\u001b[0m\n\u001b[1;32m----> 1\u001b[1;33m \u001b[0ms2\u001b[0m\u001b[1;33m.\u001b[0m\u001b[0mname\u001b[0m\u001b[1;33m\u001b[0m\u001b[1;33m\u001b[0m\u001b[0m\n\u001b[0m",
      "\u001b[1;31mAttributeError\u001b[0m: 'Student' object has no attribute 'name'"
     ]
    }
   ],
   "source": [
    "s2.name"
   ]
  },
  {
   "cell_type": "markdown",
   "id": "ebef49f9",
   "metadata": {},
   "source": [
    "## Checking has attribute"
   ]
  },
  {
   "cell_type": "code",
   "execution_count": 15,
   "id": "e5a7f8cd",
   "metadata": {},
   "outputs": [
    {
     "data": {
      "text/plain": [
       "False"
      ]
     },
     "execution_count": 15,
     "metadata": {},
     "output_type": "execute_result"
    }
   ],
   "source": [
    "hasattr(s2,\"name\")"
   ]
  },
  {
   "cell_type": "markdown",
   "id": "f33e886c",
   "metadata": {},
   "source": [
    "### NOTE name given in quotes"
   ]
  },
  {
   "cell_type": "markdown",
   "id": "87e66659",
   "metadata": {},
   "source": [
    "1. setattr(object, attr, value)\n",
    "2. delattr(obj,attr)\n",
    "3. getattr(obj,attr,default value)"
   ]
  },
  {
   "cell_type": "code",
   "execution_count": 16,
   "id": "28aaabab",
   "metadata": {},
   "outputs": [
    {
     "data": {
      "text/plain": [
       "'ankit'"
      ]
     },
     "execution_count": 16,
     "metadata": {},
     "output_type": "execute_result"
    }
   ],
   "source": [
    "getattr(s1,\"name\")"
   ]
  },
  {
   "cell_type": "markdown",
   "id": "cadd7c95",
   "metadata": {},
   "source": [
    "### NOTE name given in quotes"
   ]
  },
  {
   "cell_type": "code",
   "execution_count": 17,
   "id": "1e22add5",
   "metadata": {},
   "outputs": [
    {
     "ename": "AttributeError",
     "evalue": "'Student' object has no attribute 'name'",
     "output_type": "error",
     "traceback": [
      "\u001b[1;31m---------------------------------------------------------------------------\u001b[0m",
      "\u001b[1;31mAttributeError\u001b[0m                            Traceback (most recent call last)",
      "\u001b[1;32m~\\AppData\\Local\\Temp\\ipykernel_14936\\3949112502.py\u001b[0m in \u001b[0;36m<module>\u001b[1;34m\u001b[0m\n\u001b[1;32m----> 1\u001b[1;33m \u001b[0mgetattr\u001b[0m\u001b[1;33m(\u001b[0m\u001b[0ms2\u001b[0m\u001b[1;33m,\u001b[0m\u001b[1;34m\"name\"\u001b[0m\u001b[1;33m)\u001b[0m\u001b[1;33m\u001b[0m\u001b[1;33m\u001b[0m\u001b[0m\n\u001b[0m",
      "\u001b[1;31mAttributeError\u001b[0m: 'Student' object has no attribute 'name'"
     ]
    }
   ],
   "source": [
    "getattr(s2,\"name\")"
   ]
  },
  {
   "cell_type": "code",
   "execution_count": 18,
   "id": "81ac56d4",
   "metadata": {},
   "outputs": [
    {
     "data": {
      "text/plain": [
       "'not found'"
      ]
     },
     "execution_count": 18,
     "metadata": {},
     "output_type": "execute_result"
    }
   ],
   "source": [
    "getattr(s2,\"name\",\"not found\")"
   ]
  },
  {
   "cell_type": "markdown",
   "id": "1c265d9d",
   "metadata": {},
   "source": [
    "### NOTE name given in quotes"
   ]
  },
  {
   "cell_type": "code",
   "execution_count": 19,
   "id": "f044946c",
   "metadata": {},
   "outputs": [],
   "source": [
    "delattr(s1,\"name\")"
   ]
  },
  {
   "cell_type": "markdown",
   "id": "55505ec3",
   "metadata": {},
   "source": [
    "### NOTE name given in quotes"
   ]
  },
  {
   "cell_type": "code",
   "execution_count": 20,
   "id": "e0bdb44a",
   "metadata": {},
   "outputs": [
    {
     "data": {
      "text/plain": [
       "{'age': 10}"
      ]
     },
     "execution_count": 20,
     "metadata": {},
     "output_type": "execute_result"
    }
   ],
   "source": [
    "s1.__dict__"
   ]
  },
  {
   "cell_type": "code",
   "execution_count": 21,
   "id": "5db4f773",
   "metadata": {},
   "outputs": [],
   "source": [
    "setattr(s1,\"specific\",10)"
   ]
  },
  {
   "cell_type": "code",
   "execution_count": 22,
   "id": "f691aa45",
   "metadata": {},
   "outputs": [
    {
     "data": {
      "text/plain": [
       "{'age': 10, 'specific': 10}"
      ]
     },
     "execution_count": 22,
     "metadata": {},
     "output_type": "execute_result"
    }
   ],
   "source": [
    "s1.__dict__"
   ]
  },
  {
   "cell_type": "markdown",
   "id": "28a4d0d8",
   "metadata": {},
   "source": [
    "so it can add a  new variable also , if it is not there"
   ]
  },
  {
   "cell_type": "markdown",
   "id": "25d039db",
   "metadata": {},
   "source": [
    "## Class Attributes"
   ]
  },
  {
   "cell_type": "code",
   "execution_count": 23,
   "id": "fe890849",
   "metadata": {},
   "outputs": [],
   "source": [
    "Student.totalStudents = 20"
   ]
  },
  {
   "cell_type": "code",
   "execution_count": 24,
   "id": "74f75704",
   "metadata": {},
   "outputs": [
    {
     "data": {
      "text/plain": [
       "mappingproxy({'__module__': '__main__',\n",
       "              '__dict__': <attribute '__dict__' of 'Student' objects>,\n",
       "              '__weakref__': <attribute '__weakref__' of 'Student' objects>,\n",
       "              '__doc__': None,\n",
       "              'totalStudents': 20})"
      ]
     },
     "execution_count": 24,
     "metadata": {},
     "output_type": "execute_result"
    }
   ],
   "source": [
    "Student.__dict__"
   ]
  },
  {
   "cell_type": "code",
   "execution_count": 25,
   "id": "df8e41c0",
   "metadata": {},
   "outputs": [],
   "source": [
    "class Student:\n",
    "    ##class attributes\n",
    "    totalStudent = 20\n",
    "    classTeacher = \"komal\"\n",
    "    \n",
    "s1 = Student()\n",
    "s2 = Student()"
   ]
  },
  {
   "cell_type": "code",
   "execution_count": 26,
   "id": "384d2eb8",
   "metadata": {},
   "outputs": [
    {
     "data": {
      "text/plain": [
       "mappingproxy({'__module__': '__main__',\n",
       "              'totalStudent': 20,\n",
       "              'classTeacher': 'komal',\n",
       "              '__dict__': <attribute '__dict__' of 'Student' objects>,\n",
       "              '__weakref__': <attribute '__weakref__' of 'Student' objects>,\n",
       "              '__doc__': None})"
      ]
     },
     "execution_count": 26,
     "metadata": {},
     "output_type": "execute_result"
    }
   ],
   "source": [
    "Student.__dict__"
   ]
  },
  {
   "cell_type": "code",
   "execution_count": 28,
   "id": "c1434528",
   "metadata": {},
   "outputs": [
    {
     "name": "stdout",
     "output_type": "stream",
     "text": [
      "{}\n",
      "{}\n"
     ]
    }
   ],
   "source": [
    "print(s1.__dict__)\n",
    "print(s2.__dict__)"
   ]
  },
  {
   "cell_type": "markdown",
   "id": "dfde3eeb",
   "metadata": {},
   "source": [
    "obviously these are empty because only class attribute is there"
   ]
  },
  {
   "cell_type": "markdown",
   "id": "c09c6317",
   "metadata": {},
   "source": [
    "can we access class attr using s1 and s2"
   ]
  },
  {
   "cell_type": "code",
   "execution_count": 29,
   "id": "dcd65f00",
   "metadata": {},
   "outputs": [
    {
     "data": {
      "text/plain": [
       "20"
      ]
     },
     "execution_count": 29,
     "metadata": {},
     "output_type": "execute_result"
    }
   ],
   "source": [
    "s1.totalStudent"
   ]
  },
  {
   "cell_type": "code",
   "execution_count": 30,
   "id": "013d2918",
   "metadata": {},
   "outputs": [
    {
     "data": {
      "text/plain": [
       "20"
      ]
     },
     "execution_count": 30,
     "metadata": {},
     "output_type": "execute_result"
    }
   ],
   "source": [
    "s2.totalStudent"
   ]
  },
  {
   "cell_type": "code",
   "execution_count": 31,
   "id": "b53e68ad",
   "metadata": {},
   "outputs": [
    {
     "data": {
      "text/plain": [
       "20"
      ]
     },
     "execution_count": 31,
     "metadata": {},
     "output_type": "execute_result"
    }
   ],
   "source": [
    "Student.totalStudent"
   ]
  },
  {
   "cell_type": "code",
   "execution_count": 32,
   "id": "4654abeb",
   "metadata": {},
   "outputs": [
    {
     "data": {
      "text/plain": [
       "{}"
      ]
     },
     "execution_count": 32,
     "metadata": {},
     "output_type": "execute_result"
    }
   ],
   "source": [
    "s1.__dict__"
   ]
  },
  {
   "cell_type": "markdown",
   "id": "fbc37eb1",
   "metadata": {},
   "source": [
    "it is still empty because still those are class attributes"
   ]
  },
  {
   "cell_type": "code",
   "execution_count": 33,
   "id": "cae49b18",
   "metadata": {},
   "outputs": [],
   "source": [
    "Student.totalStudent = 30"
   ]
  },
  {
   "cell_type": "code",
   "execution_count": 34,
   "id": "ae8586a3",
   "metadata": {},
   "outputs": [
    {
     "data": {
      "text/plain": [
       "30"
      ]
     },
     "execution_count": 34,
     "metadata": {},
     "output_type": "execute_result"
    }
   ],
   "source": [
    "s1.totalStudent"
   ]
  },
  {
   "cell_type": "code",
   "execution_count": 35,
   "id": "a60b14d4",
   "metadata": {},
   "outputs": [
    {
     "data": {
      "text/plain": [
       "30"
      ]
     },
     "execution_count": 35,
     "metadata": {},
     "output_type": "execute_result"
    }
   ],
   "source": [
    "s2.totalStudent"
   ]
  },
  {
   "cell_type": "markdown",
   "id": "60c36322",
   "metadata": {},
   "source": [
    "Lets try to change class attibute using the object"
   ]
  },
  {
   "cell_type": "code",
   "execution_count": 38,
   "id": "bd262981",
   "metadata": {},
   "outputs": [],
   "source": [
    "s1.totalStudent = 40"
   ]
  },
  {
   "cell_type": "code",
   "execution_count": 39,
   "id": "7718899b",
   "metadata": {},
   "outputs": [
    {
     "name": "stdout",
     "output_type": "stream",
     "text": [
      "40\n",
      "30\n",
      "30\n"
     ]
    }
   ],
   "source": [
    "print(s1.totalStudent)\n",
    "print(s2.totalStudent)\n",
    "print(Student.totalStudent)"
   ]
  },
  {
   "cell_type": "markdown",
   "id": "555f3780",
   "metadata": {},
   "source": [
    "notice only s1 value got changed"
   ]
  },
  {
   "cell_type": "code",
   "execution_count": 40,
   "id": "181a3e67",
   "metadata": {},
   "outputs": [
    {
     "name": "stdout",
     "output_type": "stream",
     "text": [
      "{'totalStudent': 40}\n",
      "{}\n"
     ]
    }
   ],
   "source": [
    "print(s1.__dict__)\n",
    "print(s2.__dict__)\n"
   ]
  },
  {
   "cell_type": "markdown",
   "id": "155a9189",
   "metadata": {},
   "source": [
    "actually it created a object attribute"
   ]
  },
  {
   "cell_type": "markdown",
   "id": "91e8d001",
   "metadata": {},
   "source": [
    "# Methods"
   ]
  },
  {
   "cell_type": "markdown",
   "id": "1b783862",
   "metadata": {},
   "source": [
    " Same like atributes we have,\n",
    " 1. instance methods\n",
    " 2. Class methods\n",
    " 3. Static Methods"
   ]
  },
  {
   "cell_type": "code",
   "execution_count": 41,
   "id": "5b71afd8",
   "metadata": {},
   "outputs": [],
   "source": [
    "class Student:\n",
    "    totalStudents = 20\n",
    "    classTeacherName = \"komal\"\n",
    "    \n",
    "    ##instance methods\n",
    "    def printHello():\n",
    "        print(\"hello\")\n",
    "           \n",
    "s1 = Student()\n",
    "s2 = Student()"
   ]
  },
  {
   "cell_type": "markdown",
   "id": "d5b3e1e8",
   "metadata": {},
   "source": [
    "## notice here,\n",
    "- we have defined a function which looks like class attribute because of the position, but actually it is an instance attribute, this is the way to create instance attribute. \n",
    "(class method creation we will discuss later) "
   ]
  },
  {
   "cell_type": "code",
   "execution_count": 42,
   "id": "5791d088",
   "metadata": {},
   "outputs": [
    {
     "ename": "TypeError",
     "evalue": "printHello() takes 0 positional arguments but 1 was given",
     "output_type": "error",
     "traceback": [
      "\u001b[1;31m---------------------------------------------------------------------------\u001b[0m",
      "\u001b[1;31mTypeError\u001b[0m                                 Traceback (most recent call last)",
      "\u001b[1;32m~\\AppData\\Local\\Temp\\ipykernel_14936\\874451800.py\u001b[0m in \u001b[0;36m<module>\u001b[1;34m\u001b[0m\n\u001b[1;32m----> 1\u001b[1;33m \u001b[0ms1\u001b[0m\u001b[1;33m.\u001b[0m\u001b[0mprintHello\u001b[0m\u001b[1;33m(\u001b[0m\u001b[1;33m)\u001b[0m\u001b[1;33m\u001b[0m\u001b[1;33m\u001b[0m\u001b[0m\n\u001b[0m",
      "\u001b[1;31mTypeError\u001b[0m: printHello() takes 0 positional arguments but 1 was given"
     ]
    }
   ],
   "source": [
    "s1.printHello()"
   ]
  },
  {
   "cell_type": "markdown",
   "id": "442321f5",
   "metadata": {},
   "source": [
    "## it is saying that, we have passed 1 arguement, which we haven't"
   ]
  },
  {
   "cell_type": "markdown",
   "id": "e41f758c",
   "metadata": {},
   "source": [
    "What is happening in the backend is, \n",
    "- when we say s1.printHello(), which is calling a object(instance) method on an object, it is treating it as, Student.printHello(s1)\n",
    "\n",
    "- it is passing the object as parameter"
   ]
  },
  {
   "cell_type": "markdown",
   "id": "3137241f",
   "metadata": {},
   "source": [
    "### Solution\n",
    "- as a solution how we used the keyword \"this\" in the c++, here we use \"self\",\n",
    "- we need to pass this self as an arguement,\n",
    "- we can use any other name in place of self, but it is an standard.\n",
    "- NOTE: we need to use the self keyword while defining an method itself, not using time."
   ]
  },
  {
   "cell_type": "code",
   "execution_count": 44,
   "id": "77a67bc0",
   "metadata": {
    "scrolled": true
   },
   "outputs": [
    {
     "ename": "NameError",
     "evalue": "name 'self' is not defined",
     "output_type": "error",
     "traceback": [
      "\u001b[1;31m---------------------------------------------------------------------------\u001b[0m",
      "\u001b[1;31mNameError\u001b[0m                                 Traceback (most recent call last)",
      "\u001b[1;32m~\\AppData\\Local\\Temp\\ipykernel_14936\\3778566530.py\u001b[0m in \u001b[0;36m<module>\u001b[1;34m\u001b[0m\n\u001b[1;32m----> 1\u001b[1;33m \u001b[0ms1\u001b[0m\u001b[1;33m.\u001b[0m\u001b[0mprintHello\u001b[0m\u001b[1;33m(\u001b[0m\u001b[0mself\u001b[0m\u001b[1;33m)\u001b[0m\u001b[1;33m\u001b[0m\u001b[1;33m\u001b[0m\u001b[0m\n\u001b[0m",
      "\u001b[1;31mNameError\u001b[0m: name 'self' is not defined"
     ]
    }
   ],
   "source": [
    "s1.printHello(self)"
   ]
  },
  {
   "cell_type": "markdown",
   "id": "ada08c9a",
   "metadata": {},
   "source": [
    "- NOTE: we need to use the self keyword while defining an method itself, not using time."
   ]
  },
  {
   "cell_type": "code",
   "execution_count": 49,
   "id": "81091940",
   "metadata": {},
   "outputs": [],
   "source": [
    "class Student:\n",
    "    totalStudents = 20\n",
    "    classTeacherName = \"komal\"\n",
    "    \n",
    "    ##instance methods\n",
    "    def printHello(self):\n",
    "        print(\"hello\")\n",
    "           \n",
    "s1 = Student()\n",
    "s2 = Student()"
   ]
  },
  {
   "cell_type": "code",
   "execution_count": 50,
   "id": "59ac6019",
   "metadata": {},
   "outputs": [
    {
     "name": "stdout",
     "output_type": "stream",
     "text": [
      "hello\n"
     ]
    }
   ],
   "source": [
    "s1.printHello()"
   ]
  },
  {
   "cell_type": "code",
   "execution_count": 51,
   "id": "d07e40d5",
   "metadata": {},
   "outputs": [],
   "source": [
    "class Student:\n",
    "    totalStudents = 20\n",
    "    classTeacherName = \"komal\"\n",
    "    \n",
    "    ##instance methods\n",
    "    def printHello(self):\n",
    "        print(\"hello\")\n",
    "        \n",
    "    def print(self , str):\n",
    "        print(str)\n",
    "           \n",
    "s1 = Student()\n",
    "s2 = Student()"
   ]
  },
  {
   "cell_type": "code",
   "execution_count": 52,
   "id": "c9235052",
   "metadata": {},
   "outputs": [
    {
     "name": "stdout",
     "output_type": "stream",
     "text": [
      "mic check\n"
     ]
    }
   ],
   "source": [
    "s1.print(\"mic check\")"
   ]
  },
  {
   "cell_type": "markdown",
   "id": "7f2202bb",
   "metadata": {},
   "source": [
    "notice, we added self in the newly added print function, we can add any no of arguments, but self should be the first one"
   ]
  },
  {
   "cell_type": "code",
   "execution_count": 53,
   "id": "3fd88f22",
   "metadata": {},
   "outputs": [
    {
     "ename": "TypeError",
     "evalue": "printHello() missing 1 required positional argument: 'self'",
     "output_type": "error",
     "traceback": [
      "\u001b[1;31m---------------------------------------------------------------------------\u001b[0m",
      "\u001b[1;31mTypeError\u001b[0m                                 Traceback (most recent call last)",
      "\u001b[1;32m~\\AppData\\Local\\Temp\\ipykernel_14936\\697236718.py\u001b[0m in \u001b[0;36m<module>\u001b[1;34m\u001b[0m\n\u001b[1;32m----> 1\u001b[1;33m \u001b[0mStudent\u001b[0m\u001b[1;33m.\u001b[0m\u001b[0mprintHello\u001b[0m\u001b[1;33m(\u001b[0m\u001b[1;33m)\u001b[0m\u001b[1;33m\u001b[0m\u001b[1;33m\u001b[0m\u001b[0m\n\u001b[0m",
      "\u001b[1;31mTypeError\u001b[0m: printHello() missing 1 required positional argument: 'self'"
     ]
    }
   ],
   "source": [
    "Student.printHello()"
   ]
  },
  {
   "cell_type": "markdown",
   "id": "661ec073",
   "metadata": {},
   "source": [
    "Why we got this error because it tried with Student.printHello(), but it should be atleast Student.printHello(s1) to work.\n",
    "- so we need to give an object explicitly"
   ]
  },
  {
   "cell_type": "code",
   "execution_count": 22,
   "id": "1382d66a",
   "metadata": {},
   "outputs": [],
   "source": [
    "class Student:\n",
    "    totalStudents = 20\n",
    "    classTeacherName = \"komal\"\n",
    "    \n",
    "    ##instance methods\n",
    "    def printHello(self):\n",
    "        print(\"hello\")\n",
    "        \n",
    "    def print(str):\n",
    "        print(str)\n",
    "           \n",
    "s1 = Student()\n",
    "s2 = Student()"
   ]
  },
  {
   "cell_type": "code",
   "execution_count": 23,
   "id": "e9928e41",
   "metadata": {},
   "outputs": [
    {
     "name": "stdout",
     "output_type": "stream",
     "text": [
      "test\n"
     ]
    }
   ],
   "source": [
    "Student.print(\"test\")"
   ]
  },
  {
   "cell_type": "markdown",
   "id": "32aebc0f",
   "metadata": {},
   "source": [
    "### interesting point: it is treating it as a class function.  #but not recommended"
   ]
  },
  {
   "cell_type": "code",
   "execution_count": 78,
   "id": "d61ebac9",
   "metadata": {},
   "outputs": [],
   "source": [
    "class Student:\n",
    "    totalStudents = 20\n",
    "    classTeacherName = \"komal\"\n",
    "    \n",
    "    ##instance methods\n",
    "    def printHello(self):\n",
    "        print(\"hello\")\n",
    "        \n",
    "    def print(self , str):\n",
    "        print(str)\n",
    "        \n",
    "    def printName(self):\n",
    "        print(self.name)\n",
    "        \n",
    "    def printt(self):\n",
    "        print(self.age)\n",
    "           \n",
    "s1 = Student()\n",
    "s2 = Student()"
   ]
  },
  {
   "cell_type": "markdown",
   "id": "632cca71",
   "metadata": {},
   "source": [
    "### things to notice:\n",
    "- here for printt function, we need to use self.age otherwise we get error called age is not defined and name is not defined etc, \n",
    "- we get this error because in python it treats any variable as local variable first\n",
    "- so we are using self. to say it is an instance attribute,\n",
    "NOTE: i didn't added that property yet still I am able to run this cell.\n",
    "- means in the next cell I am creating those attributes for those ojects."
   ]
  },
  {
   "cell_type": "code",
   "execution_count": 86,
   "id": "9e567b26",
   "metadata": {},
   "outputs": [],
   "source": [
    "s1.name = \"Ankit\"\n",
    "s2.age = 16\n",
    "s1.age = 14\n",
    "s2.name = \"mohit\""
   ]
  },
  {
   "cell_type": "code",
   "execution_count": 80,
   "id": "65e79fa5",
   "metadata": {
    "scrolled": true
   },
   "outputs": [
    {
     "name": "stdout",
     "output_type": "stream",
     "text": [
      "Ankit\n"
     ]
    }
   ],
   "source": [
    "s1.printName()"
   ]
  },
  {
   "cell_type": "code",
   "execution_count": 81,
   "id": "a7ca698a",
   "metadata": {},
   "outputs": [
    {
     "name": "stdout",
     "output_type": "stream",
     "text": [
      "16\n"
     ]
    }
   ],
   "source": [
    "s2.printt()"
   ]
  },
  {
   "cell_type": "code",
   "execution_count": 84,
   "id": "5feeb584",
   "metadata": {},
   "outputs": [
    {
     "name": "stdout",
     "output_type": "stream",
     "text": [
      "14\n"
     ]
    }
   ],
   "source": [
    "s1.printt()"
   ]
  },
  {
   "cell_type": "code",
   "execution_count": 87,
   "id": "76021371",
   "metadata": {},
   "outputs": [
    {
     "name": "stdout",
     "output_type": "stream",
     "text": [
      "mohit\n"
     ]
    }
   ],
   "source": [
    "s2.printName()"
   ]
  },
  {
   "cell_type": "code",
   "execution_count": 100,
   "id": "e01688f5",
   "metadata": {},
   "outputs": [],
   "source": [
    "class Student:\n",
    "    totalStudents = 20\n",
    "    classTeacherName = \"komal\"\n",
    "    \n",
    "    ##instance methods\n",
    "    def printHello(self):\n",
    "        print(\"hello\")\n",
    "        \n",
    "    def print(self , str):\n",
    "        print(str)\n",
    "        \n",
    "    def printName(self):\n",
    "        name = \"abc\"    #added line\n",
    "        print(self.name)\n",
    "        print(name) #added line\n",
    "        \n",
    "    def printt(self):\n",
    "        print(self.age)\n",
    "           \n",
    "s1 = Student()\n",
    "s2 = Student()"
   ]
  },
  {
   "cell_type": "code",
   "execution_count": 101,
   "id": "cf025282",
   "metadata": {},
   "outputs": [],
   "source": [
    "s1.name = \"Ankit\""
   ]
  },
  {
   "cell_type": "code",
   "execution_count": 102,
   "id": "d627a5d9",
   "metadata": {
    "scrolled": true
   },
   "outputs": [
    {
     "name": "stdout",
     "output_type": "stream",
     "text": [
      "Ankit\n",
      "abc\n"
     ]
    }
   ],
   "source": [
    "s1.printName()"
   ]
  },
  {
   "cell_type": "markdown",
   "id": "567d1e79",
   "metadata": {},
   "source": [
    "## more on instance methods"
   ]
  },
  {
   "cell_type": "code",
   "execution_count": 103,
   "id": "9148023f",
   "metadata": {},
   "outputs": [],
   "source": [
    "class Student:\n",
    "    totalStudents = 20\n",
    "    classTeacherName = \"komal\"\n",
    "    \n",
    "    ##instance methods\n",
    "    def printHello(self):\n",
    "        print(\"hello\")\n",
    "        \n",
    "    def print(self , str):\n",
    "        print(str)\n",
    "        \n",
    "    def printName(self):\n",
    "        name = \"abc\"    \n",
    "        print(self.name)\n",
    "        print(name)\n",
    "        \n",
    "    def addName(self, name): #added line  \n",
    "        self.name = name \n",
    "           \n",
    "s1 = Student()\n",
    "s2 = Student()"
   ]
  },
  {
   "cell_type": "code",
   "execution_count": 104,
   "id": "dd023371",
   "metadata": {},
   "outputs": [
    {
     "name": "stdout",
     "output_type": "stream",
     "text": [
      "{}\n",
      "{}\n"
     ]
    }
   ],
   "source": [
    "print(s1.__dict__)\n",
    "print(s2.__dict__)"
   ]
  },
  {
   "cell_type": "code",
   "execution_count": 105,
   "id": "21308fa9",
   "metadata": {},
   "outputs": [],
   "source": [
    "s1.addName(\"mohit\")"
   ]
  },
  {
   "cell_type": "code",
   "execution_count": 106,
   "id": "a47fba71",
   "metadata": {
    "scrolled": true
   },
   "outputs": [
    {
     "name": "stdout",
     "output_type": "stream",
     "text": [
      "{'name': 'mohit'}\n",
      "{}\n"
     ]
    }
   ],
   "source": [
    "print(s1.__dict__)\n",
    "print(s2.__dict__)"
   ]
  },
  {
   "cell_type": "markdown",
   "id": "3ff9f59c",
   "metadata": {},
   "source": [
    "here we didnt have any variable called name in s1. but as we were assigning something in the self.name, new variable got created "
   ]
  },
  {
   "cell_type": "code",
   "execution_count": 107,
   "id": "59683322",
   "metadata": {},
   "outputs": [],
   "source": [
    "s1.addName(\"aman\")"
   ]
  },
  {
   "cell_type": "code",
   "execution_count": 108,
   "id": "5434c947",
   "metadata": {},
   "outputs": [
    {
     "name": "stdout",
     "output_type": "stream",
     "text": [
      "{'name': 'aman'}\n",
      "{}\n"
     ]
    }
   ],
   "source": [
    "print(s1.__dict__)\n",
    "print(s2.__dict__)"
   ]
  },
  {
   "cell_type": "markdown",
   "id": "011efb1b",
   "metadata": {},
   "source": [
    "updated the value of name"
   ]
  },
  {
   "cell_type": "code",
   "execution_count": 109,
   "id": "8ee88934",
   "metadata": {
    "scrolled": true
   },
   "outputs": [
    {
     "ename": "AttributeError",
     "evalue": "'Student' object has no attribute 'name'",
     "output_type": "error",
     "traceback": [
      "\u001b[1;31m---------------------------------------------------------------------------\u001b[0m",
      "\u001b[1;31mAttributeError\u001b[0m                            Traceback (most recent call last)",
      "\u001b[1;32m~\\AppData\\Local\\Temp\\ipykernel_14936\\1201669362.py\u001b[0m in \u001b[0;36m<module>\u001b[1;34m\u001b[0m\n\u001b[1;32m----> 1\u001b[1;33m \u001b[0ms2\u001b[0m\u001b[1;33m.\u001b[0m\u001b[0mprintName\u001b[0m\u001b[1;33m(\u001b[0m\u001b[1;33m)\u001b[0m\u001b[1;33m\u001b[0m\u001b[1;33m\u001b[0m\u001b[0m\n\u001b[0m",
      "\u001b[1;32m~\\AppData\\Local\\Temp\\ipykernel_14936\\1470249944.py\u001b[0m in \u001b[0;36mprintName\u001b[1;34m(self)\u001b[0m\n\u001b[0;32m     12\u001b[0m     \u001b[1;32mdef\u001b[0m \u001b[0mprintName\u001b[0m\u001b[1;33m(\u001b[0m\u001b[0mself\u001b[0m\u001b[1;33m)\u001b[0m\u001b[1;33m:\u001b[0m\u001b[1;33m\u001b[0m\u001b[1;33m\u001b[0m\u001b[0m\n\u001b[0;32m     13\u001b[0m         \u001b[0mname\u001b[0m \u001b[1;33m=\u001b[0m \u001b[1;34m\"abc\"\u001b[0m    \u001b[1;31m#added line\u001b[0m\u001b[1;33m\u001b[0m\u001b[1;33m\u001b[0m\u001b[0m\n\u001b[1;32m---> 14\u001b[1;33m         \u001b[0mprint\u001b[0m\u001b[1;33m(\u001b[0m\u001b[0mself\u001b[0m\u001b[1;33m.\u001b[0m\u001b[0mname\u001b[0m\u001b[1;33m)\u001b[0m\u001b[1;33m\u001b[0m\u001b[1;33m\u001b[0m\u001b[0m\n\u001b[0m\u001b[0;32m     15\u001b[0m         \u001b[0mprint\u001b[0m\u001b[1;33m(\u001b[0m\u001b[0mname\u001b[0m\u001b[1;33m)\u001b[0m \u001b[1;31m#added line\u001b[0m\u001b[1;33m\u001b[0m\u001b[1;33m\u001b[0m\u001b[0m\n\u001b[0;32m     16\u001b[0m \u001b[1;33m\u001b[0m\u001b[0m\n",
      "\u001b[1;31mAttributeError\u001b[0m: 'Student' object has no attribute 'name'"
     ]
    }
   ],
   "source": [
    "s2.printName()"
   ]
  },
  {
   "cell_type": "markdown",
   "id": "08442a8d",
   "metadata": {},
   "source": [
    "because we havent created name attribute for s2 yet"
   ]
  },
  {
   "cell_type": "code",
   "execution_count": 110,
   "id": "1f3f6dea",
   "metadata": {},
   "outputs": [],
   "source": [
    "s2.addName(\"Ankit\")"
   ]
  },
  {
   "cell_type": "code",
   "execution_count": 111,
   "id": "f075de71",
   "metadata": {
    "scrolled": true
   },
   "outputs": [
    {
     "name": "stdout",
     "output_type": "stream",
     "text": [
      "Ankit\n",
      "abc\n"
     ]
    }
   ],
   "source": [
    "s2.printName()"
   ]
  },
  {
   "cell_type": "markdown",
   "id": "317e0c0c",
   "metadata": {},
   "source": [
    "## lets try to fetch the class attribute using instance method"
   ]
  },
  {
   "cell_type": "code",
   "execution_count": 4,
   "id": "a44cb070",
   "metadata": {},
   "outputs": [],
   "source": [
    "class Student:\n",
    "    totalStudents = 20\n",
    "    classTeacherName = \"komal\"\n",
    "    \n",
    "    ##instance methods\n",
    "        \n",
    "    def printName(self):\n",
    "        name = \"abc\"    \n",
    "        print(self.name)\n",
    "        print(name)\n",
    "        \n",
    "    def addName(self, name): #added line  \n",
    "        self.name = name \n",
    "        \n",
    "    def test(self):\n",
    "        print(self.totalStudents)\n",
    "           \n",
    "s1 = Student()\n",
    "s2 = Student()"
   ]
  },
  {
   "cell_type": "code",
   "execution_count": 5,
   "id": "fe6127cf",
   "metadata": {},
   "outputs": [
    {
     "name": "stdout",
     "output_type": "stream",
     "text": [
      "20\n"
     ]
    }
   ],
   "source": [
    "s1.test()"
   ]
  },
  {
   "cell_type": "markdown",
   "id": "5ebc0c45",
   "metadata": {},
   "source": [
    "### NOTE :\n",
    "here we used self, which we use for getting instance attributes, still we got the totalStudents which is dictionary attribute.\n",
    "- what happens in the backend is, it will search for instance attribute first, if it doesn't find this, then it will show class attributes."
   ]
  },
  {
   "cell_type": "code",
   "execution_count": 7,
   "id": "540cfefd",
   "metadata": {},
   "outputs": [],
   "source": [
    "class Student:\n",
    "    totalStudents = 20\n",
    "    classTeacherName = \"komal\"\n",
    "    \n",
    "    ##instance methods\n",
    "        \n",
    "    def printName(self):\n",
    "        name = \"abc\"    \n",
    "        print(self.name)\n",
    "        print(name)\n",
    "        \n",
    "    def addName(self, name): #added line  \n",
    "        self.name = name \n",
    "        \n",
    "    def test(self):\n",
    "        print(self.totalStudents)\n",
    "           \n",
    "s1 = Student()\n",
    "s2 = Student()"
   ]
  },
  {
   "cell_type": "code",
   "execution_count": 8,
   "id": "a4df157e",
   "metadata": {},
   "outputs": [
    {
     "data": {
      "text/plain": [
       "{}"
      ]
     },
     "execution_count": 8,
     "metadata": {},
     "output_type": "execute_result"
    }
   ],
   "source": [
    "s1.__dict__"
   ]
  },
  {
   "cell_type": "code",
   "execution_count": 9,
   "id": "47db9a8a",
   "metadata": {},
   "outputs": [],
   "source": [
    "s1.totalStudents = 50"
   ]
  },
  {
   "cell_type": "code",
   "execution_count": 10,
   "id": "7d659d00",
   "metadata": {},
   "outputs": [
    {
     "data": {
      "text/plain": [
       "{'totalStudents': 50}"
      ]
     },
     "execution_count": 10,
     "metadata": {},
     "output_type": "execute_result"
    }
   ],
   "source": [
    "s1.__dict__"
   ]
  },
  {
   "cell_type": "code",
   "execution_count": 11,
   "id": "82d243ab",
   "metadata": {},
   "outputs": [
    {
     "name": "stdout",
     "output_type": "stream",
     "text": [
      "50\n"
     ]
    }
   ],
   "source": [
    "s1.test()"
   ]
  },
  {
   "cell_type": "markdown",
   "id": "4ac25ae2",
   "metadata": {},
   "source": [
    "- now it will show result as 50 even after using the same function,\n",
    "- earlier it was just showing class attribute because instance attribute was not there with same name."
   ]
  },
  {
   "cell_type": "markdown",
   "id": "d74b2073",
   "metadata": {},
   "source": [
    "### So the correct way is:\n"
   ]
  },
  {
   "cell_type": "code",
   "execution_count": 12,
   "id": "7918f02e",
   "metadata": {},
   "outputs": [],
   "source": [
    "class Student:\n",
    "    totalStudents = 20\n",
    "    classTeacherName = \"komal\"\n",
    "    \n",
    "    ##instance methods\n",
    "        \n",
    "    def printName(self):\n",
    "        name = \"abc\"    \n",
    "        print(self.name)\n",
    "        print(name)\n",
    "        \n",
    "    def addName(self, name):  \n",
    "        self.name = name \n",
    "        \n",
    "    def test(self):\n",
    "        print(Student.totalStudents) #added line \n",
    "           \n",
    "s1 = Student()\n",
    "s2 = Student()"
   ]
  },
  {
   "cell_type": "code",
   "execution_count": 13,
   "id": "f7d1bca6",
   "metadata": {},
   "outputs": [
    {
     "name": "stdout",
     "output_type": "stream",
     "text": [
      "20\n"
     ]
    }
   ],
   "source": [
    "s1.test()"
   ]
  },
  {
   "cell_type": "markdown",
   "id": "862f444a",
   "metadata": {},
   "source": [
    "using class name for getting class attributes, instead of self."
   ]
  },
  {
   "cell_type": "code",
   "execution_count": 14,
   "id": "c89fd79a",
   "metadata": {},
   "outputs": [],
   "source": [
    "class Student:\n",
    "    totalStudents = 20\n",
    "    classTeacherName = \"komal\"\n",
    "    \n",
    "    ##instance methods\n",
    "        \n",
    "    def printName(self):\n",
    "        name = \"abc\"    \n",
    "        print(self.name)\n",
    "        print(name)\n",
    "        \n",
    "    def addName(self, name):  \n",
    "        self.name = name \n",
    "        \n",
    "    def test(self):\n",
    "        Student.totalStudents = 25\n",
    "        print(Student.totalStudents) #added line \n",
    "           \n",
    "s1 = Student()\n",
    "s2 = Student()"
   ]
  },
  {
   "cell_type": "code",
   "execution_count": 15,
   "id": "477eae55",
   "metadata": {},
   "outputs": [
    {
     "name": "stdout",
     "output_type": "stream",
     "text": [
      "25\n"
     ]
    }
   ],
   "source": [
    "s1.test()"
   ]
  },
  {
   "cell_type": "markdown",
   "id": "6f64a149",
   "metadata": {},
   "source": [
    "We can update the value also"
   ]
  },
  {
   "cell_type": "code",
   "execution_count": 16,
   "id": "65925737",
   "metadata": {},
   "outputs": [],
   "source": [
    "class Student:\n",
    "    totalStudents = 20\n",
    "    classTeacherName = \"komal\"\n",
    "    \n",
    "    ##instance methods\n",
    "        \n",
    "    def printName(self):\n",
    "        name = \"abc\"    \n",
    "        print(self.name)\n",
    "        print(name)\n",
    "        \n",
    "    def addName(self, name):  \n",
    "        self.name = name \n",
    "        \n",
    "    def test(self):\n",
    "        Student.totalStudents = 25\n",
    "        print(Student.totalStudents) #added line\n",
    "        Student.test_class = 30\n",
    "           \n",
    "s1 = Student()\n",
    "s2 = Student()"
   ]
  },
  {
   "cell_type": "code",
   "execution_count": 17,
   "id": "8744e644",
   "metadata": {},
   "outputs": [
    {
     "name": "stdout",
     "output_type": "stream",
     "text": [
      "25\n"
     ]
    }
   ],
   "source": [
    "s1.test()"
   ]
  },
  {
   "cell_type": "code",
   "execution_count": 18,
   "id": "9362ad80",
   "metadata": {},
   "outputs": [
    {
     "name": "stdout",
     "output_type": "stream",
     "text": [
      "{'__module__': '__main__', 'totalStudents': 25, 'classTeacherName': 'komal', 'printName': <function Student.printName at 0x0000013A280D4160>, 'addName': <function Student.addName at 0x0000013A280D4700>, 'test': <function Student.test at 0x0000013A280D4040>, '__dict__': <attribute '__dict__' of 'Student' objects>, '__weakref__': <attribute '__weakref__' of 'Student' objects>, '__doc__': None, 'test_class': 30}\n"
     ]
    }
   ],
   "source": [
    "print(Student.__dict__)"
   ]
  },
  {
   "cell_type": "markdown",
   "id": "5b96c560",
   "metadata": {},
   "source": [
    "### we can see class attribute is added."
   ]
  },
  {
   "cell_type": "code",
   "execution_count": 39,
   "id": "bfa95667",
   "metadata": {},
   "outputs": [],
   "source": [
    "class Student:\n",
    "    totalStudents = 20\n",
    "    classTeacherName = \"komal\"\n",
    "    \n",
    "    ##instance methods\n",
    "    def printHello(self):\n",
    "        print(\"hello\")\n",
    "        \n",
    "    def print(self, a):\n",
    "        Student.classTeacherName = a\n",
    "           \n",
    "s1 = Student()\n",
    "s2 = Student()"
   ]
  },
  {
   "cell_type": "code",
   "execution_count": 40,
   "id": "67d5d52e",
   "metadata": {},
   "outputs": [],
   "source": [
    "s1.print(\"check\")"
   ]
  },
  {
   "cell_type": "code",
   "execution_count": 41,
   "id": "09377ae5",
   "metadata": {},
   "outputs": [
    {
     "data": {
      "text/plain": [
       "mappingproxy({'__module__': '__main__',\n",
       "              'totalStudents': 20,\n",
       "              'classTeacherName': 'check',\n",
       "              'printHello': <function __main__.Student.printHello(self)>,\n",
       "              'print': <function __main__.Student.print(self, a)>,\n",
       "              '__dict__': <attribute '__dict__' of 'Student' objects>,\n",
       "              '__weakref__': <attribute '__weakref__' of 'Student' objects>,\n",
       "              '__doc__': None})"
      ]
     },
     "execution_count": 41,
     "metadata": {},
     "output_type": "execute_result"
    }
   ],
   "source": [
    "Student.__dict__"
   ]
  },
  {
   "cell_type": "markdown",
   "id": "d8920b4a",
   "metadata": {},
   "source": [
    "It is best to update class attribute using instance(object) only"
   ]
  },
  {
   "cell_type": "code",
   "execution_count": 42,
   "id": "2c8ada01",
   "metadata": {},
   "outputs": [],
   "source": [
    "class Student:\n",
    "    totalStudents = 20\n",
    "    classTeacherName = \"komal\"\n",
    "    \n",
    "    ##instance methods\n",
    "    def printHello(self):\n",
    "        print(\"hello\")\n",
    "        \n",
    "    def print(self, a):\n",
    "        self.classTeacherName = a\n",
    "           \n",
    "s1 = Student()\n",
    "s2 = Student()"
   ]
  },
  {
   "cell_type": "code",
   "execution_count": 43,
   "id": "13992dfb",
   "metadata": {},
   "outputs": [
    {
     "data": {
      "text/plain": [
       "{}"
      ]
     },
     "execution_count": 43,
     "metadata": {},
     "output_type": "execute_result"
    }
   ],
   "source": [
    "s1.__dict__"
   ]
  },
  {
   "cell_type": "code",
   "execution_count": 44,
   "id": "a1d89099",
   "metadata": {},
   "outputs": [],
   "source": [
    "s1.print(\"ankit\")"
   ]
  },
  {
   "cell_type": "code",
   "execution_count": 45,
   "id": "fcb7ef30",
   "metadata": {},
   "outputs": [
    {
     "data": {
      "text/plain": [
       "{'classTeacherName': 'ankit'}"
      ]
     },
     "execution_count": 45,
     "metadata": {},
     "output_type": "execute_result"
    }
   ],
   "source": [
    "s1.__dict__"
   ]
  },
  {
   "cell_type": "code",
   "execution_count": 46,
   "id": "213f49df",
   "metadata": {},
   "outputs": [
    {
     "data": {
      "text/plain": [
       "mappingproxy({'__module__': '__main__',\n",
       "              'totalStudents': 20,\n",
       "              'classTeacherName': 'komal',\n",
       "              'printHello': <function __main__.Student.printHello(self)>,\n",
       "              'print': <function __main__.Student.print(self, a)>,\n",
       "              '__dict__': <attribute '__dict__' of 'Student' objects>,\n",
       "              '__weakref__': <attribute '__weakref__' of 'Student' objects>,\n",
       "              '__doc__': None})"
      ]
     },
     "execution_count": 46,
     "metadata": {},
     "output_type": "execute_result"
    }
   ],
   "source": [
    "Student.__dict__"
   ]
  },
  {
   "cell_type": "markdown",
   "id": "110154de",
   "metadata": {},
   "source": [
    "I was forgetting concept so I ran again: remember it is creating a attr classTeacherName for s1 also. which was not there"
   ]
  }
 ],
 "metadata": {
  "kernelspec": {
   "display_name": "Python 3 (ipykernel)",
   "language": "python",
   "name": "python3"
  },
  "language_info": {
   "codemirror_mode": {
    "name": "ipython",
    "version": 3
   },
   "file_extension": ".py",
   "mimetype": "text/x-python",
   "name": "python",
   "nbconvert_exporter": "python",
   "pygments_lexer": "ipython3",
   "version": "3.9.13"
  }
 },
 "nbformat": 4,
 "nbformat_minor": 5
}
