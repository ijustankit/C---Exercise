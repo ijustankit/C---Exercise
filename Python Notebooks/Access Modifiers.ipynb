{
 "cells": [
  {
   "cell_type": "markdown",
   "id": "38e8e6f0",
   "metadata": {},
   "source": [
    " ### Types\n",
    " \n",
    " 1. private : we can access method/attr inside class\n",
    " 2. public : everywhere\n",
    " 2. protected : less strict than private and less loose than public : inside class and its subclass"
   ]
  },
  {
   "cell_type": "markdown",
   "id": "956a2336",
   "metadata": {},
   "source": [
    "By default everything is public.\n",
    "- private __ : \n",
    "for abstraction : hiding irrelevant data from outsiders.\n",
    "for security : for hiding sensitive data from outsiders.\n",
    "\n",
    "- protected _"
   ]
  },
  {
   "cell_type": "code",
   "execution_count": 2,
   "id": "65a2af80",
   "metadata": {},
   "outputs": [],
   "source": [
    "class Student:\n",
    "    totalStudents = 20\n",
    "    classTeacherName = \"komal\"\n",
    "    \n",
    "    def __init__ (self,name,age,rn=10):\n",
    "        self.__name = name\n",
    "        self.age = age\n",
    "        self.rollNumber = rn\n",
    "    \n",
    "    def printName(self):\n",
    "        print(self.__name)\n",
    "        \n",
    "    ##instance methods\n",
    "    def printHello(self):\n",
    "        print(\"hello\")\n",
    "        \n",
    "    def print(self, a):\n",
    "        Student.classTeacherName = a\n",
    "           \n",
    "s1 = Student(\"rachit\",15)\n",
    "s2 = Student(\"sandeep\",23,90)"
   ]
  },
  {
   "cell_type": "code",
   "execution_count": 3,
   "id": "c5d9f35c",
   "metadata": {},
   "outputs": [
    {
     "data": {
      "text/plain": [
       "15"
      ]
     },
     "execution_count": 3,
     "metadata": {},
     "output_type": "execute_result"
    }
   ],
   "source": [
    "s1.age"
   ]
  },
  {
   "cell_type": "code",
   "execution_count": 5,
   "id": "24cbe4de",
   "metadata": {},
   "outputs": [
    {
     "data": {
      "text/plain": [
       "10"
      ]
     },
     "execution_count": 5,
     "metadata": {},
     "output_type": "execute_result"
    }
   ],
   "source": [
    "s1.rollNumber"
   ]
  },
  {
   "cell_type": "code",
   "execution_count": 6,
   "id": "d53dcd54",
   "metadata": {},
   "outputs": [
    {
     "ename": "AttributeError",
     "evalue": "'Student' object has no attribute 'name'",
     "output_type": "error",
     "traceback": [
      "\u001b[1;31m---------------------------------------------------------------------------\u001b[0m",
      "\u001b[1;31mAttributeError\u001b[0m                            Traceback (most recent call last)",
      "\u001b[1;32m~\\AppData\\Local\\Temp\\ipykernel_9636\\2835019485.py\u001b[0m in \u001b[0;36m<module>\u001b[1;34m\u001b[0m\n\u001b[1;32m----> 1\u001b[1;33m \u001b[0ms1\u001b[0m\u001b[1;33m.\u001b[0m\u001b[0mname\u001b[0m\u001b[1;33m\u001b[0m\u001b[1;33m\u001b[0m\u001b[0m\n\u001b[0m",
      "\u001b[1;31mAttributeError\u001b[0m: 'Student' object has no attribute 'name'"
     ]
    }
   ],
   "source": [
    "s1.name"
   ]
  },
  {
   "cell_type": "markdown",
   "id": "947d78d7",
   "metadata": {},
   "source": [
    "we get this because name is a private method."
   ]
  },
  {
   "cell_type": "markdown",
   "id": "052ca342",
   "metadata": {},
   "source": [
    "## Getters"
   ]
  },
  {
   "cell_type": "code",
   "execution_count": 12,
   "id": "a1170280",
   "metadata": {},
   "outputs": [],
   "source": [
    "class Student:\n",
    "    totalStudents = 20\n",
    "    classTeacherName = \"komal\"\n",
    "    \n",
    "    def __init__ (self,name,age,rn=10):\n",
    "        self.__name = name\n",
    "        self.age = age\n",
    "        self.rollNumber = rn\n",
    "    \n",
    "    def getName(self):\n",
    "        return self.__name\n",
    "    \n",
    "    def printName(self):\n",
    "        print(self.__name)\n",
    "        \n",
    "    ##instance methods\n",
    "    def printHello(self):\n",
    "        print(\"hello\")\n",
    "        \n",
    "    def print(self, a):\n",
    "        Student.classTeacherName = a\n",
    "           \n",
    "s1 = Student(\"rachit\",15)\n",
    "s2 = Student(\"sandeep\",23,90)"
   ]
  },
  {
   "cell_type": "code",
   "execution_count": 13,
   "id": "cfabef8a",
   "metadata": {},
   "outputs": [
    {
     "name": "stdout",
     "output_type": "stream",
     "text": [
      "rachit\n"
     ]
    }
   ],
   "source": [
    "s1.printName()"
   ]
  },
  {
   "cell_type": "code",
   "execution_count": 14,
   "id": "b93df5fc",
   "metadata": {},
   "outputs": [
    {
     "data": {
      "text/plain": [
       "'rachit'"
      ]
     },
     "execution_count": 14,
     "metadata": {},
     "output_type": "execute_result"
    }
   ],
   "source": [
    "s1.getName()"
   ]
  },
  {
   "cell_type": "markdown",
   "id": "903bd05d",
   "metadata": {},
   "source": [
    "So as we can see can access private attribute with using public funtion. \n",
    "- because private method can be accessed without a class."
   ]
  },
  {
   "cell_type": "markdown",
   "id": "568a7aed",
   "metadata": {},
   "source": [
    "## Setters"
   ]
  },
  {
   "cell_type": "code",
   "execution_count": 19,
   "id": "5b4393c9",
   "metadata": {},
   "outputs": [],
   "source": [
    "class Student:\n",
    "    totalStudents = 20\n",
    "    classTeacherName = \"komal\"\n",
    "    \n",
    "    def __init__ (self,name,age,rn=10):\n",
    "        self.__name = name\n",
    "        self.age = age\n",
    "        self.rollNumber = rn\n",
    "    \n",
    "    def getName(self):\n",
    "        return self.__name\n",
    "    \n",
    "    def printName(self):\n",
    "        print(self.__name)\n",
    "        \n",
    "    #setters\n",
    "    def setName(self,name):\n",
    "        self.__name = name\n",
    "        return self.__name\n",
    "        \n",
    "    ##instance methods\n",
    "    def printHello(self):\n",
    "        print(\"hello\")\n",
    "        \n",
    "    def print(self, a):\n",
    "        Student.classTeacherName = a\n",
    "           \n",
    "s1 = Student(\"rachit\",15)\n",
    "s2 = Student(\"sandeep\",23,90)"
   ]
  },
  {
   "cell_type": "code",
   "execution_count": 20,
   "id": "c2d8f3fa",
   "metadata": {},
   "outputs": [
    {
     "data": {
      "text/plain": [
       "'ankit'"
      ]
     },
     "execution_count": 20,
     "metadata": {},
     "output_type": "execute_result"
    }
   ],
   "source": [
    "s1.setName(\"ankit\")"
   ]
  },
  {
   "cell_type": "code",
   "execution_count": 22,
   "id": "fc35b5e6",
   "metadata": {},
   "outputs": [
    {
     "name": "stdout",
     "output_type": "stream",
     "text": [
      "ankit\n"
     ]
    }
   ],
   "source": [
    "s1.printName()"
   ]
  },
  {
   "cell_type": "markdown",
   "id": "a4696fd0",
   "metadata": {},
   "source": [
    "- What is the point of having setters and getters? or even the private attributes, if we can access them outside.\n",
    "- Solution - we can add alot of validation checks here.\n",
    "lets see"
   ]
  },
  {
   "cell_type": "code",
   "execution_count": 25,
   "id": "c0172459",
   "metadata": {},
   "outputs": [],
   "source": [
    "class Student:\n",
    "    totalStudents = 20\n",
    "    classTeacherName = \"komal\"\n",
    "    \n",
    "    def __init__ (self,name,age,rn=10):\n",
    "        self.__name = name\n",
    "        self.age = age\n",
    "        self.rollNumber = rn\n",
    "    \n",
    "    def getName(self):\n",
    "        return self.__name\n",
    "    \n",
    "    def printName(self):\n",
    "        print(self.__name)\n",
    "        \n",
    "    #setters\n",
    "    def setName(self,name,Gpassword):\n",
    "        self.__password = 4619\n",
    "        if Gpassword ==self.__password:\n",
    "            self.__name = name\n",
    "            print(\"name changed\")\n",
    "        else:\n",
    "            print(\"fuck off\")\n",
    "        \n",
    "    ##instance methods\n",
    "    def printHello(self):\n",
    "        print(\"hello\")\n",
    "        \n",
    "    def print(self, a):\n",
    "        Student.classTeacherName = a\n",
    "           \n",
    "s1 = Student(\"rachit\",15)\n",
    "s2 = Student(\"sandeep\",23,90)"
   ]
  },
  {
   "cell_type": "code",
   "execution_count": 26,
   "id": "6968f25a",
   "metadata": {},
   "outputs": [
    {
     "name": "stdout",
     "output_type": "stream",
     "text": [
      "name changed\n"
     ]
    }
   ],
   "source": [
    "s1.setName(\"mohit\",4619)"
   ]
  },
  {
   "cell_type": "code",
   "execution_count": 27,
   "id": "7ea906b8",
   "metadata": {},
   "outputs": [
    {
     "data": {
      "text/plain": [
       "'mohit'"
      ]
     },
     "execution_count": 27,
     "metadata": {},
     "output_type": "execute_result"
    }
   ],
   "source": [
    "s1.getName()"
   ]
  },
  {
   "cell_type": "code",
   "execution_count": 28,
   "id": "9df2e49b",
   "metadata": {},
   "outputs": [
    {
     "name": "stdout",
     "output_type": "stream",
     "text": [
      "fuck off\n"
     ]
    }
   ],
   "source": [
    "s1.setName(\"kanye\",8435)"
   ]
  },
  {
   "cell_type": "markdown",
   "id": "d623231e",
   "metadata": {},
   "source": [
    "- there is a way in python to access the private property outside the class.\n",
    "- Its called name mangling.\n",
    "- it stores the name as _ClassName__propertyName now."
   ]
  },
  {
   "cell_type": "code",
   "execution_count": 29,
   "id": "6cfbfeb3",
   "metadata": {},
   "outputs": [
    {
     "name": "stdout",
     "output_type": "stream",
     "text": [
      "mohit\n"
     ]
    }
   ],
   "source": [
    "print(s1._Student__name)"
   ]
  },
  {
   "cell_type": "markdown",
   "id": "65c5e4cb",
   "metadata": {},
   "source": [
    "- it says that, this property was not designed to use outside of the class but it you want you can use it. (at your own risk)"
   ]
  },
  {
   "cell_type": "markdown",
   "id": "d4c7a98b",
   "metadata": {},
   "source": [
    "## Problem : "
   ]
  },
  {
   "cell_type": "code",
   "execution_count": 32,
   "id": "005d6bc9",
   "metadata": {},
   "outputs": [
    {
     "name": "stdout",
     "output_type": "stream",
     "text": [
      "1\n"
     ]
    }
   ],
   "source": [
    "class A:\n",
    "    def __init__(self):\n",
    "        self.x=1\n",
    "        self.__y = 1\n",
    "\n",
    "    def getY(self):\n",
    "        return self.__y\n",
    "\n",
    "a = A()\n",
    "a.__y = 45\n",
    "print(a.getY())"
   ]
  },
  {
   "cell_type": "code",
   "execution_count": 33,
   "id": "b1e45be0",
   "metadata": {},
   "outputs": [
    {
     "data": {
      "text/plain": [
       "45"
      ]
     },
     "execution_count": 33,
     "metadata": {},
     "output_type": "execute_result"
    }
   ],
   "source": [
    "a.__y"
   ]
  },
  {
   "cell_type": "markdown",
   "id": "decb5737",
   "metadata": {},
   "source": [
    "- What is happening here is, it will create a private var (_A__y) and assing a value 1 to it.\n",
    "- then a._ _y here, it will create a new instance attribute for a which has the same name __y and set 45.\n",
    "- but self.__y will return 1 only not this 45."
   ]
  },
  {
   "cell_type": "markdown",
   "id": "9cb0aeb3",
   "metadata": {},
   "source": [
    "## Class method and Static method"
   ]
  },
  {
   "cell_type": "code",
   "execution_count": 34,
   "id": "c013d056",
   "metadata": {},
   "outputs": [],
   "source": [
    "class Student:\n",
    "    __totalStudents = 20 #modified line\n",
    "    classTeacherName = \"komal\"\n",
    "    \n",
    "    def __init__ (self,name,age,rn=10):\n",
    "        self.__name = name\n",
    "        self.age = age\n",
    "        self.rollNumber = rn\n",
    "    \n",
    "    def getName(self):\n",
    "        return self.__name\n",
    "    \n",
    "    def printName(self):\n",
    "        print(self.__name)\n",
    "        \n",
    "    #setters\n",
    "    def setName(self,name,Gpassword):\n",
    "        self.__password = 4619\n",
    "        if Gpassword ==self.__password:\n",
    "            self.__name = name\n",
    "            print(\"name changed\")\n",
    "        else:\n",
    "            print(\"fuck off\")\n",
    "        \n",
    "    ##instance methods\n",
    "    def printHello(self):\n",
    "        print(\"hello\")\n",
    "        \n",
    "    def print(self, a):\n",
    "        Student.classTeacherName = a\n",
    "           \n",
    "s1 = Student(\"rachit\",15)\n",
    "s2 = Student(\"sandeep\",23,90)"
   ]
  },
  {
   "cell_type": "code",
   "execution_count": 35,
   "id": "3655f626",
   "metadata": {},
   "outputs": [
    {
     "ename": "AttributeError",
     "evalue": "type object 'Student' has no attribute '__totalStudents'",
     "output_type": "error",
     "traceback": [
      "\u001b[1;31m---------------------------------------------------------------------------\u001b[0m",
      "\u001b[1;31mAttributeError\u001b[0m                            Traceback (most recent call last)",
      "\u001b[1;32m~\\AppData\\Local\\Temp\\ipykernel_9636\\3413231860.py\u001b[0m in \u001b[0;36m<module>\u001b[1;34m\u001b[0m\n\u001b[1;32m----> 1\u001b[1;33m \u001b[0mprint\u001b[0m\u001b[1;33m(\u001b[0m\u001b[0mStudent\u001b[0m\u001b[1;33m.\u001b[0m\u001b[0m__totalStudents\u001b[0m\u001b[1;33m)\u001b[0m\u001b[1;33m\u001b[0m\u001b[1;33m\u001b[0m\u001b[0m\n\u001b[0m",
      "\u001b[1;31mAttributeError\u001b[0m: type object 'Student' has no attribute '__totalStudents'"
     ]
    }
   ],
   "source": [
    "print(Student.__totalStudents)"
   ]
  },
  {
   "cell_type": "code",
   "execution_count": 36,
   "id": "405716fd",
   "metadata": {},
   "outputs": [
    {
     "name": "stdout",
     "output_type": "stream",
     "text": [
      "20\n"
     ]
    }
   ],
   "source": [
    "print(Student._Student__totalStudents)"
   ]
  },
  {
   "cell_type": "markdown",
   "id": "f89b054f",
   "metadata": {},
   "source": [
    "By using name Manling(not recommended)"
   ]
  },
  {
   "cell_type": "code",
   "execution_count": 41,
   "id": "234492de",
   "metadata": {},
   "outputs": [],
   "source": [
    "class Student:\n",
    "    __totalStudents = 20 #modified line\n",
    "    classTeacherName = \"komal\"\n",
    "    \n",
    "    def __init__ (self,name,age,rn=10):\n",
    "        self.__name = name\n",
    "        self.age = age\n",
    "        self.rollNumber = rn\n",
    "    \n",
    "    def getName(self):\n",
    "        return self.__name\n",
    "    \n",
    "    def printName(self):\n",
    "        print(self.__name)\n",
    "    \n",
    "    def getTotalStudent(self):\n",
    "        return Student.__totalStudents\n",
    "        \n",
    "    #setters\n",
    "    def setName(self,name,Gpassword):\n",
    "        self.__password = 4619\n",
    "        if Gpassword ==self.__password:\n",
    "            self.__name = name\n",
    "            print(\"name changed\")\n",
    "        else:\n",
    "            print(\"fuck off\")\n",
    "        \n",
    "    ##instance methods\n",
    "    def printHello(self):\n",
    "        print(\"hello\")\n",
    "        \n",
    "    def print(self, a):\n",
    "        Student.classTeacherName = a\n",
    "           \n",
    "s1 = Student(\"rachit\",15)  \n",
    "s2 = Student(\"sandeep\",23,90)"
   ]
  },
  {
   "cell_type": "code",
   "execution_count": 42,
   "id": "6cc0a4b6",
   "metadata": {},
   "outputs": [
    {
     "data": {
      "text/plain": [
       "<function __main__.Student.getTotalStudent(self)>"
      ]
     },
     "execution_count": 42,
     "metadata": {},
     "output_type": "execute_result"
    }
   ],
   "source": [
    "Student.getTotalStudent"
   ]
  },
  {
   "cell_type": "code",
   "execution_count": 43,
   "id": "5e3753f6",
   "metadata": {},
   "outputs": [
    {
     "name": "stdout",
     "output_type": "stream",
     "text": [
      "20\n",
      "20\n"
     ]
    }
   ],
   "source": [
    "print(Student.getTotalStudent(s1))\n",
    "print(s1.getTotalStudent())"
   ]
  },
  {
   "cell_type": "markdown",
   "id": "b6be3443",
   "metadata": {},
   "source": [
    "Problems we can think here.\n",
    "- def getTotalStudent(self):\n",
    "        return Student.__totalStudents, why should i use self here, for accessing instance? \n",
    "        - why to pass S1, in print(Student.getTotalStudent(s1)), we just want to access a class attribute which should not be bound with objects.\n",
    "        - print(s1.getTotalStudent()) why we are accessing a class attributes using ojects."
   ]
  },
  {
   "cell_type": "code",
   "execution_count": 45,
   "id": "402f275c",
   "metadata": {},
   "outputs": [],
   "source": [
    "class Student:\n",
    "    __totalStudents = 20 #modified line\n",
    "    classTeacherName = \"komal\"\n",
    "    \n",
    "    def __init__ (self,name,age,rn=10):\n",
    "        self.__name = name\n",
    "        self.age = age\n",
    "        self.rollNumber = rn\n",
    "    \n",
    "    def getName(self):\n",
    "        return self.__name\n",
    "    \n",
    "    def printName(self):\n",
    "        print(self.__name)\n",
    "    \n",
    "    @classmethod           #added\n",
    "    def getTotalStudent(cls):      #added\n",
    "        return Student.__totalStudents  #added\n",
    "        \n",
    "    #setters\n",
    "    def setName(self,name,Gpassword):\n",
    "        self.__password = 4619\n",
    "        if Gpassword ==self.__password:\n",
    "            self.__name = name\n",
    "            print(\"name changed\")\n",
    "        else:\n",
    "            print(\"fuck off\")\n",
    "        \n",
    "    ##instance methods\n",
    "    def printHello(self):\n",
    "        print(\"hello\")\n",
    "        \n",
    "    def print(self, a):\n",
    "        Student.classTeacherName = a\n",
    "           \n",
    "s1 = Student(\"rachit\",15)  \n",
    "s2 = Student(\"sandeep\",23,90)"
   ]
  },
  {
   "cell_type": "code",
   "execution_count": 47,
   "id": "d3efde3e",
   "metadata": {},
   "outputs": [
    {
     "data": {
      "text/plain": [
       "20"
      ]
     },
     "execution_count": 47,
     "metadata": {},
     "output_type": "execute_result"
    }
   ],
   "source": [
    "Student.getTotalStudent()"
   ]
  },
  {
   "cell_type": "markdown",
   "id": "1376c4e1",
   "metadata": {},
   "source": [
    "if we use cell decorator @classmethod and then pass the arguement cls instead of self.\n",
    "- it becomes class method\n",
    "- internally in place of cls it is passing Student only. like -> Student.getTotalStudent(Student)"
   ]
  },
  {
   "cell_type": "markdown",
   "id": "c248c0d9",
   "metadata": {},
   "source": [
    "Some things like class methods:\n",
    "    - factory method\n",
    "    - static method\n",
    "    \n",
    "    need to explore"
   ]
  },
  {
   "cell_type": "markdown",
   "id": "b596f3ea",
   "metadata": {},
   "source": [
    "## GPT :\n",
    " static methods are methods that belong to a class rather than an instance of the class. They are defined using the @staticmethod decorator and don't have access to the instance or its attributes. Static methods are primarily used for utility functions that are related to the class but don't depend on the specific state of any particular instance."
   ]
  },
  {
   "cell_type": "code",
   "execution_count": 49,
   "id": "bf6b84d4",
   "metadata": {},
   "outputs": [
    {
     "name": "stdout",
     "output_type": "stream",
     "text": [
      "0\n",
      "0\n",
      "0\n"
     ]
    }
   ],
   "source": [
    "class MyClass:\n",
    "    class_variable = 0  # This is a class variable\n",
    "\n",
    "    def __init__(self, value):\n",
    "        self.instance_variable = value  # This is an instance variable\n",
    "\n",
    "    @staticmethod\n",
    "    def static_method():\n",
    "        # Static methods don't have access to instance variables\n",
    "        # They can access class variables though\n",
    "        return MyClass.class_variable\n",
    "\n",
    "# Creating instances of MyClass\n",
    "obj1 = MyClass(10)\n",
    "obj2 = MyClass(20)\n",
    "\n",
    "# Accessing the static method\n",
    "result = MyClass.static_method()\n",
    "print(result)  # Output: 0\n",
    "\n",
    "# Static methods can also be called using instances, but it's not common\n",
    "result1 = obj1.static_method()\n",
    "result2 = obj2.static_method()\n",
    "print(result1)  # Output: 0\n",
    "print(result2)  # Output: 0"
   ]
  },
  {
   "cell_type": "markdown",
   "id": "17ba3345",
   "metadata": {},
   "source": [
    "factory method havent covered"
   ]
  }
 ],
 "metadata": {
  "kernelspec": {
   "display_name": "Python 3 (ipykernel)",
   "language": "python",
   "name": "python3"
  },
  "language_info": {
   "codemirror_mode": {
    "name": "ipython",
    "version": 3
   },
   "file_extension": ".py",
   "mimetype": "text/x-python",
   "name": "python",
   "nbconvert_exporter": "python",
   "pygments_lexer": "ipython3",
   "version": "3.9.13"
  }
 },
 "nbformat": 4,
 "nbformat_minor": 5
}
