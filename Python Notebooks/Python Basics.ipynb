{
 "cells": [
  {
   "cell_type": "markdown",
   "id": "a2e036e6",
   "metadata": {},
   "source": [
    "## Basics of Python\n",
    " we can write the python codes in our cell, change code to markdown, and simply write.\n",
    " - hit ctrl+Enter to execute code.\n",
    " - Shift+Enter next cell."
   ]
  },
  {
   "cell_type": "markdown",
   "id": "4922db78",
   "metadata": {},
   "source": []
  },
  {
   "cell_type": "code",
   "execution_count": 7,
   "id": "1c675fbd",
   "metadata": {
    "scrolled": true
   },
   "outputs": [
    {
     "name": "stdout",
     "output_type": "stream",
     "text": [
      "AnkitAnkitAnkitAnkitAnkit\n"
     ]
    }
   ],
   "source": [
    "a = \"Ankit\"\n",
    "print(a*5)"
   ]
  },
  {
   "cell_type": "code",
   "execution_count": 10,
   "id": "31fb2e77",
   "metadata": {},
   "outputs": [
    {
     "name": "stdout",
     "output_type": "stream",
     "text": [
      "10\n"
     ]
    }
   ],
   "source": [
    "a = 5\n",
    "a = 10\n",
    "print(a)"
   ]
  },
  {
   "cell_type": "code",
   "execution_count": 13,
   "id": "96a78ded",
   "metadata": {},
   "outputs": [
    {
     "data": {
      "text/plain": [
       "10"
      ]
     },
     "execution_count": 13,
     "metadata": {},
     "output_type": "execute_result"
    }
   ],
   "source": [
    "a"
   ]
  },
  {
   "cell_type": "markdown",
   "id": "3f3ab73b",
   "metadata": {},
   "source": [
    "- variable name cannot start with a DIgit.\n",
    "- Python Comment #\n",
    "- Type command return the data type"
   ]
  },
  {
   "cell_type": "code",
   "execution_count": 16,
   "id": "3bbbb7f6",
   "metadata": {},
   "outputs": [],
   "source": [
    "a = 10\n",
    "a = 78\n",
    "a = \"as\""
   ]
  },
  {
   "cell_type": "code",
   "execution_count": 17,
   "id": "a7dbe19f",
   "metadata": {},
   "outputs": [
    {
     "data": {
      "text/plain": [
       "str"
      ]
     },
     "execution_count": 17,
     "metadata": {},
     "output_type": "execute_result"
    }
   ],
   "source": [
    "type(a)"
   ]
  },
  {
   "cell_type": "code",
   "execution_count": 18,
   "id": "58b20fe8",
   "metadata": {},
   "outputs": [
    {
     "data": {
      "text/plain": [
       "complex"
      ]
     },
     "execution_count": 18,
     "metadata": {},
     "output_type": "execute_result"
    }
   ],
   "source": [
    "a = 5+5j\n",
    "type(a)"
   ]
  },
  {
   "cell_type": "code",
   "execution_count": 2,
   "id": "ae1a4d4b",
   "metadata": {},
   "outputs": [],
   "source": [
    "a = \"Ankit\""
   ]
  },
  {
   "cell_type": "code",
   "execution_count": 5,
   "id": "db94ca3c",
   "metadata": {},
   "outputs": [
    {
     "data": {
      "text/plain": [
       "'Ankit'"
      ]
     },
     "execution_count": 5,
     "metadata": {},
     "output_type": "execute_result"
    }
   ],
   "source": [
    "a"
   ]
  },
  {
   "cell_type": "code",
   "execution_count": 8,
   "id": "36ac98cc",
   "metadata": {},
   "outputs": [
    {
     "data": {
      "text/plain": [
       "str"
      ]
     },
     "execution_count": 8,
     "metadata": {},
     "output_type": "execute_result"
    }
   ],
   "source": [
    "type(a)"
   ]
  },
  {
   "cell_type": "code",
   "execution_count": 11,
   "id": "40d49a87",
   "metadata": {},
   "outputs": [
    {
     "name": "stdout",
     "output_type": "stream",
     "text": [
      "2243800498992\n",
      "2243740457136\n"
     ]
    }
   ],
   "source": [
    "a = \"Ankit\"\n",
    "print(id(a))\n",
    "a = 123\n",
    "print(id(a))"
   ]
  },
  {
   "cell_type": "code",
   "execution_count": 14,
   "id": "12a515d9",
   "metadata": {},
   "outputs": [
    {
     "name": "stdout",
     "output_type": "stream",
     "text": [
      "2243800498992\n"
     ]
    }
   ],
   "source": [
    "b = \"Ankit\"\n",
    "print(id(b))"
   ]
  },
  {
   "cell_type": "markdown",
   "id": "b64cde0a",
   "metadata": {},
   "source": [
    "## Python Numbers\n"
   ]
  },
  {
   "cell_type": "code",
   "execution_count": 18,
   "id": "fc8c1602",
   "metadata": {},
   "outputs": [
    {
     "name": "stdout",
     "output_type": "stream",
     "text": [
      "1\n",
      "2.3\n",
      "(5+3j)\n"
     ]
    }
   ],
   "source": [
    "a= 1\n",
    "b = 2.3\n",
    "c = 5+3j\n",
    "print(a)\n",
    "print(b)\n",
    "print(c)"
   ]
  },
  {
   "cell_type": "code",
   "execution_count": 21,
   "id": "b5d75c3e",
   "metadata": {},
   "outputs": [
    {
     "name": "stdout",
     "output_type": "stream",
     "text": [
      "<class 'int'>\n",
      "<class 'float'>\n",
      "<class 'complex'>\n"
     ]
    }
   ],
   "source": [
    "print(type(a))\n",
    "print(type(b))\n",
    "print(type(c))"
   ]
  },
  {
   "cell_type": "code",
   "execution_count": 25,
   "id": "834d6cec",
   "metadata": {},
   "outputs": [
    {
     "name": "stdout",
     "output_type": "stream",
     "text": [
      "16\n"
     ]
    }
   ],
   "source": [
    "a = 15\n",
    "a = a+1\n",
    "print(a)"
   ]
  },
  {
   "cell_type": "code",
   "execution_count": 29,
   "id": "3862f48f",
   "metadata": {},
   "outputs": [
    {
     "name": "stdout",
     "output_type": "stream",
     "text": [
      "200000000000000000000000000000000000000000000000000000000000000000000002\n"
     ]
    }
   ],
   "source": [
    "a = 100000000000000000000000000000000000000000000000000000000000000000000001\n",
    "b = 2\n",
    "print(a*b)"
   ]
  },
  {
   "cell_type": "code",
   "execution_count": 36,
   "id": "e6cff2e9",
   "metadata": {},
   "outputs": [
    {
     "data": {
      "text/plain": [
       "2.0"
      ]
     },
     "execution_count": 36,
     "metadata": {},
     "output_type": "execute_result"
    }
   ],
   "source": [
    "a = 12\n",
    "b = 6\n",
    "a/b"
   ]
  },
  {
   "cell_type": "code",
   "execution_count": 40,
   "id": "8d2ef97d",
   "metadata": {},
   "outputs": [
    {
     "data": {
      "text/plain": [
       "2"
      ]
     },
     "execution_count": 40,
     "metadata": {},
     "output_type": "execute_result"
    }
   ],
   "source": [
    "a//b"
   ]
  },
  {
   "cell_type": "code",
   "execution_count": 42,
   "id": "a4a72487",
   "metadata": {},
   "outputs": [
    {
     "data": {
      "text/plain": [
       "2985984"
      ]
     },
     "execution_count": 42,
     "metadata": {},
     "output_type": "execute_result"
    }
   ],
   "source": [
    "a**b           #it means 12 to the power 6 or (a to the power b)"
   ]
  },
  {
   "cell_type": "code",
   "execution_count": 44,
   "id": "3b66d6a5",
   "metadata": {},
   "outputs": [
    {
     "data": {
      "text/plain": [
       "0"
      ]
     },
     "execution_count": 44,
     "metadata": {},
     "output_type": "execute_result"
    }
   ],
   "source": [
    "a%b           #remainder"
   ]
  },
  {
   "cell_type": "markdown",
   "id": "f0eac4e7",
   "metadata": {},
   "source": [
    "## Taking Inputs"
   ]
  },
  {
   "cell_type": "code",
   "execution_count": 50,
   "id": "3c9b11d8",
   "metadata": {},
   "outputs": [
    {
     "name": "stdout",
     "output_type": "stream",
     "text": [
      "58\n",
      "age :  58\n"
     ]
    }
   ],
   "source": [
    "age = input()\n",
    "print(\"age : \",age)"
   ]
  },
  {
   "cell_type": "code",
   "execution_count": 54,
   "id": "41b9c2ee",
   "metadata": {},
   "outputs": [
    {
     "name": "stdout",
     "output_type": "stream",
     "text": [
      "10\n",
      "145\n",
      "155\n"
     ]
    }
   ],
   "source": [
    "a = int(input())\n",
    "b = int(input())\n",
    "print(a+b)"
   ]
  },
  {
   "cell_type": "code",
   "execution_count": 57,
   "id": "ae0efe5a",
   "metadata": {},
   "outputs": [
    {
     "name": "stdout",
     "output_type": "stream",
     "text": [
      "10\n"
     ]
    }
   ],
   "source": [
    "a = input()"
   ]
  },
  {
   "cell_type": "code",
   "execution_count": 60,
   "id": "e1ddd512",
   "metadata": {},
   "outputs": [
    {
     "data": {
      "text/plain": [
       "str"
      ]
     },
     "execution_count": 60,
     "metadata": {},
     "output_type": "execute_result"
    }
   ],
   "source": [
    "type(a)"
   ]
  },
  {
   "cell_type": "code",
   "execution_count": 62,
   "id": "d37bd7dc",
   "metadata": {},
   "outputs": [
    {
     "name": "stdout",
     "output_type": "stream",
     "text": [
      "12\n"
     ]
    }
   ],
   "source": [
    "a = float(input())"
   ]
  },
  {
   "cell_type": "code",
   "execution_count": 65,
   "id": "cf171bec",
   "metadata": {},
   "outputs": [
    {
     "name": "stdout",
     "output_type": "stream",
     "text": [
      "12.0\n"
     ]
    }
   ],
   "source": [
    "print(a)"
   ]
  },
  {
   "cell_type": "code",
   "execution_count": 67,
   "id": "e41ec670",
   "metadata": {},
   "outputs": [
    {
     "name": "stdout",
     "output_type": "stream",
     "text": [
      "2.5\n"
     ]
    },
    {
     "data": {
      "text/plain": [
       "str"
      ]
     },
     "execution_count": 67,
     "metadata": {},
     "output_type": "execute_result"
    }
   ],
   "source": [
    "a = \"2.5\"                \n",
    "float(a)\n",
    "print(a)\n",
    "type(a)"
   ]
  },
  {
   "cell_type": "code",
   "execution_count": 78,
   "id": "bfd2c77c",
   "metadata": {},
   "outputs": [
    {
     "name": "stdout",
     "output_type": "stream",
     "text": [
      "2\n"
     ]
    }
   ],
   "source": [
    "a = 2.5                     #getting the integer part by me   \n",
    "z = a//1\n",
    "\n",
    "print(int (z))\n"
   ]
  },
  {
   "cell_type": "code",
   "execution_count": 81,
   "id": "a528db87",
   "metadata": {},
   "outputs": [
    {
     "name": "stdout",
     "output_type": "stream",
     "text": [
      "0.5\n"
     ]
    }
   ],
   "source": [
    "a = 2.5                       #getting the decimal part by me\n",
    "\n",
    "\n",
    "z = a//1\n",
    "y = a -z\n",
    "print(y)"
   ]
  },
  {
   "cell_type": "code",
   "execution_count": 88,
   "id": "c5fcee06",
   "metadata": {
    "scrolled": true
   },
   "outputs": [
    {
     "name": "stdout",
     "output_type": "stream",
     "text": [
      "my age is 3\n"
     ]
    }
   ],
   "source": [
    "a = 3\n",
    "print(\"my age is\",a)\n"
   ]
  },
  {
   "cell_type": "markdown",
   "id": "4f0cd60b",
   "metadata": {},
   "source": [
    "notice above here, if i add a fucntion a there in print, It'll automatically add a space there."
   ]
  },
  {
   "cell_type": "code",
   "execution_count": 6,
   "id": "27973250",
   "metadata": {},
   "outputs": [
    {
     "name": "stdout",
     "output_type": "stream",
     "text": [
      "this is App le.\n"
     ]
    }
   ],
   "source": [
    "print(\"this is App\", end = \" \")\n",
    "print(\"le.\")"
   ]
  },
  {
   "cell_type": "markdown",
   "id": "aa2adb43",
   "metadata": {},
   "source": [
    "## Program to get Average to 3 numbers.\n"
   ]
  },
  {
   "cell_type": "code",
   "execution_count": 9,
   "id": "c275976d",
   "metadata": {},
   "outputs": [
    {
     "name": "stdout",
     "output_type": "stream",
     "text": [
      "12\n",
      "13\n",
      "15\n",
      "Average Marks : 13.333333333333334\n"
     ]
    }
   ],
   "source": [
    "a = int(input())\n",
    "b = int(input())\n",
    "c = int(input())\n",
    "avg = (a+b+c)/3\n",
    "print (\"Average Marks :\",avg)"
   ]
  },
  {
   "cell_type": "code",
   "execution_count": 1,
   "id": "bcc820c5",
   "metadata": {},
   "outputs": [
    {
     "name": "stdout",
     "output_type": "stream",
     "text": [
      "10\n",
      "20\n",
      "30\n",
      "10\n"
     ]
    }
   ],
   "source": [
    "a = int(input())\n",
    "b = int(input())\n",
    "c = int(input())\n",
    "\n",
    "print (c-b)\n",
    "\n"
   ]
  }
 ],
 "metadata": {
  "kernelspec": {
   "display_name": "Python 3 (ipykernel)",
   "language": "python",
   "name": "python3"
  },
  "language_info": {
   "codemirror_mode": {
    "name": "ipython",
    "version": 3
   },
   "file_extension": ".py",
   "mimetype": "text/x-python",
   "name": "python",
   "nbconvert_exporter": "python",
   "pygments_lexer": "ipython3",
   "version": "3.9.13"
  }
 },
 "nbformat": 4,
 "nbformat_minor": 5
}
