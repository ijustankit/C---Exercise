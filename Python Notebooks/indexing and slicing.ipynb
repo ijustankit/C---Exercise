{
 "cells": [
  {
   "cell_type": "code",
   "execution_count": 56,
   "id": "1337571c",
   "metadata": {},
   "outputs": [
    {
     "name": "stdout",
     "output_type": "stream",
     "text": [
      "[1 2 3 4 5]\n",
      "<memory at 0x0000013E1DDD3AC0>\n",
      "5\n",
      "(5,)\n",
      "int32\n",
      "(4,)\n"
     ]
    }
   ],
   "source": [
    "import numpy as np\n",
    "\n",
    "ls = [1,2,3,4,5]\n",
    "a = np.array(ls)\n",
    "\n",
    "print(a)\n",
    "print(a.data)\n",
    "print(a.size)\n",
    "print(a.shape)\n",
    "print(a.dtype)\n",
    "print(a.strides)\n"
   ]
  },
  {
   "cell_type": "code",
   "execution_count": 57,
   "id": "48d95ae4",
   "metadata": {},
   "outputs": [
    {
     "name": "stdout",
     "output_type": "stream",
     "text": [
      "[[1 2 3]\n",
      " [2 3 4]\n",
      " [3 4 5]]\n",
      "<memory at 0x0000013E1C8EA790>\n",
      "9\n",
      "(3, 3)\n",
      "int32\n",
      "(12, 4)\n"
     ]
    }
   ],
   "source": [
    "a = [[1,2,3],[2,3,4],[3,4,5]]\n",
    "b = np.array(a)\n",
    "print(b)\n",
    "print(b.data)\n",
    "print(b.size)\n",
    "print(b.shape)\n",
    "print(b.dtype)\n",
    "print(b.strides)"
   ]
  },
  {
   "cell_type": "markdown",
   "id": "9958d313",
   "metadata": {},
   "source": [
    "first things are pretty self explanatory ,lets talk about the last.\n",
    "- Strides -> it has 2 things is 2d array and 1 thing is 1D array.\n",
    "- first thing says, for reaching next element in that COLOUMN, means 0,0 to 1,0 we need to cross 12 bites (consider pointer is at entry of first element, so 3 jump 4*3)\n",
    "- second thing shows jumping to the next element in that row, we need to cross 4 bytes.\n",
    "\n",
    "NOTE- this 4 bytes can be 8 bytes in other system depending upon system configuration."
   ]
  },
  {
   "cell_type": "markdown",
   "id": "b53b69ac",
   "metadata": {},
   "source": [
    "### SLICING"
   ]
  },
  {
   "cell_type": "markdown",
   "id": "afe6769a",
   "metadata": {},
   "source": [
    "1D array"
   ]
  },
  {
   "cell_type": "code",
   "execution_count": 58,
   "id": "99284da3",
   "metadata": {},
   "outputs": [
    {
     "name": "stdout",
     "output_type": "stream",
     "text": [
      "[1, 2, 3, 4, 5]\n",
      "[2 3 4]\n"
     ]
    }
   ],
   "source": [
    "ls = [1,2,3,4,5]\n",
    "a = np.array(ls)\n",
    "\n",
    "print(ls[0:])\n",
    "print(a[1:4])"
   ]
  },
  {
   "cell_type": "markdown",
   "id": "ea4f0a21",
   "metadata": {},
   "source": [
    "Same way as normal list"
   ]
  },
  {
   "cell_type": "markdown",
   "id": "f16bf652",
   "metadata": {},
   "source": [
    "2D array"
   ]
  },
  {
   "cell_type": "code",
   "execution_count": 59,
   "id": "60f38db0",
   "metadata": {},
   "outputs": [
    {
     "name": "stdout",
     "output_type": "stream",
     "text": [
      "[[1 2 3]\n",
      " [2 3 4]\n",
      " [3 4 5]]\n",
      "4\n",
      "4\n",
      "4\n"
     ]
    }
   ],
   "source": [
    "a = [[1,2,3],[2,3,4],[3,4,5]]\n",
    "b = np.array(a)\n",
    "print(b)\n",
    "print(a[1][2])\n",
    "print(b[1][2])\n",
    "print(b[1,2])   #new way\n",
    "#print(a[1,2])  # not possible with list"
   ]
  },
  {
   "cell_type": "code",
   "execution_count": 60,
   "id": "cfda9035",
   "metadata": {},
   "outputs": [
    {
     "name": "stdout",
     "output_type": "stream",
     "text": [
      "[3, 4]\n",
      "[3 4]\n"
     ]
    }
   ],
   "source": [
    "print(a[2][0:2]) # with list\n",
    "print(b[2][0:2]) #with numpy array"
   ]
  },
  {
   "cell_type": "code",
   "execution_count": 61,
   "id": "535cba48",
   "metadata": {},
   "outputs": [
    {
     "name": "stdout",
     "output_type": "stream",
     "text": [
      "[4, 5]\n",
      "[4 5]\n"
     ]
    }
   ],
   "source": [
    "print(a[2][1:])  #with list\n",
    "print(b[2][1:])  #with numpy array"
   ]
  },
  {
   "cell_type": "code",
   "execution_count": 62,
   "id": "e30e1e2c",
   "metadata": {},
   "outputs": [
    {
     "data": {
      "text/plain": [
       "array([[ 1,  2,  3,  4],\n",
       "       [ 5,  6,  7,  8],\n",
       "       [ 9, 10, 11, 12],\n",
       "       [13, 14, 15, 16]])"
      ]
     },
     "execution_count": 62,
     "metadata": {},
     "output_type": "execute_result"
    }
   ],
   "source": [
    "a = [[1,2,3,4],[5,6,7,8],[9,10,11,12],[13,14,15,16]]\n",
    "b = np.array(a)\n",
    "b"
   ]
  },
  {
   "cell_type": "code",
   "execution_count": 63,
   "id": "8da8d2d4",
   "metadata": {},
   "outputs": [
    {
     "data": {
      "text/plain": [
       "array([10, 11, 12])"
      ]
     },
     "execution_count": 63,
     "metadata": {},
     "output_type": "execute_result"
    }
   ],
   "source": [
    "b[2][1:]"
   ]
  },
  {
   "cell_type": "code",
   "execution_count": 55,
   "id": "03c42950",
   "metadata": {},
   "outputs": [
    {
     "data": {
      "text/plain": [
       "array([10, 11, 12])"
      ]
     },
     "execution_count": 55,
     "metadata": {},
     "output_type": "execute_result"
    }
   ],
   "source": [
    "b[2,1:]  #can be written like this"
   ]
  },
  {
   "cell_type": "markdown",
   "id": "5143cf50",
   "metadata": {},
   "source": [
    "question is, i want 8,12,16 from this now"
   ]
  },
  {
   "cell_type": "code",
   "execution_count": 41,
   "id": "7dfe4111",
   "metadata": {},
   "outputs": [
    {
     "ename": "IndexError",
     "evalue": "index 3 is out of bounds for axis 0 with size 3",
     "output_type": "error",
     "traceback": [
      "\u001b[1;31m---------------------------------------------------------------------------\u001b[0m",
      "\u001b[1;31mIndexError\u001b[0m                                Traceback (most recent call last)",
      "\u001b[1;32m~\\AppData\\Local\\Temp\\ipykernel_19368\\3013550995.py\u001b[0m in \u001b[0;36m<module>\u001b[1;34m\u001b[0m\n\u001b[1;32m----> 1\u001b[1;33m \u001b[0mb\u001b[0m\u001b[1;33m[\u001b[0m\u001b[1;36m1\u001b[0m\u001b[1;33m:\u001b[0m\u001b[1;33m]\u001b[0m\u001b[1;33m[\u001b[0m\u001b[1;36m3\u001b[0m\u001b[1;33m]\u001b[0m\u001b[1;33m\u001b[0m\u001b[1;33m\u001b[0m\u001b[0m\n\u001b[0m",
      "\u001b[1;31mIndexError\u001b[0m: index 3 is out of bounds for axis 0 with size 3"
     ]
    }
   ],
   "source": [
    "b[1:][3]"
   ]
  },
  {
   "cell_type": "markdown",
   "id": "00ce85a7",
   "metadata": {},
   "source": [
    "- so it is throwing error,\n",
    "- lets break it down. "
   ]
  },
  {
   "cell_type": "code",
   "execution_count": 65,
   "id": "f54e9804",
   "metadata": {},
   "outputs": [
    {
     "name": "stdout",
     "output_type": "stream",
     "text": [
      "[[5, 6, 7, 8], [9, 10, 11, 12], [13, 14, 15, 16]]\n",
      "\n",
      "[[ 5  6  7  8]\n",
      " [ 9 10 11 12]\n",
      " [13 14 15 16]]\n"
     ]
    }
   ],
   "source": [
    "print(a[1:])\n",
    "print()\n",
    "print(b[1:])"
   ]
  },
  {
   "cell_type": "markdown",
   "id": "094899b0",
   "metadata": {},
   "source": [
    "now we are accessing 3rd index from here, which is not present ie it has 2 elements."
   ]
  },
  {
   "cell_type": "code",
   "execution_count": 66,
   "id": "00d2fa85",
   "metadata": {},
   "outputs": [
    {
     "name": "stdout",
     "output_type": "stream",
     "text": [
      "[13, 14, 15, 16]\n",
      "\n",
      "[13 14 15 16]\n"
     ]
    }
   ],
   "source": [
    "print(a[1:][2])\n",
    "print()\n",
    "print(b[1:][2])"
   ]
  },
  {
   "cell_type": "markdown",
   "id": "a2298d8b",
   "metadata": {},
   "source": [
    "see the second index"
   ]
  },
  {
   "cell_type": "code",
   "execution_count": 69,
   "id": "0909f219",
   "metadata": {},
   "outputs": [
    {
     "data": {
      "text/plain": [
       "array([ 8, 12, 16])"
      ]
     },
     "execution_count": 69,
     "metadata": {},
     "output_type": "execute_result"
    }
   ],
   "source": [
    "b[1:,3]  #numpy allows this"
   ]
  },
  {
   "cell_type": "code",
   "execution_count": 73,
   "id": "40f8b017",
   "metadata": {},
   "outputs": [
    {
     "ename": "IndexError",
     "evalue": "index 3 is out of bounds for axis 0 with size 3",
     "output_type": "error",
     "traceback": [
      "\u001b[1;31m---------------------------------------------------------------------------\u001b[0m",
      "\u001b[1;31mIndexError\u001b[0m                                Traceback (most recent call last)",
      "\u001b[1;32m~\\AppData\\Local\\Temp\\ipykernel_19368\\3438138081.py\u001b[0m in \u001b[0;36m<module>\u001b[1;34m\u001b[0m\n\u001b[1;32m----> 1\u001b[1;33m \u001b[0mb\u001b[0m\u001b[1;33m[\u001b[0m\u001b[1;36m1\u001b[0m\u001b[1;33m:\u001b[0m\u001b[1;33m]\u001b[0m\u001b[1;33m[\u001b[0m\u001b[1;36m3\u001b[0m\u001b[1;33m]\u001b[0m \u001b[1;31m#same line throws error in list also,\u001b[0m\u001b[1;33m\u001b[0m\u001b[1;33m\u001b[0m\u001b[0m\n\u001b[0m\u001b[0;32m      2\u001b[0m \u001b[1;31m# dont use [ ]\u001b[0m\u001b[1;33m\u001b[0m\u001b[1;33m\u001b[0m\u001b[0m\n",
      "\u001b[1;31mIndexError\u001b[0m: index 3 is out of bounds for axis 0 with size 3"
     ]
    }
   ],
   "source": [
    "b[1:][3] #same line throws error in list also, \n",
    "# dont use [ ]"
   ]
  },
  {
   "cell_type": "code",
   "execution_count": 77,
   "id": "1ae19f28",
   "metadata": {},
   "outputs": [
    {
     "data": {
      "text/plain": [
       "array([[ 6,  7],\n",
       "       [10, 11]])"
      ]
     },
     "execution_count": 77,
     "metadata": {},
     "output_type": "execute_result"
    }
   ],
   "source": [
    "b[1:3,1:3]"
   ]
  },
  {
   "cell_type": "code",
   "execution_count": 79,
   "id": "75c72898",
   "metadata": {},
   "outputs": [
    {
     "data": {
      "text/plain": [
       "array([[ 1,  2,  3,  4],\n",
       "       [ 5,  6,  7,  8],\n",
       "       [ 9, 10, 11, 12],\n",
       "       [13, 14, 15, 16]])"
      ]
     },
     "execution_count": 79,
     "metadata": {},
     "output_type": "execute_result"
    }
   ],
   "source": [
    "b"
   ]
  },
  {
   "cell_type": "code",
   "execution_count": 81,
   "id": "6a1dd3e7",
   "metadata": {},
   "outputs": [
    {
     "data": {
      "text/plain": [
       "array([ 9, 10, 11])"
      ]
     },
     "execution_count": 81,
     "metadata": {},
     "output_type": "execute_result"
    }
   ],
   "source": [
    "b[2,0:3]"
   ]
  },
  {
   "cell_type": "code",
   "execution_count": 82,
   "id": "47a65b69",
   "metadata": {},
   "outputs": [
    {
     "data": {
      "text/plain": [
       "array([ 7, 11, 15])"
      ]
     },
     "execution_count": 82,
     "metadata": {},
     "output_type": "execute_result"
    }
   ],
   "source": [
    "b[1:,2]"
   ]
  }
 ],
 "metadata": {
  "kernelspec": {
   "display_name": "Python 3 (ipykernel)",
   "language": "python",
   "name": "python3"
  },
  "language_info": {
   "codemirror_mode": {
    "name": "ipython",
    "version": 3
   },
   "file_extension": ".py",
   "mimetype": "text/x-python",
   "name": "python",
   "nbconvert_exporter": "python",
   "pygments_lexer": "ipython3",
   "version": "3.9.13"
  }
 },
 "nbformat": 4,
 "nbformat_minor": 5
}
