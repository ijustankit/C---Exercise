{
 "cells": [
  {
   "cell_type": "markdown",
   "id": "79048405",
   "metadata": {},
   "source": [
    "Syntax : {}"
   ]
  },
  {
   "cell_type": "code",
   "execution_count": 224,
   "id": "5908fc1e",
   "metadata": {
    "scrolled": true
   },
   "outputs": [
    {
     "data": {
      "text/plain": [
       "dict"
      ]
     },
     "execution_count": 224,
     "metadata": {},
     "output_type": "execute_result"
    }
   ],
   "source": [
    "a = {}\n",
    "type(a)"
   ]
  },
  {
   "cell_type": "code",
   "execution_count": 225,
   "id": "4107ae8a",
   "metadata": {},
   "outputs": [],
   "source": [
    "a = {\"a\":2,\"b\":3,3:\"c\"}"
   ]
  },
  {
   "cell_type": "code",
   "execution_count": 226,
   "id": "13caf6f9",
   "metadata": {},
   "outputs": [
    {
     "data": {
      "text/plain": [
       "{'a': 2, 'b': 3, 3: 'c'}"
      ]
     },
     "execution_count": 226,
     "metadata": {},
     "output_type": "execute_result"
    }
   ],
   "source": [
    "a"
   ]
  },
  {
   "cell_type": "markdown",
   "id": "ef09e805",
   "metadata": {},
   "source": [
    "if we want to use index 1000, then we will be using an array with index 1001 atleat to store it to that index."
   ]
  },
  {
   "cell_type": "code",
   "execution_count": 227,
   "id": "176a02d8",
   "metadata": {},
   "outputs": [
    {
     "data": {
      "text/plain": [
       "3"
      ]
     },
     "execution_count": 227,
     "metadata": {},
     "output_type": "execute_result"
    }
   ],
   "source": [
    " len(a)"
   ]
  },
  {
   "cell_type": "code",
   "execution_count": 228,
   "id": "ed3f78e7",
   "metadata": {},
   "outputs": [],
   "source": [
    "b = a.copy()"
   ]
  },
  {
   "cell_type": "code",
   "execution_count": 229,
   "id": "a245a281",
   "metadata": {},
   "outputs": [
    {
     "data": {
      "text/plain": [
       "{'a': 2, 'b': 3, 3: 'c'}"
      ]
     },
     "execution_count": 229,
     "metadata": {},
     "output_type": "execute_result"
    }
   ],
   "source": [
    "b"
   ]
  },
  {
   "cell_type": "code",
   "execution_count": 230,
   "id": "609871f5",
   "metadata": {},
   "outputs": [
    {
     "data": {
      "text/plain": [
       "2058090016000"
      ]
     },
     "execution_count": 230,
     "metadata": {},
     "output_type": "execute_result"
    }
   ],
   "source": [
    "id(a)"
   ]
  },
  {
   "cell_type": "code",
   "execution_count": 231,
   "id": "068d9c26",
   "metadata": {},
   "outputs": [
    {
     "data": {
      "text/plain": [
       "2058073290048"
      ]
     },
     "execution_count": 231,
     "metadata": {},
     "output_type": "execute_result"
    }
   ],
   "source": [
    "id(b)"
   ]
  },
  {
   "cell_type": "markdown",
   "id": "4e31d24f",
   "metadata": {},
   "source": [
    "having different id's"
   ]
  },
  {
   "cell_type": "markdown",
   "id": "71e476c1",
   "metadata": {},
   "source": [
    "### Another way of making dictionary"
   ]
  },
  {
   "cell_type": "code",
   "execution_count": 232,
   "id": "cf460cc3",
   "metadata": {},
   "outputs": [
    {
     "data": {
      "text/plain": [
       "[('a', 1), ('b', 2), ('c', 3)]"
      ]
     },
     "execution_count": 232,
     "metadata": {},
     "output_type": "execute_result"
    }
   ],
   "source": [
    "c = [(\"a\",1),(\"b\",2),(\"c\",3)]\n",
    "c"
   ]
  },
  {
   "cell_type": "code",
   "execution_count": 233,
   "id": "e3b619d1",
   "metadata": {},
   "outputs": [
    {
     "data": {
      "text/plain": [
       "list"
      ]
     },
     "execution_count": 233,
     "metadata": {},
     "output_type": "execute_result"
    }
   ],
   "source": [
    "type(c)"
   ]
  },
  {
   "cell_type": "code",
   "execution_count": 234,
   "id": "d3c1123d",
   "metadata": {},
   "outputs": [
    {
     "data": {
      "text/plain": [
       "tuple"
      ]
     },
     "execution_count": 234,
     "metadata": {},
     "output_type": "execute_result"
    }
   ],
   "source": [
    "type(c[0])"
   ]
  },
  {
   "cell_type": "markdown",
   "id": "4164f37e",
   "metadata": {},
   "source": [
    "this doesn't work because its just a list of tuple.\n",
    "to access the elements in here we can use something like this."
   ]
  },
  {
   "cell_type": "code",
   "execution_count": 235,
   "id": "a23ad5de",
   "metadata": {},
   "outputs": [
    {
     "name": "stdout",
     "output_type": "stream",
     "text": [
      "1\n",
      "2\n"
     ]
    }
   ],
   "source": [
    "c = [(\"a\", 1), (\"b\", 2), (\"c\", 3)]\n",
    "for key, value in c:\n",
    "    if key == \"a\":\n",
    "        print(value)  # Outputs: 1\n",
    "    elif key == \"b\":\n",
    "        print(value)"
   ]
  },
  {
   "cell_type": "code",
   "execution_count": 236,
   "id": "aea0949c",
   "metadata": {},
   "outputs": [],
   "source": [
    "c = dict([(\"a\",1),(\"b\",2),(\"c\",3)])"
   ]
  },
  {
   "cell_type": "markdown",
   "id": "5794a313",
   "metadata": {},
   "source": [
    "note we are using dict() function here, in which we are passing the list of tuple pairs."
   ]
  },
  {
   "cell_type": "code",
   "execution_count": 237,
   "id": "9cb381e0",
   "metadata": {},
   "outputs": [
    {
     "data": {
      "text/plain": [
       "dict"
      ]
     },
     "execution_count": 237,
     "metadata": {},
     "output_type": "execute_result"
    }
   ],
   "source": [
    "type(c)"
   ]
  },
  {
   "cell_type": "code",
   "execution_count": 238,
   "id": "36f9e605",
   "metadata": {},
   "outputs": [
    {
     "data": {
      "text/plain": [
       "{'a': 1, 'b': 2, 'c': 3}"
      ]
     },
     "execution_count": 238,
     "metadata": {},
     "output_type": "execute_result"
    }
   ],
   "source": [
    "c"
   ]
  },
  {
   "cell_type": "code",
   "execution_count": 239,
   "id": "af2e1d80",
   "metadata": {},
   "outputs": [
    {
     "data": {
      "text/plain": [
       "1"
      ]
     },
     "execution_count": 239,
     "metadata": {},
     "output_type": "execute_result"
    }
   ],
   "source": [
    "c['a']"
   ]
  },
  {
   "cell_type": "markdown",
   "id": "8e2fa426",
   "metadata": {},
   "source": [
    "Another way"
   ]
  },
  {
   "cell_type": "code",
   "execution_count": 240,
   "id": "bf98f26c",
   "metadata": {},
   "outputs": [],
   "source": [
    "d = dict.fromkeys([\"abc\",32,4])"
   ]
  },
  {
   "cell_type": "code",
   "execution_count": 241,
   "id": "8bbe6822",
   "metadata": {
    "scrolled": true
   },
   "outputs": [
    {
     "data": {
      "text/plain": [
       "{'abc': None, 32: None, 4: None}"
      ]
     },
     "execution_count": 241,
     "metadata": {},
     "output_type": "execute_result"
    }
   ],
   "source": [
    "d"
   ]
  },
  {
   "cell_type": "markdown",
   "id": "b29c2903",
   "metadata": {},
   "source": [
    "another way : "
   ]
  },
  {
   "cell_type": "code",
   "execution_count": 242,
   "id": "b3771433",
   "metadata": {},
   "outputs": [],
   "source": [
    "d = dict.fromkeys([\"abc\",32,4],10)"
   ]
  },
  {
   "cell_type": "code",
   "execution_count": 243,
   "id": "7b885483",
   "metadata": {},
   "outputs": [
    {
     "data": {
      "text/plain": [
       "{'abc': 10, 32: 10, 4: 10}"
      ]
     },
     "execution_count": 243,
     "metadata": {},
     "output_type": "execute_result"
    }
   ],
   "source": [
    "d"
   ]
  },
  {
   "cell_type": "markdown",
   "id": "0c8ad05b",
   "metadata": {},
   "source": [
    "here all the values will become the given key in the end."
   ]
  },
  {
   "cell_type": "markdown",
   "id": "da843c22",
   "metadata": {},
   "source": [
    "# Update DATA"
   ]
  },
  {
   "cell_type": "code",
   "execution_count": 244,
   "id": "72579b8b",
   "metadata": {},
   "outputs": [],
   "source": [
    "a = {\"a\":2,3:\"an\",3:[\"a\",2],\"new\":{2:3}}"
   ]
  },
  {
   "cell_type": "code",
   "execution_count": 245,
   "id": "7d622b8a",
   "metadata": {},
   "outputs": [
    {
     "data": {
      "text/plain": [
       "{'a': 2, 3: ['a', 2], 'new': {2: 3}}"
      ]
     },
     "execution_count": 245,
     "metadata": {},
     "output_type": "execute_result"
    }
   ],
   "source": [
    "a"
   ]
  },
  {
   "cell_type": "markdown",
   "id": "ce74dcd2",
   "metadata": {},
   "source": [
    "so all this is possible"
   ]
  },
  {
   "cell_type": "markdown",
   "id": "75583e45",
   "metadata": {},
   "source": [
    "a[0]\n",
    "\n",
    "---------------------------------------------------------------------------\n",
    "KeyError                                  Traceback (most recent call last)\n",
    "~\\AppData\\Local\\Temp\\ipykernel_13400\\1109539928.py in <module>\n",
    "----> 1 a[0]\n",
    "\n",
    "KeyError: 0"
   ]
  },
  {
   "cell_type": "markdown",
   "id": "c15940ec",
   "metadata": {},
   "source": [
    "## notice that there is no indexing in the dictionary : \n",
    "you cant perform things like : a[0]"
   ]
  },
  {
   "cell_type": "markdown",
   "id": "61c38bac",
   "metadata": {},
   "source": [
    "instead on using 0,1,2,3 what you need to use in actual key"
   ]
  },
  {
   "cell_type": "code",
   "execution_count": 246,
   "id": "a5f9dad6",
   "metadata": {},
   "outputs": [
    {
     "data": {
      "text/plain": [
       "2"
      ]
     },
     "execution_count": 246,
     "metadata": {},
     "output_type": "execute_result"
    }
   ],
   "source": [
    "a[\"a\"]"
   ]
  },
  {
   "cell_type": "code",
   "execution_count": 247,
   "id": "f2ea8cfe",
   "metadata": {},
   "outputs": [
    {
     "data": {
      "text/plain": [
       "{2: 3}"
      ]
     },
     "execution_count": 247,
     "metadata": {},
     "output_type": "execute_result"
    }
   ],
   "source": [
    "a[\"new\"]"
   ]
  },
  {
   "cell_type": "markdown",
   "id": "f90efbdb",
   "metadata": {},
   "source": [
    "a[2]\n",
    "\n",
    "\n",
    "---------------------------------------------------------------------------\n",
    "KeyError                                  Traceback (most recent call last)\n",
    "~\\AppData\\Local\\Temp\\ipykernel_13400\\4164697690.py in <module>\n",
    "----> 1 a[2]\n",
    "\n",
    "KeyError: 2"
   ]
  },
  {
   "cell_type": "markdown",
   "id": "315c794a",
   "metadata": {},
   "source": [
    "will get error if we try to access a key with no data."
   ]
  },
  {
   "cell_type": "markdown",
   "id": "f1f7f2b8",
   "metadata": {},
   "source": [
    "## ANOTHER WAY TO FETCH DATA"
   ]
  },
  {
   "cell_type": "code",
   "execution_count": 248,
   "id": "2b9ae33f",
   "metadata": {},
   "outputs": [
    {
     "data": {
      "text/plain": [
       "{2: 3}"
      ]
     },
     "execution_count": 248,
     "metadata": {},
     "output_type": "execute_result"
    }
   ],
   "source": [
    "a.get(\"new\")"
   ]
  },
  {
   "cell_type": "code",
   "execution_count": 249,
   "id": "cb1e1784",
   "metadata": {},
   "outputs": [
    {
     "data": {
      "text/plain": [
       "2"
      ]
     },
     "execution_count": 249,
     "metadata": {},
     "output_type": "execute_result"
    }
   ],
   "source": [
    "a.get(\"a\")"
   ]
  },
  {
   "cell_type": "code",
   "execution_count": 250,
   "id": "7dab6fef",
   "metadata": {},
   "outputs": [],
   "source": [
    "a.get(\"li\")"
   ]
  },
  {
   "cell_type": "markdown",
   "id": "3dfd1e75",
   "metadata": {},
   "source": [
    "### note for the keys which we dont have it returns nothing, not ERROR"
   ]
  },
  {
   "cell_type": "markdown",
   "id": "6ef21745",
   "metadata": {},
   "source": [
    "if you want it to return a specific value, then give it there like:\n"
   ]
  },
  {
   "cell_type": "code",
   "execution_count": 251,
   "id": "e39c51ad",
   "metadata": {},
   "outputs": [
    {
     "data": {
      "text/plain": [
       "0"
      ]
     },
     "execution_count": 251,
     "metadata": {},
     "output_type": "execute_result"
    }
   ],
   "source": [
    "a.get(\"li\",0)"
   ]
  },
  {
   "cell_type": "raw",
   "id": "af7071de",
   "metadata": {},
   "source": [
    "here we gave what to return when not found."
   ]
  },
  {
   "cell_type": "markdown",
   "id": "3d9707c1",
   "metadata": {},
   "source": [
    "### getting keys and values"
   ]
  },
  {
   "cell_type": "code",
   "execution_count": 252,
   "id": "40e193dc",
   "metadata": {},
   "outputs": [
    {
     "data": {
      "text/plain": [
       "dict_keys(['a', 3, 'new'])"
      ]
     },
     "execution_count": 252,
     "metadata": {},
     "output_type": "execute_result"
    }
   ],
   "source": [
    "a.keys()"
   ]
  },
  {
   "cell_type": "code",
   "execution_count": 253,
   "id": "7ab251f4",
   "metadata": {},
   "outputs": [
    {
     "data": {
      "text/plain": [
       "dict_values([2, ['a', 2], {2: 3}])"
      ]
     },
     "execution_count": 253,
     "metadata": {},
     "output_type": "execute_result"
    }
   ],
   "source": [
    "a.values()"
   ]
  },
  {
   "cell_type": "code",
   "execution_count": 254,
   "id": "ba7826d0",
   "metadata": {},
   "outputs": [
    {
     "data": {
      "text/plain": [
       "dict_items([('a', 2), (3, ['a', 2]), ('new', {2: 3})])"
      ]
     },
     "execution_count": 254,
     "metadata": {},
     "output_type": "execute_result"
    }
   ],
   "source": [
    "a.items()"
   ]
  },
  {
   "cell_type": "code",
   "execution_count": 255,
   "id": "9e3f3c99",
   "metadata": {},
   "outputs": [
    {
     "name": "stdout",
     "output_type": "stream",
     "text": [
      "a\n",
      "3\n",
      "new\n"
     ]
    }
   ],
   "source": [
    "for i in a:\n",
    "    print(i)"
   ]
  },
  {
   "cell_type": "markdown",
   "id": "c330b906",
   "metadata": {},
   "source": [
    "Notice it is only getting keys.\n"
   ]
  },
  {
   "cell_type": "code",
   "execution_count": 256,
   "id": "57e745d6",
   "metadata": {},
   "outputs": [
    {
     "name": "stdout",
     "output_type": "stream",
     "text": [
      "a 2\n",
      "3 ['a', 2]\n",
      "new {2: 3}\n"
     ]
    }
   ],
   "source": [
    "for i in a:\n",
    "    print(i,a[i])"
   ]
  },
  {
   "cell_type": "code",
   "execution_count": 257,
   "id": "1a9848de",
   "metadata": {},
   "outputs": [
    {
     "name": "stdout",
     "output_type": "stream",
     "text": [
      "a\n",
      "3\n",
      "new\n"
     ]
    }
   ],
   "source": [
    "for i in a.keys():\n",
    "    print(i)"
   ]
  },
  {
   "cell_type": "code",
   "execution_count": 258,
   "id": "30eb67e0",
   "metadata": {},
   "outputs": [
    {
     "name": "stdout",
     "output_type": "stream",
     "text": [
      "2\n",
      "['a', 2]\n",
      "{2: 3}\n"
     ]
    }
   ],
   "source": [
    "for i in a.values():\n",
    "    print(i)"
   ]
  },
  {
   "cell_type": "markdown",
   "id": "2ab40d14",
   "metadata": {},
   "source": [
    "## lets check if a certain value exist or not"
   ]
  },
  {
   "cell_type": "code",
   "execution_count": 259,
   "id": "4670c36f",
   "metadata": {},
   "outputs": [
    {
     "data": {
      "text/plain": [
       "True"
      ]
     },
     "execution_count": 259,
     "metadata": {},
     "output_type": "execute_result"
    }
   ],
   "source": [
    "\"a\" in a"
   ]
  },
  {
   "cell_type": "markdown",
   "id": "70c07c60",
   "metadata": {},
   "source": [
    "only to check for keys."
   ]
  },
  {
   "cell_type": "code",
   "execution_count": 260,
   "id": "a7a3b922",
   "metadata": {},
   "outputs": [
    {
     "data": {
      "text/plain": [
       "{'a': 1, 'b': 2, 'c': 3}"
      ]
     },
     "execution_count": 260,
     "metadata": {},
     "output_type": "execute_result"
    }
   ],
   "source": [
    "c"
   ]
  },
  {
   "cell_type": "code",
   "execution_count": 261,
   "id": "640223f7",
   "metadata": {},
   "outputs": [
    {
     "data": {
      "text/plain": [
       "False"
      ]
     },
     "execution_count": 261,
     "metadata": {},
     "output_type": "execute_result"
    }
   ],
   "source": [
    "3 in c"
   ]
  },
  {
   "cell_type": "markdown",
   "id": "6b9ed8a9",
   "metadata": {},
   "source": [
    "notice 3 is present as value so it didn't find that."
   ]
  },
  {
   "cell_type": "markdown",
   "id": "5466a024",
   "metadata": {},
   "source": [
    "## Add or remove data"
   ]
  },
  {
   "cell_type": "code",
   "execution_count": 262,
   "id": "76e607af",
   "metadata": {},
   "outputs": [],
   "source": [
    "c[\"list1\"] = [2,3,4,\"A\"]"
   ]
  },
  {
   "cell_type": "code",
   "execution_count": 263,
   "id": "b0801524",
   "metadata": {},
   "outputs": [
    {
     "data": {
      "text/plain": [
       "{'a': 1, 'b': 2, 'c': 3, 'list1': [2, 3, 4, 'A']}"
      ]
     },
     "execution_count": 263,
     "metadata": {},
     "output_type": "execute_result"
    }
   ],
   "source": [
    "c"
   ]
  },
  {
   "cell_type": "code",
   "execution_count": 264,
   "id": "fa51b5d0",
   "metadata": {},
   "outputs": [],
   "source": [
    "c[\"list1\"] = [1,\"B\"]"
   ]
  },
  {
   "cell_type": "code",
   "execution_count": 265,
   "id": "bb94e789",
   "metadata": {},
   "outputs": [
    {
     "data": {
      "text/plain": [
       "{'a': 1, 'b': 2, 'c': 3, 'list1': [1, 'B']}"
      ]
     },
     "execution_count": 265,
     "metadata": {},
     "output_type": "execute_result"
    }
   ],
   "source": [
    "c"
   ]
  },
  {
   "cell_type": "markdown",
   "id": "e674c1bb",
   "metadata": {},
   "source": [
    "## another way of adding data"
   ]
  },
  {
   "cell_type": "code",
   "execution_count": 266,
   "id": "eac8fe55",
   "metadata": {},
   "outputs": [],
   "source": [
    "b = {\"a\":\"new value\", \"b\":\"new value2\",\"d\":2}"
   ]
  },
  {
   "cell_type": "code",
   "execution_count": 267,
   "id": "c3ed42b6",
   "metadata": {},
   "outputs": [
    {
     "data": {
      "text/plain": [
       "{'a': 'new value', 'b': 'new value2', 'd': 2}"
      ]
     },
     "execution_count": 267,
     "metadata": {},
     "output_type": "execute_result"
    }
   ],
   "source": [
    "b"
   ]
  },
  {
   "cell_type": "code",
   "execution_count": 268,
   "id": "d8da638a",
   "metadata": {},
   "outputs": [],
   "source": [
    "c.update(b)"
   ]
  },
  {
   "cell_type": "code",
   "execution_count": 269,
   "id": "3edf0dc1",
   "metadata": {},
   "outputs": [
    {
     "data": {
      "text/plain": [
       "{'a': 'new value', 'b': 'new value2', 'c': 3, 'list1': [1, 'B'], 'd': 2}"
      ]
     },
     "execution_count": 269,
     "metadata": {},
     "output_type": "execute_result"
    }
   ],
   "source": [
    "c"
   ]
  },
  {
   "cell_type": "markdown",
   "id": "2e7c8e99",
   "metadata": {},
   "source": [
    "### c.update(b) means \"c ko update karna hai b ko dekhkar\" means and \n",
    "- b me jo keys c se common hogi, un keys ki value jo b me hai wo c me update ho jaygi. or\n",
    "- jo keys b me esi hain jo c me nahi h, jo key value pair poora c me add ho jayga. "
   ]
  },
  {
   "cell_type": "markdown",
   "id": "536d27d4",
   "metadata": {},
   "source": [
    "### Remove data : POP\n",
    "- only key argument is needed.\n",
    "- it requires one argument."
   ]
  },
  {
   "cell_type": "code",
   "execution_count": 270,
   "id": "47261da8",
   "metadata": {},
   "outputs": [
    {
     "data": {
      "text/plain": [
       "'new value'"
      ]
     },
     "execution_count": 270,
     "metadata": {},
     "output_type": "execute_result"
    }
   ],
   "source": [
    "c.pop(\"a\")"
   ]
  },
  {
   "cell_type": "code",
   "execution_count": 271,
   "id": "d5603611",
   "metadata": {},
   "outputs": [
    {
     "data": {
      "text/plain": [
       "{'b': 'new value2', 'c': 3, 'list1': [1, 'B'], 'd': 2}"
      ]
     },
     "execution_count": 271,
     "metadata": {},
     "output_type": "execute_result"
    }
   ],
   "source": [
    "c"
   ]
  },
  {
   "cell_type": "code",
   "execution_count": 272,
   "id": "c055f2f2",
   "metadata": {},
   "outputs": [],
   "source": [
    "del c[\"b\"]"
   ]
  },
  {
   "cell_type": "code",
   "execution_count": 273,
   "id": "c6d91c1e",
   "metadata": {},
   "outputs": [
    {
     "data": {
      "text/plain": [
       "{'c': 3, 'list1': [1, 'B'], 'd': 2}"
      ]
     },
     "execution_count": 273,
     "metadata": {},
     "output_type": "execute_result"
    }
   ],
   "source": [
    "c"
   ]
  },
  {
   "cell_type": "code",
   "execution_count": 274,
   "id": "3cc8e9e9",
   "metadata": {},
   "outputs": [],
   "source": [
    "c.clear()"
   ]
  },
  {
   "cell_type": "code",
   "execution_count": 275,
   "id": "f62bb9d2",
   "metadata": {},
   "outputs": [
    {
     "data": {
      "text/plain": [
       "{}"
      ]
     },
     "execution_count": 275,
     "metadata": {},
     "output_type": "execute_result"
    }
   ],
   "source": [
    "c"
   ]
  },
  {
   "cell_type": "code",
   "execution_count": 276,
   "id": "3abce28b",
   "metadata": {},
   "outputs": [],
   "source": [
    "del c"
   ]
  },
  {
   "cell_type": "markdown",
   "id": "3290665f",
   "metadata": {
    "scrolled": false
   },
   "source": [
    "c\n",
    "\n",
    "---------------------------------------------------------------------------\n",
    "NameError                                 Traceback (most recent call last)\n",
    "~\\AppData\\Local\\Temp\\ipykernel_13400\\3235490055.py in <module>\n",
    "----> 1 c\n",
    "\n",
    "NameError: name 'c' is not defined"
   ]
  },
  {
   "cell_type": "markdown",
   "id": "944f7a2d",
   "metadata": {},
   "source": [
    "## Exercise"
   ]
  },
  {
   "cell_type": "code",
   "execution_count": 277,
   "id": "5159b25d",
   "metadata": {},
   "outputs": [],
   "source": [
    "a = \"this is a word string having many many word\"\n",
    "k =2"
   ]
  },
  {
   "cell_type": "code",
   "execution_count": 278,
   "id": "fd266f0f",
   "metadata": {},
   "outputs": [
    {
     "data": {
      "text/plain": [
       "['this', 'is', 'a', 'word', 'string', 'having', 'many', 'many', 'word']"
      ]
     },
     "execution_count": 278,
     "metadata": {},
     "output_type": "execute_result"
    }
   ],
   "source": [
    "a.split(\" \")"
   ]
  },
  {
   "cell_type": "code",
   "execution_count": 279,
   "id": "0ec63d64",
   "metadata": {},
   "outputs": [
    {
     "data": {
      "text/plain": [
       "['this', 'is', 'a', 'word', 'string', 'having', 'many', 'many', 'word']"
      ]
     },
     "execution_count": 279,
     "metadata": {},
     "output_type": "execute_result"
    }
   ],
   "source": [
    "a.split()"
   ]
  },
  {
   "cell_type": "code",
   "execution_count": 280,
   "id": "818d0368",
   "metadata": {},
   "outputs": [
    {
     "data": {
      "text/plain": [
       "'this is a word string having many many word'"
      ]
     },
     "execution_count": 280,
     "metadata": {},
     "output_type": "execute_result"
    }
   ],
   "source": [
    "a"
   ]
  },
  {
   "cell_type": "code",
   "execution_count": 281,
   "id": "6a88da90",
   "metadata": {},
   "outputs": [],
   "source": [
    "b = a.split()"
   ]
  },
  {
   "cell_type": "code",
   "execution_count": 282,
   "id": "5c05a64c",
   "metadata": {},
   "outputs": [
    {
     "data": {
      "text/plain": [
       "['this', 'is', 'a', 'word', 'string', 'having', 'many', 'many', 'word']"
      ]
     },
     "execution_count": 282,
     "metadata": {},
     "output_type": "execute_result"
    }
   ],
   "source": [
    "b"
   ]
  },
  {
   "cell_type": "markdown",
   "id": "100cc13e",
   "metadata": {},
   "source": [
    "## notice the below program carefully"
   ]
  },
  {
   "cell_type": "code",
   "execution_count": 283,
   "id": "f6f5df0b",
   "metadata": {},
   "outputs": [
    {
     "data": {
      "text/plain": [
       "{'this': 1, 'is': 1, 'a': 1, 'word': 2, 'string': 1, 'having': 1, 'many': 2}"
      ]
     },
     "execution_count": 283,
     "metadata": {},
     "output_type": "execute_result"
    }
   ],
   "source": [
    "d = {}\n",
    "for i in b:\n",
    "    if i in d:\n",
    "        d[i] = d[i]+1\n",
    "    else:\n",
    "        d[i] = 1\n",
    "d"
   ]
  },
  {
   "cell_type": "code",
   "execution_count": 284,
   "id": "c7adbd20",
   "metadata": {},
   "outputs": [
    {
     "data": {
      "text/plain": [
       "{'this': 1, 'is': 1, 'a': 1, 'word': 2, 'string': 1, 'having': 1, 'many': 2}"
      ]
     },
     "execution_count": 284,
     "metadata": {},
     "output_type": "execute_result"
    }
   ],
   "source": [
    "d = {}\n",
    "for i in b:\n",
    "    d[i] = d.get(i,0)+1\n",
    "\n",
    "d"
   ]
  },
  {
   "cell_type": "markdown",
   "id": "1435b9a8",
   "metadata": {},
   "source": [
    "the above code did the same thing, but in a different manner, we used d.get(i,0) function which says, if the key is there, give me the value, if not there, dont throw error but give 0 in return, which can be added to 1 and make the frequecy 1."
   ]
  },
  {
   "cell_type": "code",
   "execution_count": 285,
   "id": "68392cde",
   "metadata": {},
   "outputs": [
    {
     "name": "stdout",
     "output_type": "stream",
     "text": [
      "word\n",
      "many\n"
     ]
    }
   ],
   "source": [
    "for i in d:\n",
    "    if d[i]==2:\n",
    "        print(i)"
   ]
  },
  {
   "cell_type": "markdown",
   "id": "24909509",
   "metadata": {},
   "source": [
    "## Exercise :1"
   ]
  },
  {
   "cell_type": "code",
   "execution_count": 286,
   "id": "9cb17a35",
   "metadata": {},
   "outputs": [
    {
     "data": {
      "text/plain": [
       "['1',\n",
       " '1',\n",
       " '1',\n",
       " '1',\n",
       " '1',\n",
       " '2',\n",
       " '12',\n",
       " '2',\n",
       " '11',\n",
       " '12',\n",
       " '2',\n",
       " '1',\n",
       " '2',\n",
       " '2',\n",
       " '11',\n",
       " '12',\n",
       " '2',\n",
       " '6']"
      ]
     },
     "execution_count": 286,
     "metadata": {},
     "output_type": "execute_result"
    }
   ],
   "source": [
    "a = \"1 1 1 1 1 2 12 2 11 12 2 1 2 2 11 12 2 6\"\n",
    "a = a.split()\n",
    "a"
   ]
  },
  {
   "cell_type": "code",
   "execution_count": 287,
   "id": "01621317",
   "metadata": {},
   "outputs": [
    {
     "data": {
      "text/plain": [
       "{'1': 6, '2': 6, '12': 3, '11': 2, '6': 1}"
      ]
     },
     "execution_count": 287,
     "metadata": {},
     "output_type": "execute_result"
    }
   ],
   "source": [
    "d = {}\n",
    "for i in a:\n",
    "    d[i] = d.get(i,0)+1\n",
    "\n",
    "d"
   ]
  },
  {
   "cell_type": "code",
   "execution_count": 288,
   "id": "c5f9814f",
   "metadata": {},
   "outputs": [
    {
     "name": "stdout",
     "output_type": "stream",
     "text": [
      "6\n",
      "6\n",
      "3\n",
      "2\n",
      "1\n"
     ]
    }
   ],
   "source": [
    "for i in d.values():\n",
    "    print(i)"
   ]
  },
  {
   "cell_type": "code",
   "execution_count": 289,
   "id": "43b079a8",
   "metadata": {},
   "outputs": [
    {
     "data": {
      "text/plain": [
       "dict_keys(['1', '2', '12', '11', '6'])"
      ]
     },
     "execution_count": 289,
     "metadata": {},
     "output_type": "execute_result"
    }
   ],
   "source": [
    "d.keys()"
   ]
  },
  {
   "cell_type": "code",
   "execution_count": 290,
   "id": "a849d713",
   "metadata": {},
   "outputs": [
    {
     "data": {
      "text/plain": [
       "6"
      ]
     },
     "execution_count": 290,
     "metadata": {},
     "output_type": "execute_result"
    }
   ],
   "source": [
    "k =[]\n",
    "for i in d.values():\n",
    "    k.append(i)\n",
    "    \n",
    "maxi = max(k)\n",
    "maxi"
   ]
  },
  {
   "cell_type": "markdown",
   "id": "ad63d139",
   "metadata": {},
   "source": [
    "## Another way\n"
   ]
  },
  {
   "cell_type": "code",
   "execution_count": 291,
   "id": "9252098b",
   "metadata": {},
   "outputs": [
    {
     "data": {
      "text/plain": [
       "{'1': 6, '2': 6, '12': 3, '11': 2, '6': 1}"
      ]
     },
     "execution_count": 291,
     "metadata": {},
     "output_type": "execute_result"
    }
   ],
   "source": [
    "d"
   ]
  },
  {
   "cell_type": "code",
   "execution_count": 292,
   "id": "636f4ff7",
   "metadata": {},
   "outputs": [
    {
     "name": "stdout",
     "output_type": "stream",
     "text": [
      "6\n"
     ]
    }
   ],
   "source": [
    "for i in d:\n",
    "    a = max(d.values())\n",
    "\n",
    "print(a)"
   ]
  },
  {
   "cell_type": "code",
   "execution_count": 293,
   "id": "fdd78b23",
   "metadata": {
    "scrolled": true
   },
   "outputs": [
    {
     "name": "stdout",
     "output_type": "stream",
     "text": [
      "1\n",
      "2\n"
     ]
    }
   ],
   "source": [
    "for j in d:\n",
    "    if d[j]==maxi:\n",
    "        print(j)"
   ]
  },
  {
   "cell_type": "markdown",
   "id": "9a393e50",
   "metadata": {},
   "source": [
    "## Another way"
   ]
  },
  {
   "cell_type": "code",
   "execution_count": 294,
   "id": "9249a323",
   "metadata": {},
   "outputs": [
    {
     "data": {
      "text/plain": [
       "{'1': 6, '2': 6, '12': 3, '11': 2, '6': 1}"
      ]
     },
     "execution_count": 294,
     "metadata": {},
     "output_type": "execute_result"
    }
   ],
   "source": [
    "d"
   ]
  },
  {
   "cell_type": "code",
   "execution_count": 295,
   "id": "664fa797",
   "metadata": {},
   "outputs": [
    {
     "data": {
      "text/plain": [
       "'1'"
      ]
     },
     "execution_count": 295,
     "metadata": {},
     "output_type": "execute_result"
    }
   ],
   "source": [
    "maxvalue= max(d,key = lambda k : d[k])\n",
    "maxvalue"
   ]
  },
  {
   "cell_type": "markdown",
   "id": "c8117306",
   "metadata": {},
   "source": [
    "how it works :\n",
    "-> in here we use max() function which returns the max of any iterable which in here is dictionary, but here, we provide our custom key. \n",
    "-> which is key = lambda k : d[k] which means for i in d: jo b max value ho d ki uski key return kar do, \n",
    "ab question why returning key only, and where we are defining. so note down : using max function like this on dictionary will return key only. \n",
    "-> if you want the value you can do d[answer].\n"
   ]
  },
  {
   "cell_type": "code",
   "execution_count": 296,
   "id": "adbd0bc3",
   "metadata": {},
   "outputs": [
    {
     "name": "stdout",
     "output_type": "stream",
     "text": [
      "9\n",
      "cherry\n"
     ]
    }
   ],
   "source": [
    "e = {6:'apple',3:'banana',9:'cherry',7:'date'}\n",
    "max_value = max(e, key=lambda k: k)\n",
    "print(max_value)\n",
    "\n",
    "print(e[max_value])"
   ]
  },
  {
   "cell_type": "markdown",
   "id": "4b928fb4",
   "metadata": {},
   "source": [
    "Another way"
   ]
  },
  {
   "cell_type": "code",
   "execution_count": 297,
   "id": "e3acda14",
   "metadata": {},
   "outputs": [
    {
     "name": "stdout",
     "output_type": "stream",
     "text": [
      "1\n",
      "2\n"
     ]
    }
   ],
   "source": [
    "d = {'1': 6, '2': 6, '12': 3, '11': 2, '6': 1}\n",
    "\n",
    "# Find the maximum value in the dictionary\n",
    "max_value = max(d.values())\n",
    "\n",
    "# Create a list to store keys with the maximum value\n",
    "max_keys = [key for key, value in d.items() if value == max_value]\n",
    "\n",
    "# Print the keys with the maximum value\n",
    "for key in max_keys:\n",
    "    print(key)"
   ]
  },
  {
   "cell_type": "markdown",
   "id": "39fc0116",
   "metadata": {},
   "source": [
    "## Exercise"
   ]
  },
  {
   "cell_type": "markdown",
   "id": "2dbe8317",
   "metadata": {},
   "source": [
    "Maximum Distance\n",
    "Send Feedback\n",
    "Given an array that might contain duplicate elements, find the maximum possible distance between occurrences of two repeating elements i.e. elements having same value. If there are no duplicate elements in the array, return 0.\n"
   ]
  },
  {
   "cell_type": "code",
   "execution_count": 298,
   "id": "2379dceb",
   "metadata": {},
   "outputs": [
    {
     "name": "stdout",
     "output_type": "stream",
     "text": [
      "7\n",
      "[2, 3, 7]\n"
     ]
    }
   ],
   "source": [
    "n = \"1  3  1  4  5  6  4  8  3\"\n",
    "a =  n.split()\n",
    "new = []\n",
    "\n",
    "last_seen ={}\n",
    "j = 0\n",
    "for i in a:\n",
    "    if i in last_seen:\n",
    "        index = j - last_seen[i]\n",
    "        new.append(index)\n",
    "    else:\n",
    "        last_seen[i] = j\n",
    "    \n",
    "    j+=1\n",
    "\n",
    "print(max(new))\n",
    "print(new)"
   ]
  }
 ],
 "metadata": {
  "kernelspec": {
   "display_name": "Python 3 (ipykernel)",
   "language": "python",
   "name": "python3"
  },
  "language_info": {
   "codemirror_mode": {
    "name": "ipython",
    "version": 3
   },
   "file_extension": ".py",
   "mimetype": "text/x-python",
   "name": "python",
   "nbconvert_exporter": "python",
   "pygments_lexer": "ipython3",
   "version": "3.9.13"
  }
 },
 "nbformat": 4,
 "nbformat_minor": 5
}
