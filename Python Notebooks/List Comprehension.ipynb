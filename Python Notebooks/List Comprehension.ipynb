{
 "cells": [
  {
   "cell_type": "code",
   "execution_count": 2,
   "id": "4d5af172",
   "metadata": {},
   "outputs": [
    {
     "name": "stdout",
     "output_type": "stream",
     "text": [
      "[False, True, False, True, False, True]\n",
      "[2, 4, 6]\n",
      "['H', 'W']\n",
      "[1, 27, 125]\n",
      "[5, 6, 6]\n",
      "[5, 7, 8]\n",
      "['e', 'o', 'o']\n",
      "[1, 2, 3, 4, 5, 6, 7, 8, 9]\n",
      "[1, 1, 2, 2, 3, 3]\n"
     ]
    }
   ],
   "source": [
    "#square\n",
    "# list comprehension\n",
    "\n",
    "# numbers = [1, 2, 3, 4, 5]\n",
    "# num = [x*x for x in numbers ]\n",
    "# print(num)\n",
    "\n",
    "#here we are saving result of num in a list using  [ ], so it returns a list obviously.\n",
    "\n",
    "\n",
    "\n",
    "#2 Even numbers\n",
    "numbers = [1, 2, 3, 4, 5, 6]\n",
    "num = [(x%2==0) for x in numbers]\n",
    "print(num)\n",
    "evens = [x for x in numbers if x % 2 == 0]\n",
    "print(evens)\n",
    "\n",
    "#3 Uppercase Letters:\n",
    "text = \"Hello, World!\"\n",
    "# up = [x for x in text if x.upper()==x]\n",
    "up = [x for x in text if x.isupper()]\n",
    "print(up)\n",
    "\n",
    "#4 Cubing Odd Numbers\n",
    "numbers = [1, 2, 3, 4, 5, 6]\n",
    "num1 = [x**3 for x in numbers if x%2!=0]\n",
    "print(num1)\n",
    "\n",
    "#5 List of Strings Lengths:\n",
    "words = [\"apple\", \"banana\", \"cherry\"]\n",
    "wor = [len(i) for i in words]\n",
    "print(wor)\n",
    "\n",
    "#6 Positive Numbers:\n",
    "numbers = [-3, 5, -2, 7, -1, 8]\n",
    "num = [i for i in numbers if i>0]\n",
    "print(num)\n",
    "\n",
    "#7 Vowels in a String:\n",
    "text = \"Hello, World!\"\n",
    "check = [i for i in text if i in [\"a\",\"e\",\"i\",\"o\",\"u\",\"A\",\"E\",\"I\",\"O\",\"U\"]]\n",
    "print(check)\n",
    "\n",
    "#8 Flatten a 2d list\n",
    "matrix = [[1, 2, 3], [4, 5, 6], [7, 8, 9]]\n",
    "matrix = [x for list1 in matrix for x in list1]\n",
    "print(matrix)\n",
    "\n",
    "#Factorials\n",
    "n = 5\n",
    "factorials = [1]\n",
    "[factorials.append(factorials[-1] * i) for i in range(1, n)]\n",
    "\n",
    "\n",
    "numbers = [1, 2, 3]\n",
    "duplicated = [x for x in numbers for _ in range(2)]\n",
    "print(duplicated)"
   ]
  }
 ],
 "metadata": {
  "kernelspec": {
   "display_name": "Python 3 (ipykernel)",
   "language": "python",
   "name": "python3"
  },
  "language_info": {
   "codemirror_mode": {
    "name": "ipython",
    "version": 3
   },
   "file_extension": ".py",
   "mimetype": "text/x-python",
   "name": "python",
   "nbconvert_exporter": "python",
   "pygments_lexer": "ipython3",
   "version": "3.9.13"
  }
 },
 "nbformat": 4,
 "nbformat_minor": 5
}
