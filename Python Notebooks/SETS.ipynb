{
 "cells": [
  {
   "cell_type": "markdown",
   "id": "ba55bfea",
   "metadata": {},
   "source": [
    "Here it will be just keys.\n"
   ]
  },
  {
   "cell_type": "code",
   "execution_count": 2,
   "id": "2e6923af",
   "metadata": {},
   "outputs": [],
   "source": [
    "a =  { \"apple\",\"abc\",23}"
   ]
  },
  {
   "cell_type": "code",
   "execution_count": 3,
   "id": "9ffa6791",
   "metadata": {},
   "outputs": [
    {
     "data": {
      "text/plain": [
       "{23, 'abc', 'apple'}"
      ]
     },
     "execution_count": 3,
     "metadata": {},
     "output_type": "execute_result"
    }
   ],
   "source": [
    "a"
   ]
  },
  {
   "cell_type": "code",
   "execution_count": 4,
   "id": "76062221",
   "metadata": {},
   "outputs": [
    {
     "data": {
      "text/plain": [
       "set"
      ]
     },
     "execution_count": 4,
     "metadata": {},
     "output_type": "execute_result"
    }
   ],
   "source": [
    "type(a)"
   ]
  },
  {
   "cell_type": "markdown",
   "id": "4bc4d179",
   "metadata": {},
   "source": [
    "you cant do a[0]"
   ]
  },
  {
   "cell_type": "markdown",
   "id": "f5518989",
   "metadata": {},
   "source": [
    "a[\"abc\"] also will not work, because no value"
   ]
  },
  {
   "cell_type": "markdown",
   "id": "6c14062f",
   "metadata": {},
   "source": [
    "The main use case here is, values cant be duplicated.\n",
    "\"this\",\"is\",\"is\",\"a\",\"ball\"\n",
    "if we try to store it in the set, it will store, this is a ball"
   ]
  },
  {
   "cell_type": "code",
   "execution_count": 8,
   "id": "f5cd6354",
   "metadata": {},
   "outputs": [
    {
     "data": {
      "text/plain": [
       "{23, 'abc', 'apple'}"
      ]
     },
     "execution_count": 8,
     "metadata": {},
     "output_type": "execute_result"
    }
   ],
   "source": [
    "a"
   ]
  },
  {
   "cell_type": "markdown",
   "id": "386295f0",
   "metadata": {},
   "source": [
    "but note order will not be maintained."
   ]
  },
  {
   "cell_type": "markdown",
   "id": "64f6bd30",
   "metadata": {},
   "source": [
    "Two main things here to use is, \"in\" and \"for\""
   ]
  },
  {
   "cell_type": "code",
   "execution_count": 10,
   "id": "750ad5d6",
   "metadata": {},
   "outputs": [
    {
     "name": "stdout",
     "output_type": "stream",
     "text": [
      "apple\n",
      "23\n",
      "abc\n"
     ]
    }
   ],
   "source": [
    "for i in a:\n",
    "    print(i)"
   ]
  },
  {
   "cell_type": "code",
   "execution_count": 11,
   "id": "e420438a",
   "metadata": {},
   "outputs": [
    {
     "data": {
      "text/plain": [
       "True"
      ]
     },
     "execution_count": 11,
     "metadata": {},
     "output_type": "execute_result"
    }
   ],
   "source": [
    "23 in a"
   ]
  },
  {
   "cell_type": "code",
   "execution_count": 12,
   "id": "aa533622",
   "metadata": {},
   "outputs": [
    {
     "data": {
      "text/plain": [
       "3"
      ]
     },
     "execution_count": 12,
     "metadata": {},
     "output_type": "execute_result"
    }
   ],
   "source": [
    "len(a)"
   ]
  },
  {
   "cell_type": "markdown",
   "id": "92487e58",
   "metadata": {},
   "source": [
    "## Add or Update data"
   ]
  },
  {
   "cell_type": "code",
   "execution_count": 13,
   "id": "e5f4f8f3",
   "metadata": {},
   "outputs": [],
   "source": [
    "a.add(\"temp\")"
   ]
  },
  {
   "cell_type": "code",
   "execution_count": 14,
   "id": "70a33614",
   "metadata": {},
   "outputs": [
    {
     "data": {
      "text/plain": [
       "{23, 'abc', 'apple', 'temp'}"
      ]
     },
     "execution_count": 14,
     "metadata": {},
     "output_type": "execute_result"
    }
   ],
   "source": [
    "a"
   ]
  },
  {
   "cell_type": "code",
   "execution_count": 15,
   "id": "30e61ad2",
   "metadata": {},
   "outputs": [],
   "source": [
    "b = {'abc','ghi'}"
   ]
  },
  {
   "cell_type": "code",
   "execution_count": 16,
   "id": "5162d127",
   "metadata": {},
   "outputs": [],
   "source": [
    "a.update(b)"
   ]
  },
  {
   "cell_type": "code",
   "execution_count": 17,
   "id": "c6e08438",
   "metadata": {},
   "outputs": [
    {
     "data": {
      "text/plain": [
       "{23, 'abc', 'apple', 'ghi', 'temp'}"
      ]
     },
     "execution_count": 17,
     "metadata": {},
     "output_type": "execute_result"
    }
   ],
   "source": [
    "a"
   ]
  },
  {
   "cell_type": "code",
   "execution_count": 18,
   "id": "27ff074e",
   "metadata": {},
   "outputs": [],
   "source": [
    "a.remove(\"temp\")"
   ]
  },
  {
   "cell_type": "code",
   "execution_count": 19,
   "id": "c0959f65",
   "metadata": {},
   "outputs": [
    {
     "data": {
      "text/plain": [
       "{23, 'abc', 'apple', 'ghi'}"
      ]
     },
     "execution_count": 19,
     "metadata": {},
     "output_type": "execute_result"
    }
   ],
   "source": [
    "a"
   ]
  },
  {
   "cell_type": "code",
   "execution_count": 20,
   "id": "35be1d62",
   "metadata": {},
   "outputs": [
    {
     "ename": "KeyError",
     "evalue": "'r'",
     "output_type": "error",
     "traceback": [
      "\u001b[1;31m---------------------------------------------------------------------------\u001b[0m",
      "\u001b[1;31mKeyError\u001b[0m                                  Traceback (most recent call last)",
      "\u001b[1;32m~\\AppData\\Local\\Temp\\ipykernel_19744\\1707921323.py\u001b[0m in \u001b[0;36m<module>\u001b[1;34m\u001b[0m\n\u001b[1;32m----> 1\u001b[1;33m \u001b[0ma\u001b[0m\u001b[1;33m.\u001b[0m\u001b[0mremove\u001b[0m\u001b[1;33m(\u001b[0m\u001b[1;34m\"r\"\u001b[0m\u001b[1;33m)\u001b[0m\u001b[1;33m\u001b[0m\u001b[1;33m\u001b[0m\u001b[0m\n\u001b[0m",
      "\u001b[1;31mKeyError\u001b[0m: 'r'"
     ]
    }
   ],
   "source": [
    "a.remove(\"r\")"
   ]
  },
  {
   "cell_type": "code",
   "execution_count": 21,
   "id": "8be16677",
   "metadata": {},
   "outputs": [],
   "source": [
    "a.discard(23)"
   ]
  },
  {
   "cell_type": "code",
   "execution_count": 22,
   "id": "e0bc248a",
   "metadata": {},
   "outputs": [
    {
     "data": {
      "text/plain": [
       "{'abc', 'apple', 'ghi'}"
      ]
     },
     "execution_count": 22,
     "metadata": {},
     "output_type": "execute_result"
    }
   ],
   "source": [
    "a"
   ]
  },
  {
   "cell_type": "code",
   "execution_count": 23,
   "id": "313f39b3",
   "metadata": {},
   "outputs": [],
   "source": [
    "a.discard(\"rr\")"
   ]
  },
  {
   "cell_type": "markdown",
   "id": "d0011014",
   "metadata": {},
   "source": [
    "it will not throw error even if the value is not there."
   ]
  },
  {
   "cell_type": "code",
   "execution_count": 24,
   "id": "1506ccdc",
   "metadata": {},
   "outputs": [],
   "source": [
    "a.clear()"
   ]
  },
  {
   "cell_type": "code",
   "execution_count": 25,
   "id": "5db6fad5",
   "metadata": {},
   "outputs": [
    {
     "data": {
      "text/plain": [
       "set()"
      ]
     },
     "execution_count": 25,
     "metadata": {},
     "output_type": "execute_result"
    }
   ],
   "source": [
    "a"
   ]
  },
  {
   "cell_type": "code",
   "execution_count": 28,
   "id": "9faf4406",
   "metadata": {},
   "outputs": [],
   "source": [
    "a.add(2)"
   ]
  },
  {
   "cell_type": "code",
   "execution_count": 29,
   "id": "4057b778",
   "metadata": {},
   "outputs": [
    {
     "data": {
      "text/plain": [
       "{2}"
      ]
     },
     "execution_count": 29,
     "metadata": {},
     "output_type": "execute_result"
    }
   ],
   "source": [
    "a"
   ]
  },
  {
   "cell_type": "markdown",
   "id": "b1687e66",
   "metadata": {},
   "source": [
    "## Funtions in set"
   ]
  },
  {
   "cell_type": "code",
   "execution_count": 32,
   "id": "2911a1cf",
   "metadata": {},
   "outputs": [],
   "source": [
    "a = {1,2,3,4}\n",
    "b = {3,4,5,6}"
   ]
  },
  {
   "cell_type": "code",
   "execution_count": 33,
   "id": "0ceec9ea",
   "metadata": {},
   "outputs": [
    {
     "data": {
      "text/plain": [
       "{3, 4}"
      ]
     },
     "execution_count": 33,
     "metadata": {},
     "output_type": "execute_result"
    }
   ],
   "source": [
    "a.intersection(b)"
   ]
  },
  {
   "cell_type": "code",
   "execution_count": 34,
   "id": "92095953",
   "metadata": {},
   "outputs": [
    {
     "data": {
      "text/plain": [
       "{1, 2, 3, 4, 5, 6}"
      ]
     },
     "execution_count": 34,
     "metadata": {},
     "output_type": "execute_result"
    }
   ],
   "source": [
    "a.union(b)"
   ]
  },
  {
   "cell_type": "code",
   "execution_count": 35,
   "id": "1710d6d1",
   "metadata": {},
   "outputs": [
    {
     "data": {
      "text/plain": [
       "{1, 2}"
      ]
     },
     "execution_count": 35,
     "metadata": {},
     "output_type": "execute_result"
    }
   ],
   "source": [
    "a.difference(b)"
   ]
  },
  {
   "cell_type": "markdown",
   "id": "0b5f9c73",
   "metadata": {},
   "source": [
    "remove the things from a which b have in them."
   ]
  },
  {
   "cell_type": "code",
   "execution_count": 36,
   "id": "d2441269",
   "metadata": {},
   "outputs": [
    {
     "data": {
      "text/plain": [
       "{5, 6}"
      ]
     },
     "execution_count": 36,
     "metadata": {},
     "output_type": "execute_result"
    }
   ],
   "source": [
    "b.difference(a)"
   ]
  },
  {
   "cell_type": "code",
   "execution_count": 37,
   "id": "d02b859b",
   "metadata": {},
   "outputs": [
    {
     "data": {
      "text/plain": [
       "{1, 2, 5, 6}"
      ]
     },
     "execution_count": 37,
     "metadata": {},
     "output_type": "execute_result"
    }
   ],
   "source": [
    "a.symmetric_difference(b)"
   ]
  },
  {
   "cell_type": "markdown",
   "id": "96fc538f",
   "metadata": {},
   "source": [
    "ignore the intersection part"
   ]
  },
  {
   "cell_type": "markdown",
   "id": "13a06393",
   "metadata": {},
   "source": [
    "following funtion will update a and b value"
   ]
  },
  {
   "cell_type": "code",
   "execution_count": 38,
   "id": "3c40d25f",
   "metadata": {},
   "outputs": [],
   "source": [
    "a.intersection_update(b)"
   ]
  },
  {
   "cell_type": "code",
   "execution_count": 39,
   "id": "2dd69b4b",
   "metadata": {},
   "outputs": [
    {
     "data": {
      "text/plain": [
       "{3, 4}"
      ]
     },
     "execution_count": 39,
     "metadata": {},
     "output_type": "execute_result"
    }
   ],
   "source": [
    "a"
   ]
  },
  {
   "cell_type": "code",
   "execution_count": 40,
   "id": "a49288bb",
   "metadata": {},
   "outputs": [],
   "source": [
    "a = {1,2,3,4}\n",
    "b = {3,4,5,6}"
   ]
  },
  {
   "cell_type": "code",
   "execution_count": 41,
   "id": "1ed04c47",
   "metadata": {},
   "outputs": [],
   "source": [
    "a.difference_update(b)"
   ]
  },
  {
   "cell_type": "code",
   "execution_count": 42,
   "id": "1d09c47c",
   "metadata": {},
   "outputs": [
    {
     "data": {
      "text/plain": [
       "{1, 2}"
      ]
     },
     "execution_count": 42,
     "metadata": {},
     "output_type": "execute_result"
    }
   ],
   "source": [
    "a"
   ]
  },
  {
   "cell_type": "code",
   "execution_count": 43,
   "id": "f2ebb216",
   "metadata": {},
   "outputs": [],
   "source": [
    "a = {1,2,3,4}\n",
    "b = {3,4,5,6}"
   ]
  },
  {
   "cell_type": "code",
   "execution_count": 44,
   "id": "f3458238",
   "metadata": {},
   "outputs": [],
   "source": [
    "a.symmetric_difference_update(b)"
   ]
  },
  {
   "cell_type": "code",
   "execution_count": 45,
   "id": "3b87e9c4",
   "metadata": {},
   "outputs": [
    {
     "data": {
      "text/plain": [
       "{1, 2, 5, 6}"
      ]
     },
     "execution_count": 45,
     "metadata": {},
     "output_type": "execute_result"
    }
   ],
   "source": [
    "a"
   ]
  },
  {
   "cell_type": "code",
   "execution_count": 46,
   "id": "ae48ec13",
   "metadata": {},
   "outputs": [],
   "source": [
    "a = {1,2,3,4}\n",
    "b = {3,4,5,6}"
   ]
  },
  {
   "cell_type": "code",
   "execution_count": 47,
   "id": "abe66812",
   "metadata": {},
   "outputs": [
    {
     "ename": "AttributeError",
     "evalue": "'set' object has no attribute 'union_update'",
     "output_type": "error",
     "traceback": [
      "\u001b[1;31m---------------------------------------------------------------------------\u001b[0m",
      "\u001b[1;31mAttributeError\u001b[0m                            Traceback (most recent call last)",
      "\u001b[1;32m~\\AppData\\Local\\Temp\\ipykernel_19744\\261378673.py\u001b[0m in \u001b[0;36m<module>\u001b[1;34m\u001b[0m\n\u001b[1;32m----> 1\u001b[1;33m \u001b[0ma\u001b[0m\u001b[1;33m.\u001b[0m\u001b[0munion_update\u001b[0m\u001b[1;33m(\u001b[0m\u001b[0mb\u001b[0m\u001b[1;33m)\u001b[0m\u001b[1;33m\u001b[0m\u001b[1;33m\u001b[0m\u001b[0m\n\u001b[0m",
      "\u001b[1;31mAttributeError\u001b[0m: 'set' object has no attribute 'union_update'"
     ]
    }
   ],
   "source": [
    "a.union_update(b)"
   ]
  },
  {
   "cell_type": "markdown",
   "id": "ff42dd8c",
   "metadata": {},
   "source": [
    "there is no union update"
   ]
  },
  {
   "cell_type": "code",
   "execution_count": 49,
   "id": "bd859012",
   "metadata": {},
   "outputs": [
    {
     "data": {
      "text/plain": [
       "False"
      ]
     },
     "execution_count": 49,
     "metadata": {},
     "output_type": "execute_result"
    }
   ],
   "source": [
    "a.issubset(b)"
   ]
  },
  {
   "cell_type": "code",
   "execution_count": 50,
   "id": "3e818f8b",
   "metadata": {},
   "outputs": [],
   "source": [
    "c = {3,4}"
   ]
  },
  {
   "cell_type": "code",
   "execution_count": 52,
   "id": "75d5b15a",
   "metadata": {},
   "outputs": [
    {
     "data": {
      "text/plain": [
       "True"
      ]
     },
     "execution_count": 52,
     "metadata": {},
     "output_type": "execute_result"
    }
   ],
   "source": [
    "c.issubset(a)"
   ]
  },
  {
   "cell_type": "code",
   "execution_count": 53,
   "id": "e1b47d45",
   "metadata": {},
   "outputs": [
    {
     "data": {
      "text/plain": [
       "True"
      ]
     },
     "execution_count": 53,
     "metadata": {},
     "output_type": "execute_result"
    }
   ],
   "source": [
    "a.issuperset(c)"
   ]
  },
  {
   "cell_type": "code",
   "execution_count": 57,
   "id": "bce9df13",
   "metadata": {},
   "outputs": [],
   "source": [
    "d = {7,8}"
   ]
  },
  {
   "cell_type": "code",
   "execution_count": 58,
   "id": "fc444891",
   "metadata": {},
   "outputs": [
    {
     "data": {
      "text/plain": [
       "{1, 2, 3, 4}"
      ]
     },
     "execution_count": 58,
     "metadata": {},
     "output_type": "execute_result"
    }
   ],
   "source": [
    "a"
   ]
  },
  {
   "cell_type": "code",
   "execution_count": 59,
   "id": "a0f9af20",
   "metadata": {},
   "outputs": [
    {
     "data": {
      "text/plain": [
       "True"
      ]
     },
     "execution_count": 59,
     "metadata": {},
     "output_type": "execute_result"
    }
   ],
   "source": [
    "a.isdisjoint(d)"
   ]
  },
  {
   "cell_type": "markdown",
   "id": "73f876f6",
   "metadata": {},
   "source": [
    "means a have nothing common with d"
   ]
  },
  {
   "cell_type": "markdown",
   "id": "865a206b",
   "metadata": {},
   "source": [
    "## Exercise"
   ]
  },
  {
   "cell_type": "markdown",
   "id": "0065bb10",
   "metadata": {},
   "source": [
    "Some of all unique numbers"
   ]
  },
  {
   "cell_type": "code",
   "execution_count": 61,
   "id": "21a9d3e9",
   "metadata": {},
   "outputs": [],
   "source": [
    "set1 = {1,2,3,1,3}"
   ]
  },
  {
   "cell_type": "code",
   "execution_count": 62,
   "id": "83783d4c",
   "metadata": {},
   "outputs": [
    {
     "data": {
      "text/plain": [
       "3"
      ]
     },
     "execution_count": 62,
     "metadata": {},
     "output_type": "execute_result"
    }
   ],
   "source": [
    "len(set1)"
   ]
  },
  {
   "cell_type": "code",
   "execution_count": 63,
   "id": "045af102",
   "metadata": {},
   "outputs": [],
   "source": [
    "set1.add(2)"
   ]
  },
  {
   "cell_type": "code",
   "execution_count": 64,
   "id": "db0b06c6",
   "metadata": {},
   "outputs": [
    {
     "data": {
      "text/plain": [
       "3"
      ]
     },
     "execution_count": 64,
     "metadata": {},
     "output_type": "execute_result"
    }
   ],
   "source": [
    "len(set1)"
   ]
  },
  {
   "cell_type": "code",
   "execution_count": 65,
   "id": "b505b26f",
   "metadata": {},
   "outputs": [
    {
     "data": {
      "text/plain": [
       "{1, 2, 3}"
      ]
     },
     "execution_count": 65,
     "metadata": {},
     "output_type": "execute_result"
    }
   ],
   "source": [
    "set1"
   ]
  },
  {
   "cell_type": "markdown",
   "id": "1a415a96",
   "metadata": {},
   "source": [
    "NOTE here first line, it has 5 values but will store only the unique once"
   ]
  },
  {
   "cell_type": "markdown",
   "id": "7f984be4",
   "metadata": {},
   "source": [
    "## Creating set"
   ]
  },
  {
   "cell_type": "markdown",
   "id": "5df80c6c",
   "metadata": {},
   "source": [
    "if you want to create an empty set."
   ]
  },
  {
   "cell_type": "code",
   "execution_count": 67,
   "id": "27a605a1",
   "metadata": {},
   "outputs": [],
   "source": [
    "a = {}"
   ]
  },
  {
   "cell_type": "code",
   "execution_count": 68,
   "id": "37be0e6c",
   "metadata": {},
   "outputs": [
    {
     "data": {
      "text/plain": [
       "dict"
      ]
     },
     "execution_count": 68,
     "metadata": {},
     "output_type": "execute_result"
    }
   ],
   "source": [
    "type(a)"
   ]
  },
  {
   "cell_type": "markdown",
   "id": "b98ba314",
   "metadata": {},
   "source": [
    "it will create a dictionary"
   ]
  },
  {
   "cell_type": "code",
   "execution_count": 70,
   "id": "f1b11731",
   "metadata": {},
   "outputs": [
    {
     "ename": "AttributeError",
     "evalue": "'dict' object has no attribute 'add'",
     "output_type": "error",
     "traceback": [
      "\u001b[1;31m---------------------------------------------------------------------------\u001b[0m",
      "\u001b[1;31mAttributeError\u001b[0m                            Traceback (most recent call last)",
      "\u001b[1;32m~\\AppData\\Local\\Temp\\ipykernel_19744\\3623472268.py\u001b[0m in \u001b[0;36m<module>\u001b[1;34m\u001b[0m\n\u001b[1;32m----> 1\u001b[1;33m \u001b[0ma\u001b[0m\u001b[1;33m.\u001b[0m\u001b[0madd\u001b[0m\u001b[1;33m(\u001b[0m\u001b[1;36m2\u001b[0m\u001b[1;33m)\u001b[0m\u001b[1;33m\u001b[0m\u001b[1;33m\u001b[0m\u001b[0m\n\u001b[0m",
      "\u001b[1;31mAttributeError\u001b[0m: 'dict' object has no attribute 'add'"
     ]
    }
   ],
   "source": [
    "a.add(2)"
   ]
  },
  {
   "cell_type": "markdown",
   "id": "050577ea",
   "metadata": {},
   "source": [
    "-- adding something will throw an error"
   ]
  },
  {
   "cell_type": "markdown",
   "id": "366379ee",
   "metadata": {},
   "source": [
    "so to create an empty set use this"
   ]
  },
  {
   "cell_type": "code",
   "execution_count": 72,
   "id": "c5ba6e47",
   "metadata": {},
   "outputs": [],
   "source": [
    "s = set()"
   ]
  },
  {
   "cell_type": "code",
   "execution_count": 73,
   "id": "05e7093e",
   "metadata": {},
   "outputs": [
    {
     "data": {
      "text/plain": [
       "set"
      ]
     },
     "execution_count": 73,
     "metadata": {},
     "output_type": "execute_result"
    }
   ],
   "source": [
    "type(s)"
   ]
  },
  {
   "cell_type": "markdown",
   "id": "914dce5f",
   "metadata": {},
   "source": [
    "## Exercise\n",
    "SUM of unique elements"
   ]
  },
  {
   "cell_type": "code",
   "execution_count": 74,
   "id": "86c51040",
   "metadata": {},
   "outputs": [],
   "source": [
    "def sumUnique(l):\n",
    "    s = set()\n",
    "    for i in l:\n",
    "        s.add(i)\n",
    "    sum=0\n",
    "    for i in s:\n",
    "        sum +=i\n",
    "    return sum"
   ]
  },
  {
   "cell_type": "code",
   "execution_count": 75,
   "id": "96ea0854",
   "metadata": {},
   "outputs": [
    {
     "data": {
      "text/plain": [
       "27"
      ]
     },
     "execution_count": 75,
     "metadata": {},
     "output_type": "execute_result"
    }
   ],
   "source": [
    "l = [2,3,4,5,5,6,7]\n",
    "sumUnique(l)"
   ]
  },
  {
   "cell_type": "markdown",
   "id": "31b34bcf",
   "metadata": {},
   "source": [
    "## Exercise 2:"
   ]
  },
  {
   "cell_type": "code",
   "execution_count": 80,
   "id": "c073a01e",
   "metadata": {},
   "outputs": [],
   "source": [
    "l = [2,3,3,334,2,34,4,55,66,78,78]"
   ]
  },
  {
   "cell_type": "code",
   "execution_count": 81,
   "id": "fdcf1569",
   "metadata": {},
   "outputs": [
    {
     "name": "stdout",
     "output_type": "stream",
     "text": [
      "3\n"
     ]
    }
   ],
   "source": [
    "s = set()\n",
    "for i in l:\n",
    "    s.add(i)\n",
    "\n",
    "len1 = len(l)-len(s)\n",
    "print(len1)"
   ]
  },
  {
   "cell_type": "markdown",
   "id": "8c3a9035",
   "metadata": {},
   "source": [
    "First non repeating character"
   ]
  },
  {
   "cell_type": "code",
   "execution_count": 82,
   "id": "1b540478",
   "metadata": {},
   "outputs": [
    {
     "name": "stdout",
     "output_type": "stream",
     "text": [
      "s : gdhlgHada\n",
      "['h', 'l', 'H']\n",
      "h\n"
     ]
    }
   ],
   "source": [
    "s = input(\"s : \")\n",
    "t = []\n",
    "for i in s:\n",
    "    t.append(i)\n",
    "\n",
    "d = {}\n",
    "unique = []\n",
    "for i in t:\n",
    "    if i in d:\n",
    "        d[i] = d[i]+1\n",
    "\n",
    "    else:\n",
    "        d[i] = 1\n",
    "\n",
    "for id,val in d.items():\n",
    "    if val==1:\n",
    "        unique.append(id)\n",
    "    \n",
    "print(unique)\n",
    "print(unique[0])"
   ]
  },
  {
   "cell_type": "markdown",
   "id": "54bd8994",
   "metadata": {},
   "source": [
    "## Exercise 2 different names"
   ]
  },
  {
   "cell_type": "code",
   "execution_count": 83,
   "id": "ca472391",
   "metadata": {},
   "outputs": [
    {
     "name": "stdout",
     "output_type": "stream",
     "text": [
      "Abhishek Harshit Ayush Iti\n",
      "-1\n"
     ]
    }
   ],
   "source": [
    "a = input()\n",
    "new = a.split()\n",
    "d ={}\n",
    "\n",
    "for i in new:\n",
    "    d[i] = d.get(i,0)+1\n",
    "var =0\n",
    "for id,pair in d.items():\n",
    "    if pair>1:\n",
    "        var =1\n",
    "        print(id, pair)\n",
    "\n",
    "if var==0:\n",
    "    print(-1)"
   ]
  },
  {
   "cell_type": "markdown",
   "id": "8b74a119",
   "metadata": {},
   "source": [
    "## Exercise 3 Even count"
   ]
  },
  {
   "cell_type": "code",
   "execution_count": 84,
   "id": "5dfd2b56",
   "metadata": {},
   "outputs": [
    {
     "name": "stdout",
     "output_type": "stream",
     "text": [
      "2 5 3 5 3 4\n",
      "{'2': 1, '5': 2, '3': 2, '4': 1}\n",
      "5\n"
     ]
    }
   ],
   "source": [
    "a = input()\n",
    "b = a.split()\n",
    "d = {}\n",
    "for i in b:\n",
    "    d[i] = d.get(i,0) + 1\n",
    "\n",
    "print(d)\n",
    "result = []\n",
    "\n",
    "bol = True\n",
    "for id,pair in d.items():\n",
    "    if pair%2==0:\n",
    "        result.append(id)\n",
    "        bol = False\n",
    "\n",
    "print(result[0])\n",
    "if bol:\n",
    "    print(-1)\n"
   ]
  },
  {
   "cell_type": "markdown",
   "id": "261d7400",
   "metadata": {},
   "source": [
    "## Exercise 4 : Unique triangle"
   ]
  },
  {
   "cell_type": "code",
   "execution_count": 85,
   "id": "00a4edd9",
   "metadata": {},
   "outputs": [
    {
     "name": "stdout",
     "output_type": "stream",
     "text": [
      "n: 5\n",
      "7 6 5\n",
      "5 7 6\n",
      "8 2 9\n",
      "2 3 4\n",
      "2 4 3\n",
      "a: [[5, 6, 7], [5, 6, 7], [2, 8, 9], [2, 3, 4], [2, 3, 4]]\n",
      "1\n",
      "{(5, 6, 7): 2, (2, 8, 9): 1, (2, 3, 4): 2}\n"
     ]
    }
   ],
   "source": [
    "n = int(input(\"n: \"))\n",
    "d = {}\n",
    "a = []\n",
    "for i in range(n):\n",
    "    temp = input()\n",
    "    temp1 = list(map(int, temp.split()))\n",
    "\n",
    "    temp1.sort()\n",
    "    a.append(temp1)\n",
    "\n",
    "for i in a:\n",
    "    key = tuple(i)  # Convert the list to a tuple\n",
    "    d[key] = d.get(key, 0) + 1\n",
    "\n",
    "result = []\n",
    "for key, pair in d.items():\n",
    "    if pair == 1:\n",
    "        result.append(key)\n",
    "    \n",
    "print(\"a:\", a)\n",
    "print(len(result))\n",
    "print(d)"
   ]
  },
  {
   "cell_type": "markdown",
   "id": "c793d714",
   "metadata": {},
   "source": [
    "### Major learnings from this:\n",
    "1. list is not hashable, means you cant use a list as a key to the dictionary, you need to convert it to a tuple, ex - key = tuple(i)\n",
    "2. we can use map function to convert the input while taking them, the rule is, whatever we are passing in map should be iterable, ie string, list, tuple etc. eg - \n",
    "str_nums = [\"1\", \"2\", \"3\", \"4\"]\n",
    "int_nums = list(map(int, str_nums))\n",
    "print(int_nums)\n",
    "or we can use it like this also,\n",
    "for i in range(n):\n",
    "    temp = input()\n",
    "    temp1 = list(map(int, temp.split()))\n",
    "\n",
    "some other way -\n",
    "int_nums = set(map(int, str_nums))\n",
    "\n",
    "or\n",
    "\n",
    "int_nums = tuple(map(int, str_nums))\n",
    "\n",
    "or\n",
    "\n",
    "words = [\"apple\", \"banana\", \"cherry\"]\n",
    "\n",
    "word_lengths = list(map(len, words))\n",
    "\n",
    "or\n",
    "\n",
    "numbers = [1, 2, 3, 4]\n",
    "\n",
    "doubled_nums = list(map(lambda x: x * 2, numbers))\n",
    "\n",
    "or\n",
    "\n",
    "numbers = [1, 2, 3, 4]\n",
    "\n",
    "squared_nums = list(map(lambda x: x ** 2, numbers))\n",
    "\n",
    "or\n",
    "\n",
    "celsius_temperatures = [0, 25, 37, 100]\n",
    "\n",
    "fahrenheit_temperatures = list(map(lambda c: (c * 9/5) + 32, celsius_temperatures))"
   ]
  },
  {
   "cell_type": "markdown",
   "id": "0f938b62",
   "metadata": {},
   "source": [
    "## Exercise with Pairs with difference K(little complicated)"
   ]
  },
  {
   "cell_type": "code",
   "execution_count": 88,
   "id": "8fabba44",
   "metadata": {},
   "outputs": [
    {
     "name": "stdout",
     "output_type": "stream",
     "text": [
      "[5, 1, 2, 4]\n",
      "[(5, 1), (5, 2), (5, 4), (1, 2), (1, 4), (2, 4)]\n",
      "5 2\n",
      "1 4\n",
      "2\n"
     ]
    }
   ],
   "source": [
    "\n",
    "k = 4\n",
    "list = [5,1,2,4]\n",
    "# list = [2,-1,3,5,6,0,-1,2,6]\n",
    "# list = [4,4,4,4]\n",
    "target = 3\n",
    "pairs = []\n",
    "\n",
    "for i in range(0,len(list)):\n",
    "    for j in range(1,len(list)):\n",
    "        if i!=j and i<=j:\n",
    "            pairs.append((list[i],list[j]))\n",
    "\n",
    "print(list)\n",
    "print(pairs)\n",
    "\n",
    "# now difference part\n",
    "count = 0\n",
    "for i in pairs:\n",
    "    check = abs(i[0]-i[1])\n",
    "    if check ==target:\n",
    "        count+=1\n",
    "        print(i[0],i[1])\n",
    "\n",
    "print(count)"
   ]
  },
  {
   "cell_type": "markdown",
   "id": "798d04e4",
   "metadata": {},
   "source": [
    "its not an optmised solution."
   ]
  },
  {
   "cell_type": "markdown",
   "id": "15157977",
   "metadata": {},
   "source": [
    "## Another way of doing it."
   ]
  },
  {
   "cell_type": "code",
   "execution_count": 90,
   "id": "7ac1b53c",
   "metadata": {},
   "outputs": [
    {
     "name": "stdout",
     "output_type": "stream",
     "text": [
      "{2: 2, -1: 2, 3: 1, 5: 1, 6: 2, 0: 1}\n",
      "yes 2 5\n",
      "2\n",
      "yes 2 -1\n",
      "4\n",
      "yes 3 6\n",
      "2\n",
      "yes 3 0\n",
      "1\n",
      "[2, 4, 2, 1]\n",
      "9\n"
     ]
    }
   ],
   "source": [
    "k = 4\n",
    "list = [2,-1,3,5,6,0,-1,2,6]\n",
    "# list = [4,4,4,4]\n",
    "target = 3\n",
    "d = {}\n",
    "\n",
    "for i in list:\n",
    "    d[i] = d.get(i,0)+1\n",
    "\n",
    "print(d)\n",
    "result = []\n",
    "#now difference part.\n",
    "for id,pair in d.items():\n",
    "    a = id+target\n",
    "    b = id-target\n",
    "    r = 0\n",
    "    if a in d and d[a]!=0:\n",
    "\n",
    "        print(\"yes\",end=\" \")\n",
    "        print(id,id+3)\n",
    "        r = d[id]*d[a]\n",
    "        print(r)\n",
    "        result.append(r)\n",
    "    \n",
    "    if b in d and d[b]!=0:\n",
    "        print(\"yes\",end=\" \")\n",
    "        print(id,id-3)\n",
    "        r = d[id]*d[b]\n",
    "        print(r)\n",
    "        result.append(r)\n",
    "    d[id] = 0\n",
    "\n",
    "print(result)\n",
    "print(sum(result))\n",
    "\n"
   ]
  },
  {
   "cell_type": "markdown",
   "id": "dfce67e8",
   "metadata": {},
   "source": [
    "## Learnings\n",
    "- you cant iterate in a dictionary while popping an item from the same dictionary in iteration.\n",
    "- instead make the value to the same dictionary 0 and then use the for loop to avoid that item."
   ]
  }
 ],
 "metadata": {
  "kernelspec": {
   "display_name": "Python 3 (ipykernel)",
   "language": "python",
   "name": "python3"
  },
  "language_info": {
   "codemirror_mode": {
    "name": "ipython",
    "version": 3
   },
   "file_extension": ".py",
   "mimetype": "text/x-python",
   "name": "python",
   "nbconvert_exporter": "python",
   "pygments_lexer": "ipython3",
   "version": "3.9.13"
  }
 },
 "nbformat": 4,
 "nbformat_minor": 5
}
