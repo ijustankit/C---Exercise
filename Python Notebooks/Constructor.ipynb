{
 "cells": [
  {
   "cell_type": "code",
   "execution_count": 1,
   "id": "2066d742",
   "metadata": {},
   "outputs": [
    {
     "name": "stdout",
     "output_type": "stream",
     "text": [
      "constructor is called\n",
      "constructor is called\n"
     ]
    }
   ],
   "source": [
    "class Student:\n",
    "    totalStudents = 20\n",
    "    classTeacherName = \"komal\"\n",
    "    \n",
    "    def __init__ (self):\n",
    "        print(\"constructor is called\")\n",
    "    \n",
    "    ##instance methods\n",
    "    def printHello(self):\n",
    "        print(\"hello\")\n",
    "        \n",
    "    def print(self, a):\n",
    "        Student.classTeacherName = a\n",
    "           \n",
    "s1 = Student()\n",
    "s2 = Student()"
   ]
  },
  {
   "cell_type": "markdown",
   "id": "5fe5c3ff",
   "metadata": {},
   "source": [
    "So if we notice here, \n",
    "- in python we define constructor like __init__(),\n",
    "- when we define something here, default constructor gets cancelled(it will still create the object)\n",
    "- so here it will print this line, when Student() constructor is called."
   ]
  },
  {
   "cell_type": "markdown",
   "id": "d9bad46c",
   "metadata": {},
   "source": [
    "Ideally, we should use this method to initialize values."
   ]
  },
  {
   "cell_type": "code",
   "execution_count": 3,
   "id": "70f56a0f",
   "metadata": {},
   "outputs": [],
   "source": [
    "class Student:\n",
    "    totalStudents = 20\n",
    "    classTeacherName = \"komal\"\n",
    "    \n",
    "    def __init__ (self):\n",
    "        self.name = \"Ankit\"\n",
    "        self.age = 10\n",
    "        self.rollNumber = 17\n",
    "    \n",
    "    ##instance methods\n",
    "    def printHello(self):\n",
    "        print(\"hello\")\n",
    "        \n",
    "    def print(self, a):\n",
    "        Student.classTeacherName = a\n",
    "           \n",
    "s1 = Student()\n",
    "s2 = Student()"
   ]
  },
  {
   "cell_type": "code",
   "execution_count": 6,
   "id": "2bc048e7",
   "metadata": {},
   "outputs": [
    {
     "name": "stdout",
     "output_type": "stream",
     "text": [
      "{'name': 'Ankit', 'age': 10, 'rollNumber': 17}\n",
      "{'name': 'Ankit', 'age': 10, 'rollNumber': 17}\n"
     ]
    }
   ],
   "source": [
    "print(s1.__dict__)\n",
    "print(s2.__dict__)"
   ]
  },
  {
   "cell_type": "markdown",
   "id": "d3f73cae",
   "metadata": {},
   "source": [
    "now usually we dont have all variables to have same value."
   ]
  },
  {
   "cell_type": "code",
   "execution_count": 8,
   "id": "a2b51759",
   "metadata": {},
   "outputs": [],
   "source": [
    "class Student:\n",
    "    totalStudents = 20\n",
    "    classTeacherName = \"komal\"\n",
    "    \n",
    "    def __init__ (self,name,age,rn):\n",
    "        self.name = name\n",
    "        self.age = age\n",
    "        self.rollNumber = rn\n",
    "    \n",
    "    ##instance methods\n",
    "    def printHello(self):\n",
    "        print(\"hello\")\n",
    "        \n",
    "    def print(self, a):\n",
    "        Student.classTeacherName = a\n",
    "           \n",
    "s1 = Student(\"rachit\",15,9)\n",
    "s2 = Student(\"sandeep\",23,90)"
   ]
  },
  {
   "cell_type": "code",
   "execution_count": 9,
   "id": "89cfffb8",
   "metadata": {},
   "outputs": [
    {
     "name": "stdout",
     "output_type": "stream",
     "text": [
      "{'name': 'rachit', 'age': 15, 'rollNumber': 9}\n",
      "{'name': 'sandeep', 'age': 23, 'rollNumber': 90}\n"
     ]
    }
   ],
   "source": [
    "print(s1.__dict__)\n",
    "print(s2.__dict__)"
   ]
  },
  {
   "cell_type": "markdown",
   "id": "a1543e9e",
   "metadata": {},
   "source": [
    "we can take default values also"
   ]
  },
  {
   "cell_type": "code",
   "execution_count": 10,
   "id": "c067975a",
   "metadata": {},
   "outputs": [],
   "source": [
    "class Student:\n",
    "    totalStudents = 20\n",
    "    classTeacherName = \"komal\"\n",
    "    \n",
    "    def __init__ (self,name,age,rn=10):\n",
    "        self.name = name\n",
    "        self.age = age\n",
    "        self.rollNumber = rn\n",
    "    \n",
    "    ##instance methods\n",
    "    def printHello(self):\n",
    "        print(\"hello\")\n",
    "        \n",
    "    def print(self, a):\n",
    "        Student.classTeacherName = a\n",
    "           \n",
    "s1 = Student(\"rachit\",15)\n",
    "s2 = Student(\"sandeep\",23,90)"
   ]
  },
  {
   "cell_type": "code",
   "execution_count": 11,
   "id": "96a9b7c7",
   "metadata": {},
   "outputs": [
    {
     "name": "stdout",
     "output_type": "stream",
     "text": [
      "{'name': 'rachit', 'age': 15, 'rollNumber': 10}\n",
      "{'name': 'sandeep', 'age': 23, 'rollNumber': 90}\n"
     ]
    }
   ],
   "source": [
    "print(s1.__dict__)\n",
    "print(s2.__dict__)"
   ]
  },
  {
   "cell_type": "markdown",
   "id": "0db475e6",
   "metadata": {},
   "source": [
    "So where we will not provide roll number it will take the default value."
   ]
  },
  {
   "cell_type": "markdown",
   "id": "97104528",
   "metadata": {},
   "source": [
    "## Python doesn't allow constructor overloading."
   ]
  },
  {
   "cell_type": "markdown",
   "id": "5d7af14a",
   "metadata": {},
   "source": [
    "Taken from GPT"
   ]
  },
  {
   "cell_type": "code",
   "execution_count": 12,
   "id": "1327550c",
   "metadata": {},
   "outputs": [
    {
     "name": "stdout",
     "output_type": "stream",
     "text": [
      "42\n",
      "10\n",
      "20\n"
     ]
    }
   ],
   "source": [
    "class MyClass:\n",
    "    def __init__(self, *args):\n",
    "        if len(args) == 1:\n",
    "            self.value = args[0]\n",
    "        elif len(args) == 2:\n",
    "            self.value1 = args[0]\n",
    "            self.value2 = args[1]\n",
    "        else:\n",
    "            raise ValueError(\"Invalid number of arguments\")\n",
    "\n",
    "# Usage examples\n",
    "obj1 = MyClass(42)\n",
    "print(obj1.value)  # Outputs: 42\n",
    "\n",
    "obj2 = MyClass(10, 20)\n",
    "print(obj2.value1)  # Outputs: 10\n",
    "print(obj2.value2)  # Outputs: 20"
   ]
  }
 ],
 "metadata": {
  "kernelspec": {
   "display_name": "Python 3 (ipykernel)",
   "language": "python",
   "name": "python3"
  },
  "language_info": {
   "codemirror_mode": {
    "name": "ipython",
    "version": 3
   },
   "file_extension": ".py",
   "mimetype": "text/x-python",
   "name": "python",
   "nbconvert_exporter": "python",
   "pygments_lexer": "ipython3",
   "version": "3.9.13"
  }
 },
 "nbformat": 4,
 "nbformat_minor": 5
}
