{
 "cells": [
  {
   "cell_type": "markdown",
   "id": "ffe1fd9f",
   "metadata": {},
   "source": [
    "NUMPY - Numerical python"
   ]
  },
  {
   "cell_type": "markdown",
   "id": "578db6f3",
   "metadata": {},
   "source": [
    "Here we can create nd array,\n",
    "means we can create 1d array 2d array and 3d array till n, litreally N.\n",
    "- less memory requirement\n",
    "- takes less time."
   ]
  },
  {
   "cell_type": "markdown",
   "id": "bb460007",
   "metadata": {},
   "source": [
    "- Consider a scenario where i have 2 arrays each having 8 items, and i want an array C which will give me the addition of both these arrays items, consecutively.\n",
    "- in normal python i'll be doing 8 iterations to achieve this task.\n",
    "- but using numpy it will complete the same task in two chunks.(it will seprate the array in two big chunks and perform one by one)\n",
    "- this process in Called, \n",
    "#### Vectorization."
   ]
  },
  {
   "cell_type": "code",
   "execution_count": 2,
   "id": "5246e214",
   "metadata": {},
   "outputs": [],
   "source": [
    "import numpy as np"
   ]
  },
  {
   "cell_type": "markdown",
   "id": "c8dc50ed",
   "metadata": {},
   "source": [
    "here we have created an alias name for numpy, rather than using things like numpy.add() we can just say np.add().\n"
   ]
  },
  {
   "cell_type": "code",
   "execution_count": 3,
   "id": "2cec38b7",
   "metadata": {},
   "outputs": [
    {
     "name": "stdout",
     "output_type": "stream",
     "text": [
      "[1, 2, 3]\n",
      "[1 2 3]\n",
      "<class 'numpy.ndarray'>\n"
     ]
    }
   ],
   "source": [
    "a = [1,2,3]\n",
    "b = np.array(a)\n",
    "\n",
    "print(a)\n",
    "print(b)\n",
    "print(type(b))"
   ]
  },
  {
   "cell_type": "markdown",
   "id": "11450351",
   "metadata": {},
   "source": [
    "we need to pass atleast one mandatory arguement, which should be \"array-like\"* in the np.array(*) function."
   ]
  },
  {
   "cell_type": "code",
   "execution_count": 4,
   "id": "648031e4",
   "metadata": {},
   "outputs": [
    {
     "name": "stdout",
     "output_type": "stream",
     "text": [
      "['1' '2' '3' '5' 'a' '4.5']\n"
     ]
    }
   ],
   "source": [
    "a = [1,2,3,'5','a',4.5]\n",
    "b = np.array(a)\n",
    "print(b)"
   ]
  },
  {
   "cell_type": "markdown",
   "id": "fe42b0e5",
   "metadata": {},
   "source": [
    "NOTE - \n",
    "- here notice all elements are passed as integer, unlike list, numpy can store only homogeneous elements, means all should be of same type,\n",
    "- so here, we are having strings also, so it converted all to string, since it is not possible to convert str to int, this is the best way it deals."
   ]
  },
  {
   "cell_type": "code",
   "execution_count": 5,
   "id": "3644b228",
   "metadata": {},
   "outputs": [
    {
     "ename": "ValueError",
     "evalue": "invalid literal for int() with base 10: 'a'",
     "output_type": "error",
     "traceback": [
      "\u001b[1;31m---------------------------------------------------------------------------\u001b[0m",
      "\u001b[1;31mValueError\u001b[0m                                Traceback (most recent call last)",
      "\u001b[1;32m~\\AppData\\Local\\Temp\\ipykernel_13992\\1092750906.py\u001b[0m in \u001b[0;36m<module>\u001b[1;34m\u001b[0m\n\u001b[0;32m      1\u001b[0m \u001b[0ma\u001b[0m \u001b[1;33m=\u001b[0m \u001b[1;33m[\u001b[0m\u001b[1;36m1\u001b[0m\u001b[1;33m,\u001b[0m\u001b[1;36m2\u001b[0m\u001b[1;33m,\u001b[0m\u001b[1;36m3\u001b[0m\u001b[1;33m,\u001b[0m\u001b[1;34m'5'\u001b[0m\u001b[1;33m,\u001b[0m\u001b[1;34m'a'\u001b[0m\u001b[1;33m,\u001b[0m\u001b[1;36m4.5\u001b[0m\u001b[1;33m]\u001b[0m\u001b[1;33m\u001b[0m\u001b[1;33m\u001b[0m\u001b[0m\n\u001b[1;32m----> 2\u001b[1;33m \u001b[0mb\u001b[0m \u001b[1;33m=\u001b[0m \u001b[0mnp\u001b[0m\u001b[1;33m.\u001b[0m\u001b[0marray\u001b[0m\u001b[1;33m(\u001b[0m\u001b[0ma\u001b[0m\u001b[1;33m,\u001b[0m \u001b[0mdtype\u001b[0m \u001b[1;33m=\u001b[0m \u001b[0mint\u001b[0m\u001b[1;33m)\u001b[0m\u001b[1;33m\u001b[0m\u001b[1;33m\u001b[0m\u001b[0m\n\u001b[0m\u001b[0;32m      3\u001b[0m \u001b[0mprint\u001b[0m\u001b[1;33m(\u001b[0m\u001b[0mb\u001b[0m\u001b[1;33m)\u001b[0m\u001b[1;33m\u001b[0m\u001b[1;33m\u001b[0m\u001b[0m\n",
      "\u001b[1;31mValueError\u001b[0m: invalid literal for int() with base 10: 'a'"
     ]
    }
   ],
   "source": [
    "  a = [1,2,3,'5','a',4.5]\n",
    "b = np.array(a, dtype = int)\n",
    "print(b)"
   ]
  },
  {
   "cell_type": "markdown",
   "id": "b07415c7",
   "metadata": {},
   "source": [
    "- we use dtype in the np.array arguement, to specify we need all elements like this.\n",
    "\n",
    "Expected error : we are trying to convert str into int."
   ]
  },
  {
   "cell_type": "code",
   "execution_count": 6,
   "id": "db06ed3c",
   "metadata": {},
   "outputs": [
    {
     "name": "stdout",
     "output_type": "stream",
     "text": [
      "[1 2 3 5 4]\n"
     ]
    }
   ],
   "source": [
    "a = [1,2,3,5,4.5]\n",
    "b = np.array(a, dtype = int)\n",
    "print(b)"
   ]
  },
  {
   "cell_type": "markdown",
   "id": "b3ea6f4b",
   "metadata": {},
   "source": [
    "It works fine here."
   ]
  },
  {
   "cell_type": "code",
   "execution_count": 7,
   "id": "613d2ef2",
   "metadata": {},
   "outputs": [
    {
     "name": "stdout",
     "output_type": "stream",
     "text": [
      "[1.  2.  3.  5.  4.5]\n"
     ]
    }
   ],
   "source": [
    " a = [1,2,3,5,4.5]\n",
    "b = np.array(a, dtype = float)\n",
    "print(b)"
   ]
  },
  {
   "cell_type": "code",
   "execution_count": 8,
   "id": "3f6342c4",
   "metadata": {},
   "outputs": [
    {
     "name": "stdout",
     "output_type": "stream",
     "text": [
      "[1 2 3 5 4 1 2 3 5 4 1 2 3 5 4]\n"
     ]
    }
   ],
   "source": [
    "a = [1,2,3,5,4.5]\n",
    "b = np.array(a *3,dtype= int)\n",
    "print(b)"
   ]
  },
  {
   "cell_type": "markdown",
   "id": "20d36207",
   "metadata": {},
   "source": [
    "np.ones()\n",
    "np.zeroes()\n",
    "np.full()\n",
    "np.empty()"
   ]
  },
  {
   "cell_type": "code",
   "execution_count": 9,
   "id": "b53040a4",
   "metadata": {},
   "outputs": [
    {
     "data": {
      "text/plain": [
       "array([1., 1., 1., 1., 1.])"
      ]
     },
     "execution_count": 9,
     "metadata": {},
     "output_type": "execute_result"
    }
   ],
   "source": [
    "b = np.ones(5)\n",
    "b"
   ]
  },
  {
   "cell_type": "markdown",
   "id": "b6bc6960",
   "metadata": {},
   "source": [
    "- so this np.ones() gives us 1's number of given times.\n",
    "- default return type = float"
   ]
  },
  {
   "cell_type": "code",
   "execution_count": 10,
   "id": "e770f6a9",
   "metadata": {},
   "outputs": [
    {
     "data": {
      "text/plain": [
       "array([1, 1, 1, 1, 1])"
      ]
     },
     "execution_count": 10,
     "metadata": {},
     "output_type": "execute_result"
    }
   ],
   "source": [
    "b = np.ones(5,dtype=int)\n",
    "b"
   ]
  },
  {
   "cell_type": "code",
   "execution_count": 11,
   "id": "714b1e0c",
   "metadata": {},
   "outputs": [
    {
     "data": {
      "text/plain": [
       "array([0., 0., 0.])"
      ]
     },
     "execution_count": 11,
     "metadata": {},
     "output_type": "execute_result"
    }
   ],
   "source": [
    "b = np.zeros(3)\n",
    "b"
   ]
  },
  {
   "cell_type": "code",
   "execution_count": 12,
   "id": "bd3a3f59",
   "metadata": {},
   "outputs": [
    {
     "data": {
      "text/plain": [
       "array([0, 0, 0])"
      ]
     },
     "execution_count": 12,
     "metadata": {},
     "output_type": "execute_result"
    }
   ],
   "source": [
    "b = np.zeros(3,dtype = int)\n",
    "b"
   ]
  },
  {
   "cell_type": "code",
   "execution_count": 13,
   "id": "82bf610f",
   "metadata": {},
   "outputs": [
    {
     "data": {
      "text/plain": [
       "array([[1, 1, 1],\n",
       "       [1, 1, 1]])"
      ]
     },
     "execution_count": 13,
     "metadata": {},
     "output_type": "execute_result"
    }
   ],
   "source": [
    "b = np.ones((2,3),dtype=int)\n",
    "b"
   ]
  },
  {
   "cell_type": "code",
   "execution_count": 14,
   "id": "0678546f",
   "metadata": {},
   "outputs": [
    {
     "data": {
      "text/plain": [
       "array([[0., 0., 0., 0.],\n",
       "       [0., 0., 0., 0.],\n",
       "       [0., 0., 0., 0.]])"
      ]
     },
     "execution_count": 14,
     "metadata": {},
     "output_type": "execute_result"
    }
   ],
   "source": [
    "b = np.zeros((3,4))\n",
    "b"
   ]
  },
  {
   "cell_type": "code",
   "execution_count": 15,
   "id": "7700689c",
   "metadata": {},
   "outputs": [
    {
     "data": {
      "text/plain": [
       "array([[0, 0, 0, 0],\n",
       "       [0, 0, 0, 0],\n",
       "       [0, 0, 0, 0]])"
      ]
     },
     "execution_count": 15,
     "metadata": {},
     "output_type": "execute_result"
    }
   ],
   "source": [
    "b = np.zeros((3,4),dtype=int)\n",
    "b"
   ]
  },
  {
   "cell_type": "code",
   "execution_count": 16,
   "id": "a3f126a9",
   "metadata": {},
   "outputs": [
    {
     "ename": "TypeError",
     "evalue": "full() missing 1 required positional argument: 'fill_value'",
     "output_type": "error",
     "traceback": [
      "\u001b[1;31m---------------------------------------------------------------------------\u001b[0m",
      "\u001b[1;31mTypeError\u001b[0m                                 Traceback (most recent call last)",
      "\u001b[1;32m~\\AppData\\Local\\Temp\\ipykernel_13992\\2619917574.py\u001b[0m in \u001b[0;36m<module>\u001b[1;34m\u001b[0m\n\u001b[1;32m----> 1\u001b[1;33m \u001b[0mb\u001b[0m \u001b[1;33m=\u001b[0m \u001b[0mnp\u001b[0m\u001b[1;33m.\u001b[0m\u001b[0mfull\u001b[0m\u001b[1;33m(\u001b[0m\u001b[1;36m3\u001b[0m\u001b[1;33m)\u001b[0m\u001b[1;33m\u001b[0m\u001b[1;33m\u001b[0m\u001b[0m\n\u001b[0m\u001b[0;32m      2\u001b[0m \u001b[0mb\u001b[0m\u001b[1;33m\u001b[0m\u001b[1;33m\u001b[0m\u001b[0m\n",
      "\u001b[1;31mTypeError\u001b[0m: full() missing 1 required positional argument: 'fill_value'"
     ]
    }
   ],
   "source": [
    "b = np.full(3)\n",
    "b"
   ]
  },
  {
   "cell_type": "code",
   "execution_count": 17,
   "id": "9fe998a9",
   "metadata": {},
   "outputs": [
    {
     "data": {
      "text/plain": [
       "array([2, 2, 2])"
      ]
     },
     "execution_count": 17,
     "metadata": {},
     "output_type": "execute_result"
    }
   ],
   "source": [
    "b = np.full(3,2)\n",
    "b"
   ]
  },
  {
   "cell_type": "code",
   "execution_count": 18,
   "id": "26113c87",
   "metadata": {},
   "outputs": [
    {
     "data": {
      "text/plain": [
       "array([[2, 2, 2, 2],\n",
       "       [2, 2, 2, 2],\n",
       "       [2, 2, 2, 2]])"
      ]
     },
     "execution_count": 18,
     "metadata": {},
     "output_type": "execute_result"
    }
   ],
   "source": [
    "b = np.full((3,4),2)\n",
    "b"
   ]
  },
  {
   "cell_type": "markdown",
   "id": "33e38ce3",
   "metadata": {},
   "source": [
    "np.empty()"
   ]
  },
  {
   "cell_type": "markdown",
   "id": "2aae9417",
   "metadata": {},
   "source": [
    "#### GPT"
   ]
  },
  {
   "cell_type": "code",
   "execution_count": 19,
   "id": "2d53bc87",
   "metadata": {},
   "outputs": [
    {
     "name": "stdout",
     "output_type": "stream",
     "text": [
      "[[0. 0. 0. 0.]\n",
      " [0. 0. 0. 0.]\n",
      " [0. 0. 0. 0.]]\n"
     ]
    }
   ],
   "source": [
    "import numpy as np\n",
    "\n",
    "# Create an empty array with a specified shape\n",
    "empty_array = np.empty((3, 4))  # Creates a 3x4 array\n",
    "\n",
    "print(empty_array)\n"
   ]
  },
  {
   "cell_type": "markdown",
   "id": "dc450d73",
   "metadata": {},
   "source": [
    "- So what happens, it creates a array which given x*y size but fill it with any garbage value.(anything random, in this case we get zero, but other session could be anything)"
   ]
  },
  {
   "cell_type": "code",
   "execution_count": 20,
   "id": "e59482f5",
   "metadata": {},
   "outputs": [
    {
     "name": "stdout",
     "output_type": "stream",
     "text": [
      "[[1 2 3]\n",
      " [4 5 6]\n",
      " [7 8 9]]\n",
      "<class 'numpy.ndarray'>\n"
     ]
    }
   ],
   "source": [
    "a = [[1,2,3],[4,5,6],[7,8,9]]\n",
    "b = np.array(a)\n",
    "\n",
    "print(b)\n",
    "print(type(b))"
   ]
  },
  {
   "cell_type": "markdown",
   "id": "0fd2c042",
   "metadata": {},
   "source": [
    "### Few more methods to create numpy arrays"
   ]
  },
  {
   "cell_type": "code",
   "execution_count": 3,
   "id": "656184cf",
   "metadata": {},
   "outputs": [
    {
     "name": "stdout",
     "output_type": "stream",
     "text": [
      "[0 1 2 3 4]\n"
     ]
    }
   ],
   "source": [
    "a = np.arange(5)\n",
    "print(a)"
   ]
  },
  {
   "cell_type": "code",
   "execution_count": 22,
   "id": "b9924ea6",
   "metadata": {},
   "outputs": [
    {
     "data": {
      "text/plain": [
       "array([5, 7, 9])"
      ]
     },
     "execution_count": 22,
     "metadata": {},
     "output_type": "execute_result"
    }
   ],
   "source": [
    "a = np.arange(5,10,2)\n",
    "a"
   ]
  },
  {
   "cell_type": "markdown",
   "id": "d8a7dc37",
   "metadata": {},
   "source": [
    "so it just returns 5 to 9 with step of 2"
   ]
  },
  {
   "cell_type": "markdown",
   "id": "209fef02",
   "metadata": {},
   "source": [
    "### numpy.linspace()"
   ]
  },
  {
   "cell_type": "code",
   "execution_count": 23,
   "id": "54ea7958",
   "metadata": {},
   "outputs": [
    {
     "data": {
      "text/plain": [
       "array([ 1.,  2.,  3.,  4.,  5.,  6.,  7.,  8.,  9., 10., 11., 12., 13.,\n",
       "       14., 15., 16., 17., 18., 19., 20., 21., 22., 23., 24., 25., 26.,\n",
       "       27., 28., 29., 30., 31., 32., 33., 34., 35., 36., 37., 38., 39.,\n",
       "       40., 41., 42., 43., 44., 45., 46., 47., 48., 49., 50.])"
      ]
     },
     "execution_count": 23,
     "metadata": {},
     "output_type": "execute_result"
    }
   ],
   "source": [
    "b = np.linspace(1,50)\n",
    "b"
   ]
  },
  {
   "cell_type": "markdown",
   "id": "48ec3924",
   "metadata": {},
   "source": [
    "- So it generated (start,end, sample_size(optional))\n",
    "- default sample size - 50"
   ]
  },
  {
   "cell_type": "code",
   "execution_count": 24,
   "id": "e219fff6",
   "metadata": {},
   "outputs": [
    {
     "data": {
      "text/plain": [
       "array([ 1.        ,  6.44444444, 11.88888889, 17.33333333, 22.77777778,\n",
       "       28.22222222, 33.66666667, 39.11111111, 44.55555556, 50.        ])"
      ]
     },
     "execution_count": 24,
     "metadata": {},
     "output_type": "execute_result"
    }
   ],
   "source": [
    "b = np.linspace(1,50,10)\n",
    "b"
   ]
  },
  {
   "cell_type": "markdown",
   "id": "b6e07c09",
   "metadata": {},
   "source": [
    "i wanted 10 values between 1 to 50. it gave me according to the sample size.\n",
    "- just given 10 values which are at equal distance"
   ]
  },
  {
   "cell_type": "code",
   "execution_count": 25,
   "id": "bc625e8e",
   "metadata": {},
   "outputs": [
    {
     "data": {
      "text/plain": [
       "array([ 1,  6, 11, 17, 22, 28, 33, 39, 44, 50])"
      ]
     },
     "execution_count": 25,
     "metadata": {},
     "output_type": "execute_result"
    }
   ],
   "source": [
    "b = np.linspace(1,50,10,dtype=int)\n",
    "b"
   ]
  },
  {
   "cell_type": "markdown",
   "id": "b5943c6e",
   "metadata": {},
   "source": [
    "There is a function which gives us the opion to include or exclue last given range point."
   ]
  },
  {
   "cell_type": "code",
   "execution_count": 27,
   "id": "af1ec87a",
   "metadata": {},
   "outputs": [
    {
     "data": {
      "text/plain": [
       "array([ 1,  6, 11, 17, 22, 28, 33, 39, 44, 50])"
      ]
     },
     "execution_count": 27,
     "metadata": {},
     "output_type": "execute_result"
    }
   ],
   "source": [
    "b = np.linspace(1,50,10,dtype=int,endpoint=True)\n",
    "b"
   ]
  },
  {
   "cell_type": "code",
   "execution_count": 28,
   "id": "13962187",
   "metadata": {},
   "outputs": [
    {
     "data": {
      "text/plain": [
       "array([ 1,  5, 10, 15, 20, 25, 30, 35, 40, 45])"
      ]
     },
     "execution_count": 28,
     "metadata": {},
     "output_type": "execute_result"
    }
   ],
   "source": [
    "b = np.linspace(1,50,10,dtype=int,endpoint=False)\n",
    "b"
   ]
  },
  {
   "cell_type": "markdown",
   "id": "b0b2222b",
   "metadata": {},
   "source": [
    "See it ignores the last point, which is 50."
   ]
  },
  {
   "cell_type": "markdown",
   "id": "90893190",
   "metadata": {},
   "source": [
    "- Now we have two kind of similar function\n",
    "- np.identity()\n",
    "- np.eye()"
   ]
  },
  {
   "cell_type": "code",
   "execution_count": 30,
   "id": "7509654a",
   "metadata": {},
   "outputs": [
    {
     "data": {
      "text/plain": [
       "array([[1., 0., 0., 0.],\n",
       "       [0., 1., 0., 0.],\n",
       "       [0., 0., 1., 0.],\n",
       "       [0., 0., 0., 1.]])"
      ]
     },
     "execution_count": 30,
     "metadata": {},
     "output_type": "execute_result"
    }
   ],
   "source": [
    "b = np.identity(4)\n",
    "b"
   ]
  },
  {
   "cell_type": "markdown",
   "id": "2f6e4517",
   "metadata": {},
   "source": [
    "- it will give me a square matrix of given number.\n",
    "- accepts one arguement"
   ]
  },
  {
   "cell_type": "code",
   "execution_count": 31,
   "id": "b8351e30",
   "metadata": {},
   "outputs": [
    {
     "data": {
      "text/plain": [
       "array([[1., 0., 0., 0.],\n",
       "       [0., 1., 0., 0.],\n",
       "       [0., 0., 1., 0.],\n",
       "       [0., 0., 0., 1.]])"
      ]
     },
     "execution_count": 31,
     "metadata": {},
     "output_type": "execute_result"
    }
   ],
   "source": [
    "b = np.eye(4)\n",
    "b"
   ]
  },
  {
   "cell_type": "code",
   "execution_count": 33,
   "id": "de0258b6",
   "metadata": {},
   "outputs": [
    {
     "data": {
      "text/plain": [
       "array([[1., 0., 0.],\n",
       "       [0., 1., 0.],\n",
       "       [0., 0., 1.],\n",
       "       [0., 0., 0.]])"
      ]
     },
     "execution_count": 33,
     "metadata": {},
     "output_type": "execute_result"
    }
   ],
   "source": [
    "b = np.eye(4,3)\n",
    "b"
   ]
  },
  {
   "cell_type": "markdown",
   "id": "78a6bddd",
   "metadata": {},
   "source": [
    "this eye function can take more than one arguement, x*y for example"
   ]
  },
  {
   "cell_type": "code",
   "execution_count": 35,
   "id": "e8b14650",
   "metadata": {},
   "outputs": [
    {
     "ename": "TypeError",
     "evalue": "Cannot interpret '3' as a data type",
     "output_type": "error",
     "traceback": [
      "\u001b[1;31m---------------------------------------------------------------------------\u001b[0m",
      "\u001b[1;31mTypeError\u001b[0m                                 Traceback (most recent call last)",
      "\u001b[1;32m~\\AppData\\Local\\Temp\\ipykernel_13992\\586170024.py\u001b[0m in \u001b[0;36m<module>\u001b[1;34m\u001b[0m\n\u001b[1;32m----> 1\u001b[1;33m \u001b[0mb\u001b[0m \u001b[1;33m=\u001b[0m \u001b[0mnp\u001b[0m\u001b[1;33m.\u001b[0m\u001b[0midentity\u001b[0m\u001b[1;33m(\u001b[0m\u001b[1;36m4\u001b[0m\u001b[1;33m,\u001b[0m\u001b[1;36m3\u001b[0m\u001b[1;33m)\u001b[0m\u001b[1;33m\u001b[0m\u001b[1;33m\u001b[0m\u001b[0m\n\u001b[0m\u001b[0;32m      2\u001b[0m \u001b[0mb\u001b[0m\u001b[1;33m\u001b[0m\u001b[1;33m\u001b[0m\u001b[0m\n",
      "\u001b[1;32m~\\anaconda3\\lib\\site-packages\\numpy\\core\\numeric.py\u001b[0m in \u001b[0;36midentity\u001b[1;34m(n, dtype, like)\u001b[0m\n\u001b[0;32m   2165\u001b[0m \u001b[1;33m\u001b[0m\u001b[0m\n\u001b[0;32m   2166\u001b[0m     \u001b[1;32mfrom\u001b[0m \u001b[0mnumpy\u001b[0m \u001b[1;32mimport\u001b[0m \u001b[0meye\u001b[0m\u001b[1;33m\u001b[0m\u001b[1;33m\u001b[0m\u001b[0m\n\u001b[1;32m-> 2167\u001b[1;33m     \u001b[1;32mreturn\u001b[0m \u001b[0meye\u001b[0m\u001b[1;33m(\u001b[0m\u001b[0mn\u001b[0m\u001b[1;33m,\u001b[0m \u001b[0mdtype\u001b[0m\u001b[1;33m=\u001b[0m\u001b[0mdtype\u001b[0m\u001b[1;33m,\u001b[0m \u001b[0mlike\u001b[0m\u001b[1;33m=\u001b[0m\u001b[0mlike\u001b[0m\u001b[1;33m)\u001b[0m\u001b[1;33m\u001b[0m\u001b[1;33m\u001b[0m\u001b[0m\n\u001b[0m\u001b[0;32m   2168\u001b[0m \u001b[1;33m\u001b[0m\u001b[0m\n\u001b[0;32m   2169\u001b[0m \u001b[1;33m\u001b[0m\u001b[0m\n",
      "\u001b[1;32m~\\anaconda3\\lib\\site-packages\\numpy\\lib\\twodim_base.py\u001b[0m in \u001b[0;36meye\u001b[1;34m(N, M, k, dtype, order, like)\u001b[0m\n\u001b[0;32m    212\u001b[0m     \u001b[1;32mif\u001b[0m \u001b[0mM\u001b[0m \u001b[1;32mis\u001b[0m \u001b[1;32mNone\u001b[0m\u001b[1;33m:\u001b[0m\u001b[1;33m\u001b[0m\u001b[1;33m\u001b[0m\u001b[0m\n\u001b[0;32m    213\u001b[0m         \u001b[0mM\u001b[0m \u001b[1;33m=\u001b[0m \u001b[0mN\u001b[0m\u001b[1;33m\u001b[0m\u001b[1;33m\u001b[0m\u001b[0m\n\u001b[1;32m--> 214\u001b[1;33m     \u001b[0mm\u001b[0m \u001b[1;33m=\u001b[0m \u001b[0mzeros\u001b[0m\u001b[1;33m(\u001b[0m\u001b[1;33m(\u001b[0m\u001b[0mN\u001b[0m\u001b[1;33m,\u001b[0m \u001b[0mM\u001b[0m\u001b[1;33m)\u001b[0m\u001b[1;33m,\u001b[0m \u001b[0mdtype\u001b[0m\u001b[1;33m=\u001b[0m\u001b[0mdtype\u001b[0m\u001b[1;33m,\u001b[0m \u001b[0morder\u001b[0m\u001b[1;33m=\u001b[0m\u001b[0morder\u001b[0m\u001b[1;33m)\u001b[0m\u001b[1;33m\u001b[0m\u001b[1;33m\u001b[0m\u001b[0m\n\u001b[0m\u001b[0;32m    215\u001b[0m     \u001b[1;32mif\u001b[0m \u001b[0mk\u001b[0m \u001b[1;33m>=\u001b[0m \u001b[0mM\u001b[0m\u001b[1;33m:\u001b[0m\u001b[1;33m\u001b[0m\u001b[1;33m\u001b[0m\u001b[0m\n\u001b[0;32m    216\u001b[0m         \u001b[1;32mreturn\u001b[0m \u001b[0mm\u001b[0m\u001b[1;33m\u001b[0m\u001b[1;33m\u001b[0m\u001b[0m\n",
      "\u001b[1;31mTypeError\u001b[0m: Cannot interpret '3' as a data type"
     ]
    }
   ],
   "source": [
    "b = np.identity(4,3)\n",
    "b"
   ]
  },
  {
   "cell_type": "markdown",
   "id": "bcc223ad",
   "metadata": {},
   "source": [
    "Identity cant take it"
   ]
  },
  {
   "cell_type": "markdown",
   "id": "7892fb9d",
   "metadata": {},
   "source": [
    "## Random Function"
   ]
  },
  {
   "cell_type": "code",
   "execution_count": 37,
   "id": "4beee1a5",
   "metadata": {},
   "outputs": [
    {
     "data": {
      "text/plain": [
       "array([0.47783267, 0.37471414, 0.23068984])"
      ]
     },
     "execution_count": 37,
     "metadata": {},
     "output_type": "execute_result"
    }
   ],
   "source": [
    "b = np.random.rand(3)\n",
    "b"
   ]
  },
  {
   "cell_type": "markdown",
   "id": "1243086a",
   "metadata": {},
   "source": [
    "It gives me an array of size 3, which has random values between,\n",
    "## 0-1"
   ]
  },
  {
   "cell_type": "code",
   "execution_count": 38,
   "id": "77ce8292",
   "metadata": {},
   "outputs": [
    {
     "data": {
      "text/plain": [
       "array([0.11054885, 0.29213841, 0.81386528])"
      ]
     },
     "execution_count": 38,
     "metadata": {},
     "output_type": "execute_result"
    }
   ],
   "source": [
    "b = np.random.rand(3)\n",
    "b"
   ]
  },
  {
   "cell_type": "markdown",
   "id": "22ae47dc",
   "metadata": {},
   "source": [
    "see everytime it gives different values"
   ]
  },
  {
   "cell_type": "code",
   "execution_count": 40,
   "id": "a841c4e2",
   "metadata": {},
   "outputs": [
    {
     "data": {
      "text/plain": [
       "array([[0.01395721, 0.58884254, 0.79049661],\n",
       "       [0.41800476, 0.68138772, 0.15251308]])"
      ]
     },
     "execution_count": 40,
     "metadata": {},
     "output_type": "execute_result"
    }
   ],
   "source": [
    "b = np.random.rand(2,3)\n",
    "b"
   ]
  },
  {
   "cell_type": "markdown",
   "id": "2c692aa7",
   "metadata": {},
   "source": [
    "- we can give multiple arguements also"
   ]
  },
  {
   "cell_type": "markdown",
   "id": "6dd30f78",
   "metadata": {},
   "source": [
    "lets try creating an array of size 10, which has values from 0-15"
   ]
  },
  {
   "cell_type": "code",
   "execution_count": 44,
   "id": "ac4dd409",
   "metadata": {},
   "outputs": [
    {
     "data": {
      "text/plain": [
       "array([4.02326711, 3.34334212, 9.64054419, 6.8193558 , 1.97127779,\n",
       "       5.89667075, 9.93034486, 5.37160021, 5.26312077, 6.45469516])"
      ]
     },
     "execution_count": 44,
     "metadata": {},
     "output_type": "execute_result"
    }
   ],
   "source": [
    "b = np.random.rand(10)*10\n",
    "b"
   ]
  },
  {
   "cell_type": "markdown",
   "id": "47ccf29c",
   "metadata": {},
   "source": [
    "I tried but cant convert these to int,\n",
    "- used dtype\n",
    "- added int in front\n",
    "nothing worked"
   ]
  },
  {
   "cell_type": "code",
   "execution_count": 53,
   "id": "d993b96b",
   "metadata": {},
   "outputs": [
    {
     "name": "stdout",
     "output_type": "stream",
     "text": [
      "[4 3 9 6 1 5 9 5 5 6]\n"
     ]
    }
   ],
   "source": [
    "import numpy as np\n",
    "\n",
    "# Sample array with floating-point numbers\n",
    "original_array = np.array([4.02326711, 3.34334212, 9.64054419, 6.8193558, 1.97127779, 5.89667075, 9.93034486, 5.37160021, 5.26312077, 6.45469516])\n",
    "\n",
    "# Convert each element to int\n",
    "integer_array = original_array.astype(int)\n",
    "\n",
    "# Print the resulting integer array\n",
    "print(integer_array)\n"
   ]
  },
  {
   "cell_type": "markdown",
   "id": "d1c5a271",
   "metadata": {},
   "source": [
    "NOTE - it only works for numpy array."
   ]
  },
  {
   "cell_type": "markdown",
   "id": "ceae42c4",
   "metadata": {},
   "source": [
    "- if we had a list then?"
   ]
  },
  {
   "cell_type": "code",
   "execution_count": 52,
   "id": "697920d9",
   "metadata": {},
   "outputs": [
    {
     "name": "stdout",
     "output_type": "stream",
     "text": [
      "[4, 3, 9, 6, 1, 5, 9, 5, 5, 6]\n"
     ]
    }
   ],
   "source": [
    "# Sample list with floating-point numbers\n",
    "original_list = [4.02326711, 3.34334212, 9.64054419, 6.8193558, 1.97127779, 5.89667075, 9.93034486, 5.37160021, 5.26312077, 6.45469516]\n",
    "\n",
    "# Convert each element to int using list comprehension\n",
    "integer_list = [int(x) for x in original_list]\n",
    "\n",
    "# Print the resulting integer list\n",
    "print(integer_list)\n"
   ]
  },
  {
   "cell_type": "markdown",
   "id": "48daaad2",
   "metadata": {},
   "source": [
    "#### np.random.randint()"
   ]
  },
  {
   "cell_type": "code",
   "execution_count": 46,
   "id": "77554914",
   "metadata": {},
   "outputs": [
    {
     "data": {
      "text/plain": [
       "array([[48, 22, 36, 51, 72],\n",
       "       [64, 85, 16, 31, 64],\n",
       "       [41, 76, 71, 57, 74],\n",
       "       [57,  8, 89, 14, 81],\n",
       "       [ 1, 49, 34, 39, 49]])"
      ]
     },
     "execution_count": 46,
     "metadata": {},
     "output_type": "execute_result"
    }
   ],
   "source": [
    "random_array = np.random.randint(1, 100, size=(5, 5))\n",
    "random_array"
   ]
  },
  {
   "cell_type": "code",
   "execution_count": 47,
   "id": "8efcbc28",
   "metadata": {},
   "outputs": [
    {
     "data": {
      "text/plain": [
       "array([61, 41])"
      ]
     },
     "execution_count": 47,
     "metadata": {},
     "output_type": "execute_result"
    }
   ],
   "source": [
    "random_array = np.random.randint(1, 100, size=2)\n",
    "random_array"
   ]
  },
  {
   "cell_type": "code",
   "execution_count": 51,
   "id": "b553ca93",
   "metadata": {},
   "outputs": [
    {
     "name": "stdout",
     "output_type": "stream",
     "text": [
      "0\n",
      "[[19 47 95 73 94]\n",
      " [ 3 82 58 20 50]\n",
      " [29 38 22 58 49]\n",
      " [68 14  5 24 54]\n",
      " [93 56 50 13 44]]\n",
      "1\n"
     ]
    }
   ],
   "source": [
    "import numpy as np\n",
    "\n",
    "# Generate a random integer between a low (inclusive) and high (exclusive) value\n",
    "# random_integer1 = np.random.randint(low, high, size)\n",
    "# random_integer1\n",
    "\n",
    "# Example 1: Generate a random integer between 0 (inclusive) and 10 (exclusive)\n",
    "random_number2 = np.random.randint(0, 10)\n",
    "print(random_number2)\n",
    "\n",
    "# Example 2: Generate an array of random integers between 1 (inclusive) and 100 (exclusive) of size 5x5\n",
    "random_array3 = np.random.randint(1, 100, size=(5, 5))\n",
    "print(random_array3)\n",
    "\n",
    "# Example 3: Generate a single random integer between 0 (inclusive) and 2 (exclusive)\n",
    "random_binary4 = np.random.randint(0, 2)\n",
    "print(random_binary4)"
   ]
  },
  {
   "cell_type": "markdown",
   "id": "92b57866",
   "metadata": {},
   "source": [
    "Exercise : mcq"
   ]
  },
  {
   "cell_type": "code",
   "execution_count": 55,
   "id": "7f233a1f",
   "metadata": {},
   "outputs": [
    {
     "data": {
      "text/plain": [
       "(4,)"
      ]
     },
     "execution_count": 55,
     "metadata": {},
     "output_type": "execute_result"
    }
   ],
   "source": [
    "a = np.array([0, 1, 2, 3])\n",
    "a.shape"
   ]
  },
  {
   "cell_type": "markdown",
   "id": "0f2a9d98",
   "metadata": {},
   "source": [
    " In NumPy, the shape of an array is represented as a tuple where each element of the tuple corresponds to the size of one dimension of the array."
   ]
  },
  {
   "cell_type": "code",
   "execution_count": 56,
   "id": "a90090cc",
   "metadata": {},
   "outputs": [
    {
     "data": {
      "text/plain": [
       "0.6738436675469052"
      ]
     },
     "execution_count": 56,
     "metadata": {},
     "output_type": "execute_result"
    }
   ],
   "source": [
    "np.random.rand()"
   ]
  },
  {
   "cell_type": "code",
   "execution_count": 57,
   "id": "de096bfd",
   "metadata": {},
   "outputs": [
    {
     "data": {
      "text/plain": [
       "array([ 9, 10, 11, 12, 13, 14, 15, 16, 17, 18, 19, 20, 21, 22, 23, 24, 25,\n",
       "       26, 27, 28, 29, 30, 31, 32, 33, 34, 35, 36, 37, 38, 39, 40, 41, 42,\n",
       "       43, 44, 45, 46, 47, 48, 49])"
      ]
     },
     "execution_count": 57,
     "metadata": {},
     "output_type": "execute_result"
    }
   ],
   "source": [
    "a = np.arange(9,50)\n",
    "a"
   ]
  },
  {
   "cell_type": "code",
   "execution_count": 60,
   "id": "9f3772a3",
   "metadata": {},
   "outputs": [
    {
     "data": {
      "text/plain": [
       "array([[1., 0., 0., 0., 0., 0.],\n",
       "       [0., 1., 0., 0., 0., 0.],\n",
       "       [0., 0., 1., 0., 0., 0.],\n",
       "       [0., 0., 0., 1., 0., 0.],\n",
       "       [0., 0., 0., 0., 1., 0.]])"
      ]
     },
     "execution_count": 60,
     "metadata": {},
     "output_type": "execute_result"
    }
   ],
   "source": [
    "a = np.eye(5,6)\n",
    "a"
   ]
  },
  {
   "cell_type": "code",
   "execution_count": 10,
   "id": "d3443ca4",
   "metadata": {},
   "outputs": [
    {
     "data": {
      "text/plain": [
       "[0.0, 0.56, 1.11, 1.67, 2.22, 2.78, 3.33, 3.89, 4.44, 5.0]"
      ]
     },
     "execution_count": 10,
     "metadata": {},
     "output_type": "execute_result"
    }
   ],
   "source": [
    "a = np.linspace(0,5,10)\n",
    "a = [round(x,2) for x in a]\n",
    "a"
   ]
  },
  {
   "cell_type": "code",
   "execution_count": 12,
   "id": "cc447901",
   "metadata": {},
   "outputs": [
    {
     "data": {
      "text/plain": [
       "array([[1., 0., 0., 0., 0., 0.],\n",
       "       [0., 1., 0., 0., 0., 0.],\n",
       "       [0., 0., 1., 0., 0., 0.],\n",
       "       [0., 0., 0., 1., 0., 0.],\n",
       "       [0., 0., 0., 0., 1., 0.]])"
      ]
     },
     "execution_count": 12,
     "metadata": {},
     "output_type": "execute_result"
    }
   ],
   "source": [
    "a = np.eye(5,6)\n",
    "a"
   ]
  },
  {
   "cell_type": "code",
   "execution_count": 17,
   "id": "c65472a3",
   "metadata": {},
   "outputs": [
    {
     "data": {
      "text/plain": [
       "array([[0.        , 5.        ],\n",
       "       [0.16326531, 5.06122449],\n",
       "       [0.32653061, 5.12244898],\n",
       "       [0.48979592, 5.18367347],\n",
       "       [0.65306122, 5.24489796],\n",
       "       [0.81632653, 5.30612245],\n",
       "       [0.97959184, 5.36734694],\n",
       "       [1.14285714, 5.42857143],\n",
       "       [1.30612245, 5.48979592],\n",
       "       [1.46938776, 5.55102041],\n",
       "       [1.63265306, 5.6122449 ],\n",
       "       [1.79591837, 5.67346939],\n",
       "       [1.95918367, 5.73469388],\n",
       "       [2.12244898, 5.79591837],\n",
       "       [2.28571429, 5.85714286],\n",
       "       [2.44897959, 5.91836735],\n",
       "       [2.6122449 , 5.97959184],\n",
       "       [2.7755102 , 6.04081633],\n",
       "       [2.93877551, 6.10204082],\n",
       "       [3.10204082, 6.16326531],\n",
       "       [3.26530612, 6.2244898 ],\n",
       "       [3.42857143, 6.28571429],\n",
       "       [3.59183673, 6.34693878],\n",
       "       [3.75510204, 6.40816327],\n",
       "       [3.91836735, 6.46938776],\n",
       "       [4.08163265, 6.53061224],\n",
       "       [4.24489796, 6.59183673],\n",
       "       [4.40816327, 6.65306122],\n",
       "       [4.57142857, 6.71428571],\n",
       "       [4.73469388, 6.7755102 ],\n",
       "       [4.89795918, 6.83673469],\n",
       "       [5.06122449, 6.89795918],\n",
       "       [5.2244898 , 6.95918367],\n",
       "       [5.3877551 , 7.02040816],\n",
       "       [5.55102041, 7.08163265],\n",
       "       [5.71428571, 7.14285714],\n",
       "       [5.87755102, 7.20408163],\n",
       "       [6.04081633, 7.26530612],\n",
       "       [6.20408163, 7.32653061],\n",
       "       [6.36734694, 7.3877551 ],\n",
       "       [6.53061224, 7.44897959],\n",
       "       [6.69387755, 7.51020408],\n",
       "       [6.85714286, 7.57142857],\n",
       "       [7.02040816, 7.63265306],\n",
       "       [7.18367347, 7.69387755],\n",
       "       [7.34693878, 7.75510204],\n",
       "       [7.51020408, 7.81632653],\n",
       "       [7.67346939, 7.87755102],\n",
       "       [7.83673469, 7.93877551],\n",
       "       [8.        , 8.        ]])"
      ]
     },
     "execution_count": 17,
     "metadata": {},
     "output_type": "execute_result"
    }
   ],
   "source": [
    "a = np.linspace((0,5),8)\n",
    "a"
   ]
  },
  {
   "cell_type": "code",
   "execution_count": 21,
   "id": "6bd1d9f0",
   "metadata": {},
   "outputs": [
    {
     "data": {
      "text/plain": [
       "array([0.   , 0.625, 1.25 , 1.875, 2.5  , 3.125, 3.75 , 4.375, 5.   ])"
      ]
     },
     "execution_count": 21,
     "metadata": {},
     "output_type": "execute_result"
    }
   ],
   "source": [
    "a = np.linspace(0,5,9)\n",
    "a"
   ]
  },
  {
   "cell_type": "code",
   "execution_count": 28,
   "id": "d857c551",
   "metadata": {},
   "outputs": [
    {
     "name": "stdout",
     "output_type": "stream",
     "text": [
      "[ 1.  2.  3.  4.  5.  6.  7.  8.  9. 10.]\n"
     ]
    }
   ],
   "source": [
    "import numpy as np\n",
    "\n",
    "# Generate an array of 10 evenly spaced values between 0 and 1 (inclusive)\n",
    "arr = np.linspace(1, 10, 10)\n",
    "\n",
    "print(arr)\n"
   ]
  },
  {
   "cell_type": "code",
   "execution_count": 30,
   "id": "7e2f81b0",
   "metadata": {},
   "outputs": [
    {
     "name": "stdout",
     "output_type": "stream",
     "text": [
      "Array: [0.         0.11111111 0.22222222 0.33333333 0.44444444 0.55555556\n",
      " 0.66666667 0.77777778 0.88888889 1.        ]\n",
      "Step size: 0.1111111111111111\n"
     ]
    }
   ],
   "source": [
    "arr, step = np.linspace(0, 1, 10, retstep=True)\n",
    "print(\"Array:\", arr)\n",
    "print(\"Step size:\", step)\n"
   ]
  },
  {
   "cell_type": "markdown",
   "id": "6a89a143",
   "metadata": {},
   "source": [
    "by using retstep it will give the stepsize."
   ]
  },
  {
   "cell_type": "code",
   "execution_count": 39,
   "id": "41a0a46e",
   "metadata": {},
   "outputs": [
    {
     "name": "stdout",
     "output_type": "stream",
     "text": [
      "[0.0, 0.56, 1.11, 1.67, 2.22, 2.78, 3.33, 3.89, 4.44, 5.0]\n",
      "0.5555555555555556\n"
     ]
    }
   ],
   "source": [
    "a,step = np.linspace(0,5,10,retstep = True)\n",
    "x = [round(z,2) for z in a]\n",
    "print(x)\n",
    "print(step)"
   ]
  }
 ],
 "metadata": {
  "kernelspec": {
   "display_name": "Python 3 (ipykernel)",
   "language": "python",
   "name": "python3"
  },
  "language_info": {
   "codemirror_mode": {
    "name": "ipython",
    "version": 3
   },
   "file_extension": ".py",
   "mimetype": "text/x-python",
   "name": "python",
   "nbconvert_exporter": "python",
   "pygments_lexer": "ipython3",
   "version": "3.9.13"
  }
 },
 "nbformat": 4,
 "nbformat_minor": 5
}
