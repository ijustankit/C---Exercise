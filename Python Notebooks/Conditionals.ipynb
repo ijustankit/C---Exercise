{
 "cells": [
  {
   "cell_type": "markdown",
   "id": "00dca106",
   "metadata": {},
   "source": [
    "## Boolean Datatype\n",
    "Only Two values, True and False."
   ]
  },
  {
   "cell_type": "code",
   "execution_count": 1,
   "id": "6294d658",
   "metadata": {},
   "outputs": [
    {
     "data": {
      "text/plain": [
       "bool"
      ]
     },
     "execution_count": 1,
     "metadata": {},
     "output_type": "execute_result"
    }
   ],
   "source": [
    "a = True\n",
    "b = False\n",
    "type(b)"
   ]
  },
  {
   "cell_type": "code",
   "execution_count": 2,
   "id": "2cbe7796",
   "metadata": {},
   "outputs": [
    {
     "name": "stdout",
     "output_type": "stream",
     "text": [
      "True\n",
      "False\n",
      "True\n",
      "False\n",
      "False\n",
      "True\n"
     ]
    }
   ],
   "source": [
    "a = 15\n",
    "b = 6\n",
    "\n",
    "print(a>b)          #a is greater than b.\n",
    "print(a<b)          #a is smaller than b.\n",
    "print(a>=b)         #a is greater or equal to b.\n",
    "print(a<=b)        #a is smaller or equal to b.\n",
    "print(a==b)        # to check if a is equal to b.\n",
    "print(a!=b)        #check if a is not equal to b."
   ]
  },
  {
   "cell_type": "code",
   "execution_count": 25,
   "id": "a6ade74b",
   "metadata": {},
   "outputs": [
    {
     "name": "stdout",
     "output_type": "stream",
     "text": [
      "yes\n",
      "no\n",
      "Sorry, Next time.\n"
     ]
    }
   ],
   "source": [
    "holidayStatus = input()\n",
    "trainSlot = input()\n",
    "if((holidayStatus ==\"True\") and (trainSlot == \"True\")):\n",
    "    print(\"Plan is On\")\n",
    "else:\n",
    "    print(\"Sorry, Next time.\")"
   ]
  },
  {
   "cell_type": "code",
   "execution_count": 12,
   "id": "92969164",
   "metadata": {},
   "outputs": [
    {
     "name": "stdout",
     "output_type": "stream",
     "text": [
      "True\n",
      "False\n",
      "True\n"
     ]
    }
   ],
   "source": [
    "c1 = a > 20\n",
    "c2 = a <18\n",
    "z = c1 or c2\n",
    "print(z)\n",
    "z  = c1 and c2\n",
    "print(z)\n",
    "r3 = not (z)         #reverse the value of z\n",
    "print(r3)"
   ]
  },
  {
   "cell_type": "markdown",
   "id": "50ae4453",
   "metadata": {},
   "source": [
    "## IF ELSE"
   ]
  },
  {
   "cell_type": "code",
   "execution_count": 27,
   "id": "ca149006",
   "metadata": {},
   "outputs": [
    {
     "name": "stdout",
     "output_type": "stream",
     "text": [
      "i am inside if.\n"
     ]
    }
   ],
   "source": [
    "a = True\n",
    "if a:\n",
    "    print(\"i am inside if.\")\n",
    "else: \n",
    "    print(\"i am inside else.\")"
   ]
  },
  {
   "cell_type": "code",
   "execution_count": 1,
   "id": "8d794507",
   "metadata": {},
   "outputs": [
    {
     "name": "stdout",
     "output_type": "stream",
     "text": [
      "yes\n",
      "True\n"
     ]
    },
    {
     "data": {
      "text/plain": [
       "bool"
      ]
     },
     "execution_count": 1,
     "metadata": {},
     "output_type": "execute_result"
    }
   ],
   "source": [
    "a = bool(input())\n",
    "print(a)\n",
    "type(a)"
   ]
  },
  {
   "cell_type": "markdown",
   "id": "68821f75",
   "metadata": {},
   "source": [
    "## Even ODD function"
   ]
  },
  {
   "cell_type": "code",
   "execution_count": 54,
   "id": "791b827a",
   "metadata": {},
   "outputs": [
    {
     "name": "stdout",
     "output_type": "stream",
     "text": [
      "15\n",
      "15 is ODD\n"
     ]
    }
   ],
   "source": [
    "num = int(input())\n",
    "if (num<=0):\n",
    "        print(\"Enter Valid Value\")\n",
    "if (num>=1):\n",
    "    if (num%2==0):\n",
    "        print(num,\"is EVEN\")\n",
    "    \n",
    "    else:\n",
    "        print(num,\"is ODD\")"
   ]
  },
  {
   "cell_type": "markdown",
   "id": "9b16f555",
   "metadata": {},
   "source": [
    "## ELIF"
   ]
  },
  {
   "cell_type": "code",
   "execution_count": 59,
   "id": "b8d0c92d",
   "metadata": {
    "scrolled": true
   },
   "outputs": [
    {
     "name": "stdout",
     "output_type": "stream",
     "text": [
      "if works\n"
     ]
    }
   ],
   "source": [
    "a = 10\n",
    "if a>9:\n",
    "    print (\"if works\")\n",
    "elif a>1:\n",
    "    print(\"Elif Works\")\n",
    "else:\n",
    "    print(\"Fuck it\")"
   ]
  },
  {
   "cell_type": "code",
   "execution_count": 64,
   "id": "d307a944",
   "metadata": {
    "scrolled": true
   },
   "outputs": [
    {
     "name": "stdout",
     "output_type": "stream",
     "text": [
      "a :2\n",
      "b :2\n",
      "c :1\n",
      "2 which is a, is the largest among 2 2 1\n"
     ]
    }
   ],
   "source": [
    "a = int(input(\"a :\"))\n",
    "b = int(input(\"b :\"))\n",
    "c = int(input(\"c :\"))\n",
    "if (a>=b) and (a>=c):\n",
    "    print(a,\"which is a, is the largest among\",a,b,c)\n",
    "elif(b>=a) and (b>=c):\n",
    "    print(b,\"which is b is the largest among\",a,b,c)\n",
    "else:\n",
    "    print(c,\"which is c is the largest among\",a,b,c)"
   ]
  },
  {
   "cell_type": "code",
   "execution_count": 69,
   "id": "a89b48f0",
   "metadata": {},
   "outputs": [
    {
     "name": "stdout",
     "output_type": "stream",
     "text": [
      "1\n",
      "2\n",
      "3\n",
      "4\n",
      "5\n",
      "6\n",
      "7\n",
      "8\n",
      "9\n"
     ]
    }
   ],
   "source": [
    "n = 1\n",
    "while(n!=10):\n",
    "    print(n)\n",
    "    n=n+1"
   ]
  },
  {
   "cell_type": "code",
   "execution_count": 32,
   "id": "3b61b9a8",
   "metadata": {},
   "outputs": [
    {
     "name": "stdout",
     "output_type": "stream",
     "text": [
      "10\n",
      "not prime\n"
     ]
    }
   ],
   "source": [
    "num = int(input())\n",
    "i = 2\n",
    "bool = True\n",
    "\n",
    "while(i<=(num/2)):\n",
    "    if(num%i==0):\n",
    "        bool = False\n",
    "    i = i+1\n",
    "\n",
    "if bool:\n",
    "    print(\"Prime\")\n",
    "else:\n",
    "    print(\"not prime\")"
   ]
  },
  {
   "cell_type": "code",
   "execution_count": 35,
   "id": "99a52335",
   "metadata": {},
   "outputs": [
    {
     "name": "stdout",
     "output_type": "stream",
     "text": [
      "50\n",
      "2 is prime\n",
      "3 is prime\n",
      "5 is prime\n",
      "7 is prime\n",
      "11 is prime\n",
      "13 is prime\n",
      "17 is prime\n",
      "19 is prime\n",
      "23 is prime\n",
      "29 is prime\n",
      "31 is prime\n",
      "37 is prime\n",
      "41 is prime\n",
      "43 is prime\n",
      "47 is prime\n"
     ]
    }
   ],
   "source": [
    "num = int(input())\n",
    "new = 2\n",
    "while(new<num):\n",
    "    i = 2\n",
    "    bool = False\n",
    "\n",
    "    while(i<=(new/2)):\n",
    "        if(new%i==0):\n",
    "            bool = True\n",
    "        i=i+1\n",
    "    if not(bool):\n",
    "        print(new, \"is prime\")\n",
    "    \n",
    "    new = new+1"
   ]
  },
  {
   "cell_type": "markdown",
   "id": "1fdb6955",
   "metadata": {},
   "source": [
    "### Sum of the numbers from 1 to n"
   ]
  },
  {
   "cell_type": "code",
   "execution_count": 42,
   "id": "52fb7688",
   "metadata": {},
   "outputs": [
    {
     "name": "stdout",
     "output_type": "stream",
     "text": [
      "5\n",
      "total sum : 15\n"
     ]
    }
   ],
   "source": [
    "number  = int(input())\n",
    "i = 1\n",
    "result = 0\n",
    "while(i<=number):\n",
    "    result = result+i\n",
    "    i = i + 1\n",
    "    \n",
    "print(\"total sum :\",result)"
   ]
  },
  {
   "cell_type": "code",
   "execution_count": 50,
   "id": "4ad5e5b5",
   "metadata": {},
   "outputs": [
    {
     "name": "stdout",
     "output_type": "stream",
     "text": [
      "15\n",
      "2\n",
      "4\n",
      "6\n",
      "8\n",
      "10\n",
      "12\n",
      "14\n",
      "result : 56\n"
     ]
    }
   ],
   "source": [
    "pronumber = int(input())\n",
    "d = 1\n",
    "result = 0\n",
    "while(d<=pronumber):\n",
    "    if(d%2==0):\n",
    "        print(d)\n",
    "        result = result + d\n",
    "    d = d+1\n",
    "\n",
    "print(\"result :\",result)\n",
    "    \n"
   ]
  },
  {
   "cell_type": "code",
   "execution_count": 59,
   "id": "56728ac6",
   "metadata": {},
   "outputs": [
    {
     "name": "stdout",
     "output_type": "stream",
     "text": [
      "125\n",
      "521\n"
     ]
    }
   ],
   "source": [
    "number = int(input())\n",
    "result = 0\n",
    "while(number>0):\n",
    "    remainder = number%10\n",
    "    result = result*10 + remainder\n",
    "    number = number//10\n",
    "    \n",
    "print(result)\n"
   ]
  },
  {
   "cell_type": "markdown",
   "id": "2f860855",
   "metadata": {},
   "source": [
    "## For loop"
   ]
  },
  {
   "cell_type": "code",
   "execution_count": 2,
   "id": "4271a0e6",
   "metadata": {},
   "outputs": [
    {
     "name": "stdout",
     "output_type": "stream",
     "text": [
      "1\n",
      "2\n",
      "3423\n",
      "23\n",
      "5\n",
      "562\n",
      "6\n",
      "63\n",
      "57\n",
      "8\n",
      "46786\n"
     ]
    }
   ],
   "source": [
    "a = [1,2,3423,23,5,562,6,63,57,8,46786]\n",
    "for i in a:\n",
    "    print(i)\n"
   ]
  },
  {
   "cell_type": "code",
   "execution_count": 2,
   "id": "3d40b45a",
   "metadata": {},
   "outputs": [
    {
     "name": "stdout",
     "output_type": "stream",
     "text": [
      "a\n",
      "b\n",
      "c\n",
      "n\n",
      "j\n",
      "k\n",
      "s\n",
      "e\n",
      "n\n",
      "f\n",
      "k\n",
      "s\n",
      "w\n",
      "e\n",
      "k\n",
      "f\n"
     ]
    }
   ],
   "source": [
    "s = \"abcnjksenfkswekf\"\n",
    "for a in s:\n",
    "    print(a)"
   ]
  },
  {
   "cell_type": "code",
   "execution_count": 10,
   "id": "f736d6dd",
   "metadata": {},
   "outputs": [
    {
     "name": "stdout",
     "output_type": "stream",
     "text": [
      "Ankit0\n",
      "Ankit1\n",
      "Ankit2\n",
      "Ankit3\n",
      "Ankit4\n"
     ]
    }
   ],
   "source": [
    " for i in range(5):\n",
    "    print(\"Ankit\",end=\"\")\n",
    "    print(i)"
   ]
  },
  {
   "cell_type": "code",
   "execution_count": 11,
   "id": "dabe6b19",
   "metadata": {},
   "outputs": [
    {
     "name": "stdout",
     "output_type": "stream",
     "text": [
      "100\n",
      "0\n",
      "3\n",
      "6\n",
      "9\n",
      "12\n",
      "15\n",
      "18\n",
      "21\n",
      "24\n",
      "27\n",
      "30\n",
      "33\n",
      "36\n",
      "39\n",
      "42\n",
      "45\n",
      "48\n",
      "51\n",
      "54\n",
      "57\n",
      "60\n",
      "63\n",
      "66\n",
      "69\n",
      "72\n",
      "75\n",
      "78\n",
      "81\n",
      "84\n",
      "87\n",
      "90\n",
      "93\n",
      "96\n",
      "99\n"
     ]
    }
   ],
   "source": [
    "num = int(input())\n",
    "for i in range(0,100,3):\n",
    "    print(i)"
   ]
  },
  {
   "cell_type": "markdown",
   "id": "a23d4e78",
   "metadata": {},
   "source": [
    "## While - Else and for else"
   ]
  },
  {
   "cell_type": "code",
   "execution_count": 19,
   "id": "7919085e",
   "metadata": {},
   "outputs": [
    {
     "name": "stdout",
     "output_type": "stream",
     "text": [
      "ankit 0\n",
      "ankit 1\n",
      "ankit 2\n",
      "ankit 3\n",
      "ankit 4\n",
      "ankit 5\n"
     ]
    }
   ],
   "source": [
    "for i in range(10):\n",
    "    print(\"ankit\",i)\n",
    "    if i==5:\n",
    "        break\n",
    "else:\n",
    "    print(\"not supposed to print\")"
   ]
  },
  {
   "cell_type": "code",
   "execution_count": 22,
   "id": "34ecf887",
   "metadata": {},
   "outputs": [
    {
     "name": "stdout",
     "output_type": "stream",
     "text": [
      "0\n",
      "1\n",
      "2\n",
      "3\n",
      "4\n",
      "6\n",
      "7\n",
      "8\n",
      "9\n"
     ]
    }
   ],
   "source": [
    "for i in range(10):\n",
    "    if(i==5):\n",
    "        continue\n",
    "    print(i)"
   ]
  },
  {
   "cell_type": "code",
   "execution_count": 25,
   "id": "e5a5122a",
   "metadata": {},
   "outputs": [
    {
     "name": "stdout",
     "output_type": "stream",
     "text": [
      "1 2 "
     ]
    },
    {
     "ename": "KeyboardInterrupt",
     "evalue": "",
     "output_type": "error",
     "traceback": [
      "\u001b[1;31m---------------------------------------------------------------------------\u001b[0m",
      "\u001b[1;31mKeyboardInterrupt\u001b[0m                         Traceback (most recent call last)",
      "\u001b[1;32m~\\AppData\\Local\\Temp\\ipykernel_5208\\2474064178.py\u001b[0m in \u001b[0;36m<module>\u001b[1;34m\u001b[0m\n\u001b[0;32m      1\u001b[0m \u001b[0mi\u001b[0m \u001b[1;33m=\u001b[0m \u001b[1;36m1\u001b[0m\u001b[1;33m\u001b[0m\u001b[1;33m\u001b[0m\u001b[0m\n\u001b[1;32m----> 2\u001b[1;33m \u001b[1;32mwhile\u001b[0m \u001b[0mi\u001b[0m\u001b[1;33m<\u001b[0m\u001b[1;36m5\u001b[0m\u001b[1;33m:\u001b[0m\u001b[1;33m\u001b[0m\u001b[1;33m\u001b[0m\u001b[0m\n\u001b[0m\u001b[0;32m      3\u001b[0m     \u001b[1;32mif\u001b[0m \u001b[0mi\u001b[0m \u001b[1;33m==\u001b[0m\u001b[1;36m3\u001b[0m\u001b[1;33m:\u001b[0m\u001b[1;33m\u001b[0m\u001b[1;33m\u001b[0m\u001b[0m\n\u001b[0;32m      4\u001b[0m         \u001b[1;32mcontinue\u001b[0m\u001b[1;33m\u001b[0m\u001b[1;33m\u001b[0m\u001b[0m\n\u001b[0;32m      5\u001b[0m     \u001b[0mprint\u001b[0m\u001b[1;33m(\u001b[0m\u001b[0mi\u001b[0m\u001b[1;33m,\u001b[0m\u001b[0mend\u001b[0m\u001b[1;33m=\u001b[0m\u001b[1;34m\" \"\u001b[0m\u001b[1;33m)\u001b[0m\u001b[1;33m\u001b[0m\u001b[1;33m\u001b[0m\u001b[0m\n",
      "\u001b[1;31mKeyboardInterrupt\u001b[0m: "
     ]
    }
   ],
   "source": [
    "i = 1\n",
    "while i<5:\n",
    "    if i ==3:\n",
    "        continue\n",
    "    print(i,end=\" \")\n",
    "    i = i+1"
   ]
  },
  {
   "cell_type": "code",
   "execution_count": 26,
   "id": "95648cc8",
   "metadata": {},
   "outputs": [
    {
     "name": "stdout",
     "output_type": "stream",
     "text": [
      "worked for  0\n",
      "worked for  1\n",
      "worked for  2\n",
      "worked for  3\n",
      "worked for  4\n",
      "worked for  5\n",
      "worked for  6\n",
      "worked for  7\n",
      "worked for  8\n",
      "worked for  10\n",
      "worked for  11\n",
      "worked for  12\n",
      "worked for  13\n",
      "worked for  14\n"
     ]
    }
   ],
   "source": [
    "for i in range(15):\n",
    "    if i ==9:\n",
    "        continue\n",
    "    print(\"worked for \",i)"
   ]
  }
 ],
 "metadata": {
  "kernelspec": {
   "display_name": "Python 3 (ipykernel)",
   "language": "python",
   "name": "python3"
  },
  "language_info": {
   "codemirror_mode": {
    "name": "ipython",
    "version": 3
   },
   "file_extension": ".py",
   "mimetype": "text/x-python",
   "name": "python",
   "nbconvert_exporter": "python",
   "pygments_lexer": "ipython3",
   "version": "3.9.13"
  }
 },
 "nbformat": 4,
 "nbformat_minor": 5
}
